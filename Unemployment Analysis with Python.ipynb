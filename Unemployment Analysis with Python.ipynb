{
 "cells": [
  {
   "cell_type": "code",
   "execution_count": 10,
   "id": "1837a3a3",
   "metadata": {},
   "outputs": [],
   "source": [
    "import numpy as np\n",
    "import pandas as pd\n",
    "import matplotlib.pyplot as plt\n",
    "import seaborn as sns"
   ]
  },
  {
   "cell_type": "code",
   "execution_count": 11,
   "id": "6cfecec5",
   "metadata": {},
   "outputs": [
    {
     "data": {
      "text/html": [
       "<div>\n",
       "<style scoped>\n",
       "    .dataframe tbody tr th:only-of-type {\n",
       "        vertical-align: middle;\n",
       "    }\n",
       "\n",
       "    .dataframe tbody tr th {\n",
       "        vertical-align: top;\n",
       "    }\n",
       "\n",
       "    .dataframe thead th {\n",
       "        text-align: right;\n",
       "    }\n",
       "</style>\n",
       "<table border=\"1\" class=\"dataframe\">\n",
       "  <thead>\n",
       "    <tr style=\"text-align: right;\">\n",
       "      <th></th>\n",
       "      <th>Region</th>\n",
       "      <th>Date</th>\n",
       "      <th>Frequency</th>\n",
       "      <th>Estimated Unemployment Rate (%)</th>\n",
       "      <th>Estimated Employed</th>\n",
       "      <th>Estimated Labour Participation Rate (%)</th>\n",
       "      <th>Area</th>\n",
       "    </tr>\n",
       "  </thead>\n",
       "  <tbody>\n",
       "    <tr>\n",
       "      <th>0</th>\n",
       "      <td>Andhra Pradesh</td>\n",
       "      <td>31-05-2019</td>\n",
       "      <td>Monthly</td>\n",
       "      <td>3.65</td>\n",
       "      <td>11999139.0</td>\n",
       "      <td>43.24</td>\n",
       "      <td>Rural</td>\n",
       "    </tr>\n",
       "    <tr>\n",
       "      <th>1</th>\n",
       "      <td>Andhra Pradesh</td>\n",
       "      <td>30-06-2019</td>\n",
       "      <td>Monthly</td>\n",
       "      <td>3.05</td>\n",
       "      <td>11755881.0</td>\n",
       "      <td>42.05</td>\n",
       "      <td>Rural</td>\n",
       "    </tr>\n",
       "    <tr>\n",
       "      <th>2</th>\n",
       "      <td>Andhra Pradesh</td>\n",
       "      <td>31-07-2019</td>\n",
       "      <td>Monthly</td>\n",
       "      <td>3.75</td>\n",
       "      <td>12086707.0</td>\n",
       "      <td>43.50</td>\n",
       "      <td>Rural</td>\n",
       "    </tr>\n",
       "    <tr>\n",
       "      <th>3</th>\n",
       "      <td>Andhra Pradesh</td>\n",
       "      <td>31-08-2019</td>\n",
       "      <td>Monthly</td>\n",
       "      <td>3.32</td>\n",
       "      <td>12285693.0</td>\n",
       "      <td>43.97</td>\n",
       "      <td>Rural</td>\n",
       "    </tr>\n",
       "    <tr>\n",
       "      <th>4</th>\n",
       "      <td>Andhra Pradesh</td>\n",
       "      <td>30-09-2019</td>\n",
       "      <td>Monthly</td>\n",
       "      <td>5.17</td>\n",
       "      <td>12256762.0</td>\n",
       "      <td>44.68</td>\n",
       "      <td>Rural</td>\n",
       "    </tr>\n",
       "    <tr>\n",
       "      <th>...</th>\n",
       "      <td>...</td>\n",
       "      <td>...</td>\n",
       "      <td>...</td>\n",
       "      <td>...</td>\n",
       "      <td>...</td>\n",
       "      <td>...</td>\n",
       "      <td>...</td>\n",
       "    </tr>\n",
       "    <tr>\n",
       "      <th>763</th>\n",
       "      <td>NaN</td>\n",
       "      <td>NaN</td>\n",
       "      <td>NaN</td>\n",
       "      <td>NaN</td>\n",
       "      <td>NaN</td>\n",
       "      <td>NaN</td>\n",
       "      <td>NaN</td>\n",
       "    </tr>\n",
       "    <tr>\n",
       "      <th>764</th>\n",
       "      <td>NaN</td>\n",
       "      <td>NaN</td>\n",
       "      <td>NaN</td>\n",
       "      <td>NaN</td>\n",
       "      <td>NaN</td>\n",
       "      <td>NaN</td>\n",
       "      <td>NaN</td>\n",
       "    </tr>\n",
       "    <tr>\n",
       "      <th>765</th>\n",
       "      <td>NaN</td>\n",
       "      <td>NaN</td>\n",
       "      <td>NaN</td>\n",
       "      <td>NaN</td>\n",
       "      <td>NaN</td>\n",
       "      <td>NaN</td>\n",
       "      <td>NaN</td>\n",
       "    </tr>\n",
       "    <tr>\n",
       "      <th>766</th>\n",
       "      <td>NaN</td>\n",
       "      <td>NaN</td>\n",
       "      <td>NaN</td>\n",
       "      <td>NaN</td>\n",
       "      <td>NaN</td>\n",
       "      <td>NaN</td>\n",
       "      <td>NaN</td>\n",
       "    </tr>\n",
       "    <tr>\n",
       "      <th>767</th>\n",
       "      <td>NaN</td>\n",
       "      <td>NaN</td>\n",
       "      <td>NaN</td>\n",
       "      <td>NaN</td>\n",
       "      <td>NaN</td>\n",
       "      <td>NaN</td>\n",
       "      <td>NaN</td>\n",
       "    </tr>\n",
       "  </tbody>\n",
       "</table>\n",
       "<p>768 rows × 7 columns</p>\n",
       "</div>"
      ],
      "text/plain": [
       "             Region         Date  Frequency   Estimated Unemployment Rate (%)  \\\n",
       "0    Andhra Pradesh   31-05-2019    Monthly                              3.65   \n",
       "1    Andhra Pradesh   30-06-2019    Monthly                              3.05   \n",
       "2    Andhra Pradesh   31-07-2019    Monthly                              3.75   \n",
       "3    Andhra Pradesh   31-08-2019    Monthly                              3.32   \n",
       "4    Andhra Pradesh   30-09-2019    Monthly                              5.17   \n",
       "..              ...          ...        ...                               ...   \n",
       "763             NaN          NaN        NaN                               NaN   \n",
       "764             NaN          NaN        NaN                               NaN   \n",
       "765             NaN          NaN        NaN                               NaN   \n",
       "766             NaN          NaN        NaN                               NaN   \n",
       "767             NaN          NaN        NaN                               NaN   \n",
       "\n",
       "      Estimated Employed   Estimated Labour Participation Rate (%)   Area  \n",
       "0             11999139.0                                     43.24  Rural  \n",
       "1             11755881.0                                     42.05  Rural  \n",
       "2             12086707.0                                     43.50  Rural  \n",
       "3             12285693.0                                     43.97  Rural  \n",
       "4             12256762.0                                     44.68  Rural  \n",
       "..                   ...                                       ...    ...  \n",
       "763                  NaN                                       NaN    NaN  \n",
       "764                  NaN                                       NaN    NaN  \n",
       "765                  NaN                                       NaN    NaN  \n",
       "766                  NaN                                       NaN    NaN  \n",
       "767                  NaN                                       NaN    NaN  \n",
       "\n",
       "[768 rows x 7 columns]"
      ]
     },
     "execution_count": 11,
     "metadata": {},
     "output_type": "execute_result"
    }
   ],
   "source": [
    "df = pd.read_csv(\"C:/Users/meetu/Downloads/Unemployment in India.csv\")\n",
    "df"
   ]
  },
  {
   "cell_type": "code",
   "execution_count": 12,
   "id": "734a595b",
   "metadata": {},
   "outputs": [
    {
     "name": "stdout",
     "output_type": "stream",
     "text": [
      "<class 'pandas.core.frame.DataFrame'>\n",
      "RangeIndex: 768 entries, 0 to 767\n",
      "Data columns (total 7 columns):\n",
      " #   Column                                    Non-Null Count  Dtype  \n",
      "---  ------                                    --------------  -----  \n",
      " 0   Region                                    740 non-null    object \n",
      " 1    Date                                     740 non-null    object \n",
      " 2    Frequency                                740 non-null    object \n",
      " 3    Estimated Unemployment Rate (%)          740 non-null    float64\n",
      " 4    Estimated Employed                       740 non-null    float64\n",
      " 5    Estimated Labour Participation Rate (%)  740 non-null    float64\n",
      " 6   Area                                      740 non-null    object \n",
      "dtypes: float64(3), object(4)\n",
      "memory usage: 42.1+ KB\n"
     ]
    }
   ],
   "source": [
    "df.info()"
   ]
  },
  {
   "cell_type": "code",
   "execution_count": 13,
   "id": "a85a195b",
   "metadata": {},
   "outputs": [
    {
     "data": {
      "text/html": [
       "<div>\n",
       "<style scoped>\n",
       "    .dataframe tbody tr th:only-of-type {\n",
       "        vertical-align: middle;\n",
       "    }\n",
       "\n",
       "    .dataframe tbody tr th {\n",
       "        vertical-align: top;\n",
       "    }\n",
       "\n",
       "    .dataframe thead th {\n",
       "        text-align: right;\n",
       "    }\n",
       "</style>\n",
       "<table border=\"1\" class=\"dataframe\">\n",
       "  <thead>\n",
       "    <tr style=\"text-align: right;\">\n",
       "      <th></th>\n",
       "      <th>Region</th>\n",
       "      <th>Date</th>\n",
       "      <th>Frequency</th>\n",
       "      <th>Estimated Unemployment Rate (%)</th>\n",
       "      <th>Estimated Employed</th>\n",
       "      <th>Estimated Labour Participation Rate (%)</th>\n",
       "      <th>Area</th>\n",
       "    </tr>\n",
       "  </thead>\n",
       "  <tbody>\n",
       "    <tr>\n",
       "      <th>0</th>\n",
       "      <td>Andhra Pradesh</td>\n",
       "      <td>31-05-2019</td>\n",
       "      <td>Monthly</td>\n",
       "      <td>3.65</td>\n",
       "      <td>11999139.0</td>\n",
       "      <td>43.24</td>\n",
       "      <td>Rural</td>\n",
       "    </tr>\n",
       "    <tr>\n",
       "      <th>1</th>\n",
       "      <td>Andhra Pradesh</td>\n",
       "      <td>30-06-2019</td>\n",
       "      <td>Monthly</td>\n",
       "      <td>3.05</td>\n",
       "      <td>11755881.0</td>\n",
       "      <td>42.05</td>\n",
       "      <td>Rural</td>\n",
       "    </tr>\n",
       "    <tr>\n",
       "      <th>2</th>\n",
       "      <td>Andhra Pradesh</td>\n",
       "      <td>31-07-2019</td>\n",
       "      <td>Monthly</td>\n",
       "      <td>3.75</td>\n",
       "      <td>12086707.0</td>\n",
       "      <td>43.50</td>\n",
       "      <td>Rural</td>\n",
       "    </tr>\n",
       "    <tr>\n",
       "      <th>3</th>\n",
       "      <td>Andhra Pradesh</td>\n",
       "      <td>31-08-2019</td>\n",
       "      <td>Monthly</td>\n",
       "      <td>3.32</td>\n",
       "      <td>12285693.0</td>\n",
       "      <td>43.97</td>\n",
       "      <td>Rural</td>\n",
       "    </tr>\n",
       "    <tr>\n",
       "      <th>4</th>\n",
       "      <td>Andhra Pradesh</td>\n",
       "      <td>30-09-2019</td>\n",
       "      <td>Monthly</td>\n",
       "      <td>5.17</td>\n",
       "      <td>12256762.0</td>\n",
       "      <td>44.68</td>\n",
       "      <td>Rural</td>\n",
       "    </tr>\n",
       "    <tr>\n",
       "      <th>...</th>\n",
       "      <td>...</td>\n",
       "      <td>...</td>\n",
       "      <td>...</td>\n",
       "      <td>...</td>\n",
       "      <td>...</td>\n",
       "      <td>...</td>\n",
       "      <td>...</td>\n",
       "    </tr>\n",
       "    <tr>\n",
       "      <th>735</th>\n",
       "      <td>West Bengal</td>\n",
       "      <td>29-02-2020</td>\n",
       "      <td>Monthly</td>\n",
       "      <td>7.55</td>\n",
       "      <td>10871168.0</td>\n",
       "      <td>44.09</td>\n",
       "      <td>Urban</td>\n",
       "    </tr>\n",
       "    <tr>\n",
       "      <th>736</th>\n",
       "      <td>West Bengal</td>\n",
       "      <td>31-03-2020</td>\n",
       "      <td>Monthly</td>\n",
       "      <td>6.67</td>\n",
       "      <td>10806105.0</td>\n",
       "      <td>43.34</td>\n",
       "      <td>Urban</td>\n",
       "    </tr>\n",
       "    <tr>\n",
       "      <th>737</th>\n",
       "      <td>West Bengal</td>\n",
       "      <td>30-04-2020</td>\n",
       "      <td>Monthly</td>\n",
       "      <td>15.63</td>\n",
       "      <td>9299466.0</td>\n",
       "      <td>41.20</td>\n",
       "      <td>Urban</td>\n",
       "    </tr>\n",
       "    <tr>\n",
       "      <th>738</th>\n",
       "      <td>West Bengal</td>\n",
       "      <td>31-05-2020</td>\n",
       "      <td>Monthly</td>\n",
       "      <td>15.22</td>\n",
       "      <td>9240903.0</td>\n",
       "      <td>40.67</td>\n",
       "      <td>Urban</td>\n",
       "    </tr>\n",
       "    <tr>\n",
       "      <th>739</th>\n",
       "      <td>West Bengal</td>\n",
       "      <td>30-06-2020</td>\n",
       "      <td>Monthly</td>\n",
       "      <td>9.86</td>\n",
       "      <td>9088931.0</td>\n",
       "      <td>37.57</td>\n",
       "      <td>Urban</td>\n",
       "    </tr>\n",
       "  </tbody>\n",
       "</table>\n",
       "<p>740 rows × 7 columns</p>\n",
       "</div>"
      ],
      "text/plain": [
       "             Region         Date  Frequency   Estimated Unemployment Rate (%)  \\\n",
       "0    Andhra Pradesh   31-05-2019    Monthly                              3.65   \n",
       "1    Andhra Pradesh   30-06-2019    Monthly                              3.05   \n",
       "2    Andhra Pradesh   31-07-2019    Monthly                              3.75   \n",
       "3    Andhra Pradesh   31-08-2019    Monthly                              3.32   \n",
       "4    Andhra Pradesh   30-09-2019    Monthly                              5.17   \n",
       "..              ...          ...        ...                               ...   \n",
       "735     West Bengal   29-02-2020    Monthly                              7.55   \n",
       "736     West Bengal   31-03-2020    Monthly                              6.67   \n",
       "737     West Bengal   30-04-2020    Monthly                             15.63   \n",
       "738     West Bengal   31-05-2020    Monthly                             15.22   \n",
       "739     West Bengal   30-06-2020    Monthly                              9.86   \n",
       "\n",
       "      Estimated Employed   Estimated Labour Participation Rate (%)   Area  \n",
       "0             11999139.0                                     43.24  Rural  \n",
       "1             11755881.0                                     42.05  Rural  \n",
       "2             12086707.0                                     43.50  Rural  \n",
       "3             12285693.0                                     43.97  Rural  \n",
       "4             12256762.0                                     44.68  Rural  \n",
       "..                   ...                                       ...    ...  \n",
       "735           10871168.0                                     44.09  Urban  \n",
       "736           10806105.0                                     43.34  Urban  \n",
       "737            9299466.0                                     41.20  Urban  \n",
       "738            9240903.0                                     40.67  Urban  \n",
       "739            9088931.0                                     37.57  Urban  \n",
       "\n",
       "[740 rows x 7 columns]"
      ]
     },
     "execution_count": 13,
     "metadata": {},
     "output_type": "execute_result"
    }
   ],
   "source": [
    "df = df.dropna(how = 'all')\n",
    "df = df.reset_index(drop = True)\n",
    "df"
   ]
  },
  {
   "cell_type": "code",
   "execution_count": 25,
   "id": "1ac41885",
   "metadata": {},
   "outputs": [
    {
     "data": {
      "image/png": "[encoded data removed]",
      "text/plain": [
       "<Figure size 640x480 with 1 Axes>"
      ]
     },
     "metadata": {},
     "output_type": "display_data"
    }
   ],
   "source": [
    "df['Region'].value_counts().plot(kind = 'bar')\n",
    "plt.show()"
   ]
  },
  {
   "cell_type": "code",
   "execution_count": 29,
   "id": "d3765cf1",
   "metadata": {},
   "outputs": [
    {
     "data": {
      "image/png": "[encoded data removed]",
      "text/plain": [
       "<Figure size 640x480 with 1 Axes>"
      ]
     },
     "metadata": {},
     "output_type": "display_data"
    }
   ],
   "source": [
    "df['Area'].value_counts().plot(kind = 'bar')\n",
    "plt.show()"
   ]
  },
  {
   "cell_type": "code",
   "execution_count": 14,
   "id": "a884d237",
   "metadata": {},
   "outputs": [
    {
     "data": {
      "image/png": "[encoded data removed]",
      "text/plain": [
       "<Figure size 640x480 with 1 Axes>"
      ]
     },
     "metadata": {},
     "output_type": "display_data"
    }
   ],
   "source": [
    "df.boxplot()\n",
    "plt.xticks(rotation = 'vertical')\n",
    "plt.show()"
   ]
  },
  {
   "cell_type": "code",
   "execution_count": 15,
   "id": "fde2cf8b",
   "metadata": {},
   "outputs": [
    {
     "data": {
      "text/html": [
       "<div>\n",
       "<style scoped>\n",
       "    .dataframe tbody tr th:only-of-type {\n",
       "        vertical-align: middle;\n",
       "    }\n",
       "\n",
       "    .dataframe tbody tr th {\n",
       "        vertical-align: top;\n",
       "    }\n",
       "\n",
       "    .dataframe thead th {\n",
       "        text-align: right;\n",
       "    }\n",
       "</style>\n",
       "<table border=\"1\" class=\"dataframe\">\n",
       "  <thead>\n",
       "    <tr style=\"text-align: right;\">\n",
       "      <th></th>\n",
       "      <th>Estimated Unemployment Rate (%)</th>\n",
       "      <th>Estimated Employed</th>\n",
       "      <th>Estimated Labour Participation Rate (%)</th>\n",
       "    </tr>\n",
       "  </thead>\n",
       "  <tbody>\n",
       "    <tr>\n",
       "      <th>count</th>\n",
       "      <td>740.000000</td>\n",
       "      <td>7.400000e+02</td>\n",
       "      <td>740.000000</td>\n",
       "    </tr>\n",
       "    <tr>\n",
       "      <th>mean</th>\n",
       "      <td>11.787946</td>\n",
       "      <td>7.204460e+06</td>\n",
       "      <td>42.630122</td>\n",
       "    </tr>\n",
       "    <tr>\n",
       "      <th>std</th>\n",
       "      <td>10.721298</td>\n",
       "      <td>8.087988e+06</td>\n",
       "      <td>8.111094</td>\n",
       "    </tr>\n",
       "    <tr>\n",
       "      <th>min</th>\n",
       "      <td>0.000000</td>\n",
       "      <td>4.942000e+04</td>\n",
       "      <td>13.330000</td>\n",
       "    </tr>\n",
       "    <tr>\n",
       "      <th>25%</th>\n",
       "      <td>4.657500</td>\n",
       "      <td>1.190404e+06</td>\n",
       "      <td>38.062500</td>\n",
       "    </tr>\n",
       "    <tr>\n",
       "      <th>50%</th>\n",
       "      <td>8.350000</td>\n",
       "      <td>4.744178e+06</td>\n",
       "      <td>41.160000</td>\n",
       "    </tr>\n",
       "    <tr>\n",
       "      <th>75%</th>\n",
       "      <td>15.887500</td>\n",
       "      <td>1.127549e+07</td>\n",
       "      <td>45.505000</td>\n",
       "    </tr>\n",
       "    <tr>\n",
       "      <th>max</th>\n",
       "      <td>76.740000</td>\n",
       "      <td>4.577751e+07</td>\n",
       "      <td>72.570000</td>\n",
       "    </tr>\n",
       "  </tbody>\n",
       "</table>\n",
       "</div>"
      ],
      "text/plain": [
       "        Estimated Unemployment Rate (%)   Estimated Employed  \\\n",
       "count                        740.000000         7.400000e+02   \n",
       "mean                          11.787946         7.204460e+06   \n",
       "std                           10.721298         8.087988e+06   \n",
       "min                            0.000000         4.942000e+04   \n",
       "25%                            4.657500         1.190404e+06   \n",
       "50%                            8.350000         4.744178e+06   \n",
       "75%                           15.887500         1.127549e+07   \n",
       "max                           76.740000         4.577751e+07   \n",
       "\n",
       "        Estimated Labour Participation Rate (%)  \n",
       "count                                740.000000  \n",
       "mean                                  42.630122  \n",
       "std                                    8.111094  \n",
       "min                                   13.330000  \n",
       "25%                                   38.062500  \n",
       "50%                                   41.160000  \n",
       "75%                                   45.505000  \n",
       "max                                   72.570000  "
      ]
     },
     "execution_count": 15,
     "metadata": {},
     "output_type": "execute_result"
    }
   ],
   "source": [
    "df.describe()"
   ]
  },
  {
   "cell_type": "code",
   "execution_count": 37,
   "id": "65d2c5a3",
   "metadata": {},
   "outputs": [
    {
     "data": {
      "image/png": "[encoded data removed]",
      "text/plain": [
       "<Figure size 640x480 with 4 Axes>"
      ]
     },
     "metadata": {},
     "output_type": "display_data"
    }
   ],
   "source": [
    "df.hist()\n",
    "plt.show()"
   ]
  },
  {
   "cell_type": "code",
   "execution_count": 40,
   "id": "535324f8",
   "metadata": {},
   "outputs": [
    {
     "data": {
      "image/png": "[encoded data removed]",
      "text/plain": [
       "<Figure size 750x750 with 12 Axes>"
      ]
     },
     "metadata": {},
     "output_type": "display_data"
    }
   ],
   "source": [
    "sns.pairplot(df)\n",
    "plt.show()"
   ]
  },
  {
   "cell_type": "code",
   "execution_count": 47,
   "id": "9c2e13ae",
   "metadata": {},
   "outputs": [
    {
     "data": {
      "application/vnd.plotly.v1+json": {
       "config": {
        "plotlyServerURL": "https://plot.ly"
       },
       "data": [
        {
         "hovertemplate": "Area=Rural<br> Estimated Unemployment Rate (%)=%{x}<br> Estimated Employed=%{y}<br> Estimated Labour Participation Rate (%)=%{z}<extra></extra>",
         "legendgroup": "Rural",
         "marker": {
          "color": "#636efa",
          "symbol": "circle"
         },
         "mode": "markers",
         "name": "Rural",
         "scene": "scene",
         "showlegend": true,
         "type": "scatter3d",
         "x": [
          3.65,
          3.05,
          3.75,
          3.32,
          5.17,
          3.52,
          4.12,
          4.38,
          4.84,
          5.91,
          4.06,
          16.29,
          14.46,
          0.85,
          4.29,
          5.08,
          4.26,
          5.79,
          4.46,
          4.65,
          4.66,
          4.29,
          3.26,
          3.77,
          9.38,
          0,
          9.27,
          10.2,
          13.44,
          11,
          8.87,
          12.47,
          12.4,
          10.16,
          9.13,
          9.61,
          15.39,
          45.09,
          47.26,
          20.49,
          9.82,
          6.76,
          4.54,
          4.64,
          8.33,
          6.96,
          2.77,
          6.11,
          9.89,
          7.89,
          7.31,
          0,
          7.64,
          10.14,
          12.56,
          9.33,
          11.07,
          17.18,
          12.5,
          15.84,
          11.11,
          16.97,
          13.48,
          13.81,
          15.18,
          20.69,
          22.76,
          21.14,
          2.91,
          5.45,
          10.98,
          1.98,
          3.61,
          7.21,
          23.71,
          3.54,
          5.38,
          0,
          15.91,
          20,
          2.88,
          4.77,
          4.58,
          3.7,
          6.29,
          4.91,
          4.68,
          3.46,
          5.35,
          6.64,
          7.59,
          12,
          14.58,
          1.41,
          14.54,
          23.08,
          16.22,
          30.94,
          16.36,
          24.17,
          16.59,
          29.56,
          16.21,
          27.19,
          23.92,
          41.61,
          34.22,
          35.57,
          13.68,
          11.43,
          20.59,
          18.56,
          15.98,
          15.81,
          22.86,
          19.46,
          16.67,
          15.42,
          17.71,
          2.13,
          25.64,
          1.12,
          12.78,
          12.09,
          13.67,
          11.32,
          19.27,
          14.73,
          22.19,
          21.23,
          16,
          2.22,
          18.97,
          7.11,
          8.46,
          9.98,
          12.06,
          7.12,
          6.57,
          8.07,
          15.15,
          6.16,
          9.06,
          5.01,
          41.72,
          55.1,
          21.53,
          5.46,
          5.98,
          0.52,
          0.37,
          3.2,
          7.13,
          1.19,
          0.41,
          2.57,
          4.11,
          2.39,
          33.17,
          23.72,
          10.92,
          6.63,
          9,
          4.95,
          10.32,
          5.35,
          9.14,
          5,
          10.77,
          4.11,
          8.91,
          8.85,
          10.71,
          23.38,
          27.66,
          3.63,
          4.25,
          3.92,
          4.94,
          3.08,
          2.98,
          2.72,
          2.94,
          3.66,
          4.42,
          1.19,
          12.5,
          22.46,
          6.46,
          3.67,
          4.34,
          3.66,
          3.76,
          4.4,
          3.81,
          3.68,
          3.03,
          3.8,
          4.24,
          5.38,
          25.28,
          16.89,
          9.4,
          3.16,
          4.23,
          1.03,
          0.52,
          0.24,
          3.7,
          1.5,
          1.8,
          0.97,
          2.76,
          1.28,
          8.38,
          3.73,
          1.35,
          4.17,
          4.71,
          3.31,
          3.68,
          4.31,
          4.28,
          4.72,
          4.67,
          1.81,
          3.31,
          15.09,
          24.48,
          9.45,
          4.59,
          0,
          0,
          0,
          4.85,
          0,
          1.18,
          0,
          1.99,
          0.58,
          1.74,
          2.31,
          74.51,
          9.17,
          12.21,
          9.64,
          6.69,
          8.59,
          12.56,
          7.07,
          6.13,
          9.69,
          10.41,
          10.51,
          3.69,
          40.59,
          20,
          4.03,
          13.7,
          9.7,
          12.5,
          5.45,
          14.66,
          10.47,
          13.96,
          8,
          14.48,
          9.47,
          12.25,
          10.45,
          13.86,
          5.48,
          13.11,
          1,
          0,
          5.81,
          0.97,
          0.92,
          6.01,
          2.91,
          1.71,
          1.46,
          2.46,
          3.73,
          1.18,
          1.17,
          6.36,
          53.19,
          38.73,
          2.06,
          2.23,
          5.92,
          2.45,
          1.4,
          5.49,
          7.29,
          6.47,
          1.35,
          5.02,
          9.02,
          5.63,
          4.51,
          34.01,
          19.3,
          29.25,
          26.64,
          22.47,
          25.49,
          30.23,
          27.54,
          25.25,
          26.53,
          31.91,
          26.22,
          31.61,
          43.64,
          14.71,
          18.84,
          10.26,
          11.13,
          9.19,
          11.47,
          6.45,
          10.18,
          6.94,
          8.43,
          6.06,
          8.12,
          9.37,
          19.92,
          16.89,
          8.51,
          1.63,
          4.65,
          5.74,
          6.11,
          3.47,
          4.83,
          5.56,
          4.52,
          4.17,
          4.85,
          3.66,
          3.57,
          10.71,
          6.02,
          5.85,
          5.62,
          5.58,
          5.26,
          6.78,
          5.83,
          5.79,
          6.79,
          3.78,
          7.02,
          18.32,
          18.43,
          4.94
         ],
         "y": [
          11999139,
          11755881,
          12086707,
          12285693,
          12256762,
          12017412,
          11397681,
          12528395,
          12016676,
          11723617,
          11359660,
          8792827,
          9526902,
          15572975,
          11749334,
          8923222,
          9911534,
          9292039,
          11468349,
          8395906,
          9625362,
          11420996,
          8462814,
          9878742,
          9926176,
          7544937,
          24322330,
          24097712,
          23248875,
          22260203,
          23905700,
          24053140,
          22445989,
          22914530,
          23409006,
          23168192,
          22667882,
          14645275,
          14050319,
          20622566,
          6259019,
          6608626,
          6753622,
          6607694,
          6490776,
          7043840,
          6942931,
          6569385,
          6236201,
          6847173,
          6894808,
          6534321,
          5454091,
          5781095,
          169487,
          149076,
          166605,
          135407,
          166056,
          149511,
          178768,
          145671,
          157791,
          147500,
          152413,
          115487,
          129610,
          112108,
          179340,
          170471,
          167437,
          183603,
          163215,
          177440,
          159489,
          177155,
          158936,
          171672,
          181657,
          128538,
          13954728,
          13199281,
          14327083,
          13507342,
          13280783,
          13828512,
          14487815,
          13877825,
          14301844,
          13973042,
          13483615,
          8587594,
          11121124,
          13243922,
          5249186,
          4745178,
          4826560,
          4558306,
          5127956,
          4798833,
          4875763,
          4603484,
          5062293,
          4570108,
          4366148,
          4041050,
          3914193,
          4357835,
          2045760,
          1957081,
          1916824,
          1969248,
          2039804,
          1946957,
          2024409,
          1922821,
          2041035,
          1952464,
          1800426,
          984171,
          1732050,
          2230075,
          2495186,
          2423742,
          2549316,
          2778624,
          2477621,
          2415724,
          2373488,
          2163397,
          2361004,
          2716966,
          2049617,
          7035766,
          7319782,
          6958404,
          7015356,
          7500122,
          7761243,
          7279628,
          6873437,
          7868736,
          7932402,
          7157454,
          4280434,
          3315038,
          6375114,
          13911440,
          12888490,
          12169808,
          12686470,
          13741892,
          12803527,
          11537217,
          12756132,
          13938874,
          12753657,
          12853818,
          9330400,
          10626328,
          15396213,
          5184355,
          5605627,
          4855393,
          5233449,
          5400499,
          5328825,
          4557906,
          5065804,
          5307026,
          5203579,
          4141953,
          1754170,
          3799919,
          3952088,
          15349838,
          16294794,
          16274707,
          16559137,
          16159315,
          17060638,
          16306428,
          16854647,
          16183702,
          16178044,
          16480441,
          14238959,
          13099601,
          16748971,
          23896858,
          23056511,
          24843750,
          26835389,
          25219281,
          24330249,
          24881383,
          26357625,
          25881398,
          25293535,
          23130976,
          15014802,
          18423447,
          23601016,
          1119011,
          1024797,
          1158511,
          1065725,
          1162159,
          1080609,
          1205703,
          1102997,
          1229406,
          1112864,
          1192616,
          803118,
          992148,
          1150200,
          11155753,
          10965154,
          12009883,
          11727659,
          11167715,
          11621534,
          12192623,
          11345069,
          11182128,
          11842655,
          9814156,
          5562449,
          9683719,
          10187145,
          172474,
          184527,
          139227,
          183930,
          175718,
          180283,
          142787,
          180808,
          176252,
          183619,
          142176,
          49420,
          6088547,
          6025235,
          6308129,
          6183427,
          6260971,
          6021921,
          6395022,
          6164215,
          6189471,
          6009820,
          6373692,
          4721590,
          3727366,
          5364047,
          15226005,
          14610564,
          14859873,
          15052051,
          15419779,
          15178544,
          15278556,
          15485307,
          15484353,
          15040572,
          15059769,
          13051219,
          15586833,
          16076978,
          146688,
          162426,
          161647,
          133399,
          141313,
          15844698,
          16375303,
          16455928,
          16463931,
          14595441,
          15595647,
          16223430,
          15356938,
          14954646,
          15828488,
          15848590,
          5086200,
          5768342,
          10169115,
          11053353,
          10728822,
          11538688,
          10743959,
          12636415,
          11375354,
          11265828,
          11068056,
          12065915,
          11304474,
          12028377,
          8793799,
          7508747,
          8891181,
          1019549,
          1107013,
          1052597,
          975501,
          1034408,
          1113764,
          1084633,
          1046878,
          1057975,
          1169347,
          1060946,
          675083,
          911789,
          1106978,
          43287808,
          42276572,
          42697000,
          43298746,
          44198762,
          42833265,
          43261530,
          44640087,
          45777509,
          44257432,
          43086706,
          39970677,
          38640999,
          41908909,
          2108044,
          2021553,
          2000524,
          1911380,
          2157845,
          2027662,
          2007113,
          1947566,
          1986386,
          2057523,
          1972074,
          1915482,
          1675441,
          23452875,
          25543465,
          24857807,
          24924827,
          25610773,
          24353018,
          25630359,
          24906239,
          24612171,
          26093009,
          25097812,
          17639370,
          19115772,
          21225887
         ],
         "z": [
          43.24,
          42.05,
          43.5,
          43.97,
          44.68,
          43.01,
          41,
          45.14,
          43.46,
          42.83,
          40.66,
          36.03,
          38.16,
          53.76,
          57.39,
          43.87,
          48.21,
          45.83,
          55.67,
          40.76,
          46.64,
          54.9,
          40.17,
          47.05,
          50,
          34.38,
          39.75,
          39.71,
          39.66,
          36.85,
          38.57,
          40.31,
          37.51,
          37.25,
          37.54,
          37.28,
          38.88,
          38.63,
          38.5,
          37.4,
          42.89,
          43.71,
          43.53,
          42.55,
          43.38,
          46.28,
          43.56,
          42.59,
          42.03,
          45.05,
          44.98,
          39.43,
          35.56,
          38.66,
          42.33,
          35.74,
          40.53,
          35.21,
          40.68,
          37.9,
          42.71,
          37.08,
          38.36,
          35.84,
          37.45,
          30.21,
          34.65,
          29.22,
          39.16,
          38.19,
          39.81,
          39.61,
          35.78,
          40.36,
          44.09,
          38.7,
          35.36,
          36.11,
          45.36,
          33.71,
          52.03,
          50.12,
          54.21,
          50.57,
          51.01,
          52.27,
          54.55,
          51.51,
          54.07,
          53.48,
          52.06,
          34.77,
          46.31,
          47.72,
          45.12,
          45.23,
          42.17,
          48.23,
          44.72,
          46.07,
          42.48,
          47.4,
          43.74,
          45.37,
          41.4,
          49.85,
          42.78,
          48.53,
          44.23,
          41.18,
          44.91,
          44.91,
          45.02,
          42.81,
          48.5,
          44.05,
          45.11,
          42.45,
          40.17,
          18.43,
          42.62,
          41.2,
          40.57,
          39.02,
          41.71,
          44.17,
          43.08,
          39.69,
          42.56,
          38.25,
          39.06,
          38.46,
          34.94,
          39.04,
          41.12,
          39.66,
          40.83,
          41.24,
          42.33,
          40.26,
          41.09,
          42.43,
          44.05,
          37.96,
          36.92,
          37.03,
          40.65,
          46.36,
          43.12,
          38.42,
          39.93,
          44.45,
          43.1,
          36.45,
          39.92,
          44.52,
          41.33,
          40.85,
          43.25,
          43.09,
          53.37,
          38.07,
          42.19,
          34.96,
          39.9,
          38.97,
          40.02,
          32.71,
          38.67,
          37.66,
          38.84,
          30.87,
          13.33,
          33.62,
          37.01,
          37.97,
          40.48,
          40.2,
          41.25,
          39.4,
          41.46,
          39.44,
          40.77,
          39.35,
          39.57,
          38.9,
          37.88,
          39.24,
          41.5,
          47.11,
          45.69,
          48.8,
          52.67,
          49.74,
          47.61,
          48.53,
          50.98,
          50.36,
          49.36,
          45.6,
          37.42,
          41.21,
          48.34,
          66.13,
          61.09,
          66.67,
          60.86,
          66.02,
          63.44,
          69.03,
          63.18,
          69.66,
          64.06,
          67.46,
          48.83,
          57.26,
          64.63,
          40.47,
          39.94,
          43.05,
          42.13,
          40.32,
          41.88,
          44.06,
          40.91,
          39.09,
          41.98,
          39.55,
          25.16,
          36.48,
          36.36,
          43.08,
          45.95,
          34.56,
          47.83,
          43.34,
          44.85,
          35,
          45.07,
          43.18,
          45.38,
          35.23,
          46.79,
          44.79,
          45.79,
          46.5,
          44.08,
          45.49,
          45.66,
          45.55,
          43.4,
          45.22,
          44.19,
          46.85,
          32.2,
          41.14,
          43.9,
          38.52,
          41.02,
          39.78,
          41.48,
          39.24,
          42.69,
          40.87,
          43,
          40.12,
          41.83,
          39.47,
          35.21,
          41.11,
          43.98,
          44.06,
          53.04,
          46.3,
          37.72,
          42.36,
          49.44,
          50.99,
          53.94,
          52.17,
          45.62,
          48.55,
          50.95,
          48.8,
          46.23,
          48.86,
          51.56,
          33.05,
          28.6,
          31.49,
          61.74,
          62.19,
          64.4,
          59.23,
          72.57,
          66.49,
          65.17,
          60.61,
          68.51,
          66.92,
          68.53,
          49.44,
          61,
          58.97,
          64.47,
          67.4,
          60.54,
          58.29,
          65.9,
          68.21,
          64.29,
          63.02,
          68.61,
          69.88,
          68.28,
          52.63,
          46.9,
          59.74,
          39.96,
          39.32,
          38.78,
          40.24,
          38.79,
          39.07,
          38.01,
          39.77,
          39.67,
          39.13,
          38.53,
          40.37,
          37.52,
          36.89,
          37.47,
          37.01,
          36.97,
          35.39,
          38.79,
          36.9,
          36.73,
          35.19,
          35.69,
          37.16,
          35.04,
          33.94,
          32,
          46.41,
          50.36,
          48.78,
          48.79,
          49.87,
          48.09,
          50,
          48.47,
          48.3,
          49.51,
          49.18,
          39.27,
          42.53,
          40.44
         ]
        },
        {
         "hovertemplate": "Area=Urban<br> Estimated Unemployment Rate (%)=%{x}<br> Estimated Employed=%{y}<br> Estimated Labour Participation Rate (%)=%{z}<extra></extra>",
         "legendgroup": "Urban",
         "marker": {
          "color": "#EF553B",
          "symbol": "circle"
         },
         "mode": "markers",
         "name": "Urban",
         "scene": "scene",
         "showlegend": true,
         "type": "scatter3d",
         "x": [
          6.09,
          3.8,
          5.64,
          4.61,
          6.01,
          4.7,
          7.54,
          7.88,
          7.11,
          5.66,
          9.88,
          32.3,
          24.91,
          5.86,
          7.87,
          9.89,
          3.21,
          10.39,
          9.26,
          11.17,
          6.31,
          5.02,
          7.24,
          9.98,
          10.34,
          8.37,
          10.77,
          3.42,
          19.9,
          13.29,
          16.41,
          17.66,
          20.46,
          14.06,
          17.62,
          14.91,
          20.69,
          15.11,
          15.73,
          58.77,
          37.87,
          12.45,
          18.35,
          12.4,
          21.8,
          9.52,
          20.14,
          13.99,
          22.05,
          8.33,
          20,
          16.67,
          21.43,
          7.22,
          9.77,
          11.77,
          8.17,
          6.29,
          9.46,
          10.27,
          8.32,
          3.57,
          9.01,
          9.79,
          8.21,
          20.13,
          24.1,
          27.07,
          12.31,
          12.76,
          14.68,
          13.52,
          20.59,
          12.41,
          16.11,
          11.07,
          22.45,
          14.86,
          17.09,
          16.51,
          45.78,
          18.11,
          2.75,
          13.33,
          12.28,
          4.9,
          3.16,
          12.31,
          25.2,
          16.22,
          10.92,
          4.31,
          4.76,
          11.76,
          4.09,
          6.31,
          5.15,
          4.2,
          5.96,
          5.45,
          7.53,
          5.71,
          5.82,
          6.04,
          5.39,
          25.94,
          11.62,
          4.54,
          24.67,
          20.42,
          25.45,
          24.19,
          26.84,
          21.04,
          27.06,
          23.65,
          27.24,
          23.29,
          27.14,
          46.89,
          38.46,
          29.41,
          10.88,
          21.43,
          21.51,
          24.48,
          12,
          23.77,
          27.27,
          25.32,
          18.15,
          27.31,
          26.44,
          2.7,
          50,
          10.81,
          23.04,
          19.88,
          21.55,
          24.06,
          14.29,
          7.02,
          18.54,
          19.86,
          14.29,
          12.96,
          17.23,
          20.51,
          15.67,
          20.25,
          21.16,
          19.05,
          17.34,
          22.01,
          22.96,
          19.67,
          16.4,
          61.48,
          70.17,
          19.38,
          6.56,
          5,
          2.29,
          1.27,
          3.57,
          3.87,
          3.44,
          1.56,
          3.31,
          2.88,
          4.92,
          25.12,
          15.88,
          6.12,
          6.11,
          6.67,
          7.58,
          7.69,
          5.52,
          5.35,
          6.71,
          7.31,
          6.65,
          6.08,
          9.14,
          21.43,
          30.28,
          12.17,
          3.91,
          6.38,
          7.38,
          6.82,
          7,
          4.4,
          6.06,
          6.2,
          5.17,
          4.96,
          4.8,
          11.94,
          40.49,
          12.72,
          6.08,
          6.46,
          6.35,
          7.57,
          7.6,
          7.51,
          7.6,
          7.83,
          6.67,
          5.34,
          6.34,
          14.99,
          15.92,
          10.01,
          8.4,
          8.66,
          4.43,
          5.8,
          5.3,
          7.2,
          3.02,
          5.21,
          4.76,
          7.37,
          2.8,
          17.39,
          14.58,
          2.95,
          2.63,
          1.78,
          3.5,
          3.78,
          4.5,
          2.23,
          3.36,
          2.28,
          2.19,
          3.96,
          20.5,
          10,
          2.18,
          1.25,
          0,
          0,
          8.95,
          1.22,
          1.17,
          1.37,
          5.21,
          0.57,
          1.78,
          0.62,
          76.74,
          75,
          4.55,
          13.49,
          13.17,
          11.61,
          11.99,
          15.69,
          13.75,
          10.39,
          11.97,
          13.68,
          11.99,
          9.97,
          1.13,
          20.54,
          10.55,
          13.62,
          14.36,
          11.67,
          14.71,
          12.63,
          13.02,
          14.3,
          18.04,
          18.82,
          17.02,
          18.54,
          35.53,
          25.35,
          13.04,
          8.2,
          7.76,
          2.56,
          4.82,
          4.81,
          9.68,
          4.04,
          7.37,
          20.45,
          5.77,
          19.75,
          2.63,
          0.89,
          1.56,
          3.18,
          9.53,
          1.86,
          1.13,
          2.65,
          8.05,
          2.05,
          3.31,
          6.46,
          45.55,
          25.95,
          24.93,
          1.52,
          1.43,
          3.73,
          4.19,
          6.19,
          6.74,
          5.23,
          4.22,
          6.49,
          6.74,
          6.1,
          10.5,
          36.57,
          6.92,
          34.69,
          25.59,
          25.81,
          33.45,
          33.57,
          26.67,
          27.15,
          33.48,
          34.37,
          33.88,
          25.69,
          34.88,
          16.78,
          27.47,
          14.4,
          11.62,
          11.8,
          14.73,
          13.58,
          10.35,
          11.31,
          12.37,
          12.34,
          11.65,
          12.32,
          26.94,
          32.06,
          13.05,
          9.17,
          4.69,
          6.94,
          7.43,
          9.62,
          4.72,
          6.34,
          7.39,
          8.92,
          5.28,
          8.15,
          13.18,
          17.36,
          5.08,
          7.25,
          7.38,
          7.91,
          7.27,
          7.79,
          7.83,
          6.61,
          7.24,
          7.27,
          7.55,
          6.67,
          15.63,
          15.22,
          9.86
         ],
         "y": [
          4788661,
          4824630,
          4657443,
          4743179,
          4733996,
          4774377,
          4668772,
          4913963,
          4618860,
          4822035,
          4521537,
          2544084,
          3428356,
          4954389,
          1671707,
          1647342,
          1739838,
          1595582,
          1576480,
          1595176,
          1708045,
          1722303,
          1630908,
          1625454,
          1664145,
          1454956,
          1441722,
          1551007,
          3029344,
          3248864,
          3059744,
          2994763,
          2992082,
          3173429,
          3081077,
          2977857,
          2988665,
          3113464,
          3049637,
          1400962,
          2207026,
          3124663,
          348042,
          337145,
          294379,
          328282,
          327239,
          330856,
          289593,
          311146,
          332062,
          316887,
          279839,
          306505,
          2223129,
          2192020,
          2285436,
          2392400,
          2311507,
          2297096,
          2341284,
          2415436,
          2315972,
          2347941,
          2407509,
          1066126,
          1276291,
          1602231,
          5756475,
          5550172,
          5393091,
          5552510,
          5642253,
          6030363,
          5439600,
          5718337,
          5647493,
          5708807,
          5401392,
          3003787,
          2343783,
          4306807,
          264855,
          304015,
          280367,
          243277,
          309643,
          290264,
          271612,
          288154,
          257814,
          306396,
          277093,
          318957,
          9686558,
          10144965,
          9828023,
          10228154,
          9609939,
          10474217,
          9896129,
          10172812,
          9824501,
          10784753,
          10083026,
          6701284,
          6072776,
          10574711,
          2693596,
          2845190,
          2405973,
          2523005,
          2675862,
          2821456,
          2404239,
          2548835,
          2630938,
          2752834,
          2275407,
          1606580,
          2013083,
          2304138,
          245668,
          237576,
          235894,
          236315,
          247210,
          232322,
          233029,
          241366,
          246596,
          227804,
          221432,
          146957,
          134868,
          224902,
          1130139,
          1139815,
          1183770,
          1029087,
          1226793,
          1209085,
          1079537,
          1060116,
          998103,
          937435,
          2404033,
          2326911,
          2434579,
          2335406,
          2357627,
          2460196,
          2424281,
          2290170,
          2329293,
          2493023,
          2480661,
          1054829,
          830347,
          2244460,
          8638239,
          8862498,
          8738029,
          8614340,
          8647794,
          8799249,
          8613835,
          8592376,
          8749154,
          8924061,
          9225835,
          7387995,
          8669258,
          8822411,
          4605913,
          4678374,
          4105211,
          4448650,
          4640642,
          4644510,
          4062767,
          4440283,
          4597507,
          4624444,
          4079775,
          2179106,
          2826118,
          4601293,
          6692720,
          6509340,
          6266446,
          6809834,
          6655967,
          6603715,
          6459457,
          6787403,
          6834930,
          6533435,
          6386723,
          4802873,
          3879934,
          6221562,
          16962574,
          17375053,
          17215677,
          16602767,
          17396398,
          17221991,
          17486683,
          16581144,
          16715470,
          17122782,
          17065830,
          12674451,
          12365754,
          16172690,
          228978,
          231252,
          284015,
          259433,
          253887,
          234375,
          293431,
          267417,
          261687,
          233965,
          289735,
          161939,
          222916,
          2519582,
          2356290,
          2542237,
          2456983,
          2570663,
          2456855,
          2594469,
          2369048,
          2561320,
          2438080,
          2457952,
          1303244,
          1975481,
          2221069,
          283905,
          304369,
          281117,
          312882,
          286573,
          312548,
          275003,
          313135,
          281698,
          310342,
          278851,
          68122,
          64538,
          234926,
          3289918,
          3307798,
          3592442,
          3499863,
          3227178,
          3070438,
          3602243,
          3575778,
          3252622,
          3219227,
          3601793,
          2298975,
          2682658,
          3047750,
          5108436,
          5241174,
          5372470,
          5195170,
          5176819,
          5384335,
          5306715,
          5109481,
          5157363,
          5288343,
          4964911,
          2932923,
          4225486,
          5275784,
          89587,
          89702,
          108334,
          90850,
          89450,
          87974,
          107751,
          88035,
          86186,
          81905,
          75456,
          76269,
          11798080,
          12318745,
          12054414,
          11933093,
          11902824,
          12223948,
          11729952,
          12260389,
          11926995,
          11742101,
          10982178,
          4632967,
          5733921,
          7741005,
          5560649,
          5683349,
          5432503,
          5544693,
          5668785,
          5318341,
          5338119,
          5317782,
          5543380,
          5521496,
          5313236,
          3378431,
          3108830,
          4577995,
          423127,
          408738,
          410583,
          368977,
          418043,
          414808,
          427700,
          399427,
          450155,
          415339,
          450271,
          296431,
          384999,
          391015,
          13391244,
          13624452,
          13862431,
          13580241,
          13522970,
          13938303,
          14128888,
          13857200,
          13656250,
          13803099,
          13889632,
          10944379,
          11111486,
          13208724,
          676797,
          906889,
          859900,
          823967,
          711150,
          925174,
          904903,
          844779,
          725253,
          963408,
          889245,
          748041,
          778590,
          989470,
          11306177,
          10611498,
          10779829,
          11456493,
          11158649,
          10563686,
          10768462,
          11335696,
          11208617,
          10871168,
          10806105,
          9299466,
          9240903,
          9088931
         ],
         "z": [
          37.45,
          36.76,
          36.1,
          36.29,
          36.69,
          36.41,
          36.62,
          38.61,
          35.91,
          36.84,
          36.08,
          26.97,
          32.69,
          37.61,
          44.92,
          45.17,
          44.32,
          43.81,
          42.66,
          44.01,
          44.59,
          44.26,
          42.82,
          43.9,
          45.03,
          38.45,
          39.04,
          38.73,
          39.8,
          39.35,
          38.36,
          38.03,
          39.25,
          38.45,
          38.86,
          36.29,
          38.99,
          37.87,
          37.29,
          34.94,
          36.45,
          36.54,
          44.89,
          40.44,
          39.47,
          37.95,
          42.77,
          40.06,
          38.6,
          35.19,
          42.94,
          39.25,
          36.68,
          33.8,
          45.61,
          45.88,
          45.85,
          46.91,
          46.8,
          46.82,
          46.59,
          45.59,
          46.21,
          47.14,
          47.39,
          24.06,
          30.24,
          39.41,
          44.17,
          42.71,
          42.34,
          42.9,
          47.36,
          45.78,
          43.02,
          42.56,
          48.09,
          44.18,
          42.82,
          23.59,
          28.28,
          34.32,
          34.17,
          43.96,
          40,
          31.97,
          39.92,
          41.27,
          45.22,
          42.77,
          35.95,
          39.73,
          36.05,
          44.74,
          41.67,
          44.57,
          42.54,
          43.72,
          41.75,
          45.14,
          43.5,
          43.75,
          42.19,
          46.31,
          42.9,
          36.33,
          27.52,
          44.26,
          43.18,
          43.06,
          38.77,
          39.87,
          43.7,
          42.58,
          39.18,
          39.57,
          42.75,
          42.32,
          36.73,
          35.48,
          38.27,
          38.09,
          45.27,
          49.58,
          49.22,
          51.17,
          45.87,
          49.69,
          52.17,
          52.55,
          48.92,
          50.82,
          48.74,
          24.42,
          43.55,
          40.66,
          46.74,
          45.17,
          47.8,
          42.63,
          44.92,
          40.71,
          41.4,
          41.23,
          36.21,
          33.33,
          43.25,
          43.51,
          42.82,
          43.35,
          44.18,
          44.82,
          43.17,
          43.14,
          44.33,
          45.42,
          43.34,
          39.92,
          40.49,
          40.43,
          40.62,
          40.89,
          39.09,
          38.04,
          39,
          39.7,
          38.6,
          37.66,
          38.94,
          39.45,
          41.55,
          42.14,
          43.9,
          39.93,
          36.65,
          37.42,
          33.13,
          35.91,
          36.57,
          36.49,
          32.36,
          35.56,
          36.53,
          36.48,
          33.24,
          20.51,
          29.95,
          38.68,
          38.96,
          38.8,
          37.67,
          40.6,
          39.67,
          38.2,
          37.94,
          39.83,
          39.59,
          37.68,
          36.68,
          29.76,
          35.49,
          38.72,
          38.3,
          39.3,
          38.81,
          37.84,
          39.58,
          39.05,
          39.61,
          37.57,
          37.32,
          37.61,
          37.8,
          30.86,
          30.38,
          37.04,
          47.79,
          48.29,
          56.55,
          52.27,
          50.77,
          47.71,
          57.02,
          53.04,
          51.53,
          47.26,
          55.64,
          36.51,
          48.48,
          41.26,
          38.39,
          40.99,
          40.25,
          42.15,
          40.51,
          41.71,
          38.46,
          41.05,
          38.97,
          39.93,
          25.53,
          34.12,
          35.24,
          35.71,
          37.73,
          34.77,
          42.41,
          35.73,
          38.86,
          34.19,
          40.42,
          34.59,
          38.5,
          34.12,
          35.54,
          31.25,
          29.73,
          40.03,
          40.02,
          42.62,
          41.61,
          39.97,
          37.1,
          41.82,
          42.17,
          39.04,
          37.82,
          41.29,
          23.95,
          34.71,
          34.96,
          39.44,
          40.73,
          40.38,
          40.34,
          39.15,
          40.8,
          40.73,
          40.9,
          41.59,
          41.62,
          39.71,
          29.57,
          36.71,
          39.26,
          48.61,
          48.13,
          54.67,
          46.63,
          45.61,
          46.97,
          53.8,
          45.24,
          50.57,
          40.31,
          43.32,
          35.85,
          37.31,
          39.16,
          38.89,
          41.13,
          37.76,
          38.42,
          37.38,
          41.29,
          37.64,
          37.48,
          36.17,
          26.17,
          23.77,
          31.6,
          44.59,
          45.43,
          44.36,
          45.39,
          47.28,
          44.51,
          43.87,
          43.13,
          45.95,
          45.78,
          43.65,
          29.05,
          37.63,
          37.68,
          69.5,
          58.8,
          59.1,
          59.07,
          66.9,
          60,
          62.14,
          63.41,
          72.26,
          66.04,
          63.56,
          47.65,
          48.31,
          56.17,
          40.43,
          39.75,
          40.43,
          40.87,
          40.07,
          39.71,
          40.6,
          40.21,
          39.52,
          39.54,
          40,
          37.74,
          41.1,
          38.09,
          26.33,
          33.54,
          32.48,
          31.21,
          27.51,
          33.87,
          33.61,
          31.65,
          27.55,
          35.11,
          33.33,
          29.59,
          32.27,
          35.61,
          46.37,
          43.51,
          44.38,
          46.77,
          45.74,
          43.25,
          43.44,
          45.97,
          45.39,
          44.09,
          43.34,
          41.2,
          40.67,
          37.57
         ]
        }
       ],
       "layout": {
        "legend": {
         "title": {
          "text": "Area"
         },
         "tracegroupgap": 0
        },
        "scene": {
         "domain": {
          "x": [
           0,
           1
          ],
          "y": [
           0,
           1
          ]
         },
         "xaxis": {
          "title": {
           "text": " Estimated Unemployment Rate (%)"
          }
         },
         "yaxis": {
          "title": {
           "text": " Estimated Employed"
          }
         },
         "zaxis": {
          "title": {
           "text": " Estimated Labour Participation Rate (%)"
          }
         }
        },
        "template": {
         "data": {
          "bar": [
           {
            "error_x": {
             "color": "#2a3f5f"
            },
            "error_y": {
             "color": "#2a3f5f"
            },
            "marker": {
             "line": {
              "color": "#E5ECF6",
              "width": 0.5
             },
             "pattern": {
              "fillmode": "overlay",
              "size": 10,
              "solidity": 0.2
             }
            },
            "type": "bar"
           }
          ],
          "barpolar": [
           {
            "marker": {
             "line": {
              "color": "#E5ECF6",
              "width": 0.5
             },
             "pattern": {
              "fillmode": "overlay",
              "size": 10,
              "solidity": 0.2
             }
            },
            "type": "barpolar"
           }
          ],
          "carpet": [
           {
            "aaxis": {
             "endlinecolor": "#2a3f5f",
             "gridcolor": "white",
             "linecolor": "white",
             "minorgridcolor": "white",
             "startlinecolor": "#2a3f5f"
            },
            "baxis": {
             "endlinecolor": "#2a3f5f",
             "gridcolor": "white",
             "linecolor": "white",
             "minorgridcolor": "white",
             "startlinecolor": "#2a3f5f"
            },
            "type": "carpet"
           }
          ],
          "choropleth": [
           {
            "colorbar": {
             "outlinewidth": 0,
             "ticks": ""
            },
            "type": "choropleth"
           }
          ],
          "contour": [
           {
            "colorbar": {
             "outlinewidth": 0,
             "ticks": ""
            },
            "colorscale": [
             [
              0,
              "#0d0887"
             ],
             [
              0.1111111111111111,
              "#46039f"
             ],
             [
              0.2222222222222222,
              "#7201a8"
             ],
             [
              0.3333333333333333,
              "#9c179e"
             ],
             [
              0.4444444444444444,
              "#bd3786"
             ],
             [
              0.5555555555555556,
              "#d8576b"
             ],
             [
              0.6666666666666666,
              "#ed7953"
             ],
             [
              0.7777777777777778,
              "#fb9f3a"
             ],
             [
              0.8888888888888888,
              "#fdca26"
             ],
             [
              1,
              "#f0f921"
             ]
            ],
            "type": "contour"
           }
          ],
          "contourcarpet": [
           {
            "colorbar": {
             "outlinewidth": 0,
             "ticks": ""
            },
            "type": "contourcarpet"
           }
          ],
          "heatmap": [
           {
            "colorbar": {
             "outlinewidth": 0,
             "ticks": ""
            },
            "colorscale": [
             [
              0,
              "#0d0887"
             ],
             [
              0.1111111111111111,
              "#46039f"
             ],
             [
              0.2222222222222222,
              "#7201a8"
             ],
             [
              0.3333333333333333,
              "#9c179e"
             ],
             [
              0.4444444444444444,
              "#bd3786"
             ],
             [
              0.5555555555555556,
              "#d8576b"
             ],
             [
              0.6666666666666666,
              "#ed7953"
             ],
             [
              0.7777777777777778,
              "#fb9f3a"
             ],
             [
              0.8888888888888888,
              "#fdca26"
             ],
             [
              1,
              "#f0f921"
             ]
            ],
            "type": "heatmap"
           }
          ],
          "heatmapgl": [
           {
            "colorbar": {
             "outlinewidth": 0,
             "ticks": ""
            },
            "colorscale": [
             [
              0,
              "#0d0887"
             ],
             [
              0.1111111111111111,
              "#46039f"
             ],
             [
              0.2222222222222222,
              "#7201a8"
             ],
             [
              0.3333333333333333,
              "#9c179e"
             ],
             [
              0.4444444444444444,
              "#bd3786"
             ],
             [
              0.5555555555555556,
              "#d8576b"
             ],
             [
              0.6666666666666666,
              "#ed7953"
             ],
             [
              0.7777777777777778,
              "#fb9f3a"
             ],
             [
              0.8888888888888888,
              "#fdca26"
             ],
             [
              1,
              "#f0f921"
             ]
            ],
            "type": "heatmapgl"
           }
          ],
          "histogram": [
           {
            "marker": {
             "pattern": {
              "fillmode": "overlay",
              "size": 10,
              "solidity": 0.2
             }
            },
            "type": "histogram"
           }
          ],
          "histogram2d": [
           {
            "colorbar": {
             "outlinewidth": 0,
             "ticks": ""
            },
            "colorscale": [
             [
              0,
              "#0d0887"
             ],
             [
              0.1111111111111111,
              "#46039f"
             ],
             [
              0.2222222222222222,
              "#7201a8"
             ],
             [
              0.3333333333333333,
              "#9c179e"
             ],
             [
              0.4444444444444444,
              "#bd3786"
             ],
             [
              0.5555555555555556,
              "#d8576b"
             ],
             [
              0.6666666666666666,
              "#ed7953"
             ],
             [
              0.7777777777777778,
              "#fb9f3a"
             ],
             [
              0.8888888888888888,
              "#fdca26"
             ],
             [
              1,
              "#f0f921"
             ]
            ],
            "type": "histogram2d"
           }
          ],
          "histogram2dcontour": [
           {
            "colorbar": {
             "outlinewidth": 0,
             "ticks": ""
            },
            "colorscale": [
             [
              0,
              "#0d0887"
             ],
             [
              0.1111111111111111,
              "#46039f"
             ],
             [
              0.2222222222222222,
              "#7201a8"
             ],
             [
              0.3333333333333333,
              "#9c179e"
             ],
             [
              0.4444444444444444,
              "#bd3786"
             ],
             [
              0.5555555555555556,
              "#d8576b"
             ],
             [
              0.6666666666666666,
              "#ed7953"
             ],
             [
              0.7777777777777778,
              "#fb9f3a"
             ],
             [
              0.8888888888888888,
              "#fdca26"
             ],
             [
              1,
              "#f0f921"
             ]
            ],
            "type": "histogram2dcontour"
           }
          ],
          "mesh3d": [
           {
            "colorbar": {
             "outlinewidth": 0,
             "ticks": ""
            },
            "type": "mesh3d"
           }
          ],
          "parcoords": [
           {
            "line": {
             "colorbar": {
              "outlinewidth": 0,
              "ticks": ""
             }
            },
            "type": "parcoords"
           }
          ],
          "pie": [
           {
            "automargin": true,
            "type": "pie"
           }
          ],
          "scatter": [
           {
            "fillpattern": {
             "fillmode": "overlay",
             "size": 10,
             "solidity": 0.2
            },
            "type": "scatter"
           }
          ],
          "scatter3d": [
           {
            "line": {
             "colorbar": {
              "outlinewidth": 0,
              "ticks": ""
             }
            },
            "marker": {
             "colorbar": {
              "outlinewidth": 0,
              "ticks": ""
             }
            },
            "type": "scatter3d"
           }
          ],
          "scattercarpet": [
           {
            "marker": {
             "colorbar": {
              "outlinewidth": 0,
              "ticks": ""
             }
            },
            "type": "scattercarpet"
           }
          ],
          "scattergeo": [
           {
            "marker": {
             "colorbar": {
              "outlinewidth": 0,
              "ticks": ""
             }
            },
            "type": "scattergeo"
           }
          ],
          "scattergl": [
           {
            "marker": {
             "colorbar": {
              "outlinewidth": 0,
              "ticks": ""
             }
            },
            "type": "scattergl"
           }
          ],
          "scattermapbox": [
           {
            "marker": {
             "colorbar": {
              "outlinewidth": 0,
              "ticks": ""
             }
            },
            "type": "scattermapbox"
           }
          ],
          "scatterpolar": [
           {
            "marker": {
             "colorbar": {
              "outlinewidth": 0,
              "ticks": ""
             }
            },
            "type": "scatterpolar"
           }
          ],
          "scatterpolargl": [
           {
            "marker": {
             "colorbar": {
              "outlinewidth": 0,
              "ticks": ""
             }
            },
            "type": "scatterpolargl"
           }
          ],
          "scatterternary": [
           {
            "marker": {
             "colorbar": {
              "outlinewidth": 0,
              "ticks": ""
             }
            },
            "type": "scatterternary"
           }
          ],
          "surface": [
           {
            "colorbar": {
             "outlinewidth": 0,
             "ticks": ""
            },
            "colorscale": [
             [
              0,
              "#0d0887"
             ],
             [
              0.1111111111111111,
              "#46039f"
             ],
             [
              0.2222222222222222,
              "#7201a8"
             ],
             [
              0.3333333333333333,
              "#9c179e"
             ],
             [
              0.4444444444444444,
              "#bd3786"
             ],
             [
              0.5555555555555556,
              "#d8576b"
             ],
             [
              0.6666666666666666,
              "#ed7953"
             ],
             [
              0.7777777777777778,
              "#fb9f3a"
             ],
             [
              0.8888888888888888,
              "#fdca26"
             ],
             [
              1,
              "#f0f921"
             ]
            ],
            "type": "surface"
           }
          ],
          "table": [
           {
            "cells": {
             "fill": {
              "color": "#EBF0F8"
             },
             "line": {
              "color": "white"
             }
            },
            "header": {
             "fill": {
              "color": "#C8D4E3"
             },
             "line": {
              "color": "white"
             }
            },
            "type": "table"
           }
          ]
         },
         "layout": {
          "annotationdefaults": {
           "arrowcolor": "#2a3f5f",
           "arrowhead": 0,
           "arrowwidth": 1
          },
          "autotypenumbers": "strict",
          "coloraxis": {
           "colorbar": {
            "outlinewidth": 0,
            "ticks": ""
           }
          },
          "colorscale": {
           "diverging": [
            [
             0,
             "#8e0152"
            ],
            [
             0.1,
             "#c51b7d"
            ],
            [
             0.2,
             "#de77ae"
            ],
            [
             0.3,
             "#f1b6da"
            ],
            [
             0.4,
             "#fde0ef"
            ],
            [
             0.5,
             "#f7f7f7"
            ],
            [
             0.6,
             "#e6f5d0"
            ],
            [
             0.7,
             "#b8e186"
            ],
            [
             0.8,
             "#7fbc41"
            ],
            [
             0.9,
             "#4d9221"
            ],
            [
             1,
             "#276419"
            ]
           ],
           "sequential": [
            [
             0,
             "#0d0887"
            ],
            [
             0.1111111111111111,
             "#46039f"
            ],
            [
             0.2222222222222222,
             "#7201a8"
            ],
            [
             0.3333333333333333,
             "#9c179e"
            ],
            [
             0.4444444444444444,
             "#bd3786"
            ],
            [
             0.5555555555555556,
             "#d8576b"
            ],
            [
             0.6666666666666666,
             "#ed7953"
            ],
            [
             0.7777777777777778,
             "#fb9f3a"
            ],
            [
             0.8888888888888888,
             "#fdca26"
            ],
            [
             1,
             "#f0f921"
            ]
           ],
           "sequentialminus": [
            [
             0,
             "#0d0887"
            ],
            [
             0.1111111111111111,
             "#46039f"
            ],
            [
             0.2222222222222222,
             "#7201a8"
            ],
            [
             0.3333333333333333,
             "#9c179e"
            ],
            [
             0.4444444444444444,
             "#bd3786"
            ],
            [
             0.5555555555555556,
             "#d8576b"
            ],
            [
             0.6666666666666666,
             "#ed7953"
            ],
            [
             0.7777777777777778,
             "#fb9f3a"
            ],
            [
             0.8888888888888888,
             "#fdca26"
            ],
            [
             1,
             "#f0f921"
            ]
           ]
          },
          "colorway": [
           "#636efa",
           "#EF553B",
           "#00cc96",
           "#ab63fa",
           "#FFA15A",
           "#19d3f3",
           "#FF6692",
           "#B6E880",
           "#FF97FF",
           "#FECB52"
          ],
          "font": {
           "color": "#2a3f5f"
          },
          "geo": {
           "bgcolor": "white",
           "lakecolor": "white",
           "landcolor": "#E5ECF6",
           "showlakes": true,
           "showland": true,
           "subunitcolor": "white"
          },
          "hoverlabel": {
           "align": "left"
          },
          "hovermode": "closest",
          "mapbox": {
           "style": "light"
          },
          "paper_bgcolor": "white",
          "plot_bgcolor": "#E5ECF6",
          "polar": {
           "angularaxis": {
            "gridcolor": "white",
            "linecolor": "white",
            "ticks": ""
           },
           "bgcolor": "#E5ECF6",
           "radialaxis": {
            "gridcolor": "white",
            "linecolor": "white",
            "ticks": ""
           }
          },
          "scene": {
           "xaxis": {
            "backgroundcolor": "#E5ECF6",
            "gridcolor": "white",
            "gridwidth": 2,
            "linecolor": "white",
            "showbackground": true,
            "ticks": "",
            "zerolinecolor": "white"
           },
           "yaxis": {
            "backgroundcolor": "#E5ECF6",
            "gridcolor": "white",
            "gridwidth": 2,
            "linecolor": "white",
            "showbackground": true,
            "ticks": "",
            "zerolinecolor": "white"
           },
           "zaxis": {
            "backgroundcolor": "#E5ECF6",
            "gridcolor": "white",
            "gridwidth": 2,
            "linecolor": "white",
            "showbackground": true,
            "ticks": "",
            "zerolinecolor": "white"
           }
          },
          "shapedefaults": {
           "line": {
            "color": "#2a3f5f"
           }
          },
          "ternary": {
           "aaxis": {
            "gridcolor": "white",
            "linecolor": "white",
            "ticks": ""
           },
           "baxis": {
            "gridcolor": "white",
            "linecolor": "white",
            "ticks": ""
           },
           "bgcolor": "#E5ECF6",
           "caxis": {
            "gridcolor": "white",
            "linecolor": "white",
            "ticks": ""
           }
          },
          "title": {
           "x": 0.05
          },
          "xaxis": {
           "automargin": true,
           "gridcolor": "white",
           "linecolor": "white",
           "ticks": "",
           "title": {
            "standoff": 15
           },
           "zerolinecolor": "white",
           "zerolinewidth": 2
          },
          "yaxis": {
           "automargin": true,
           "gridcolor": "white",
           "linecolor": "white",
           "ticks": "",
           "title": {
            "standoff": 15
           },
           "zerolinecolor": "white",
           "zerolinewidth": 2
          }
         }
        },
        "title": {
         "text": "Data Analysis(3D)"
        }
       }
      },
      "text/html": [
       "<div>                            <div id=\"7ebcc7f8-c23b-4fc0-bf49-c242ba6262e2\" class=\"plotly-graph-div\" style=\"height:525px; width:100%;\"></div>            <script type=\"text/javascript\">                require([\"plotly\"], function(Plotly) {                    window.PLOTLYENV=window.PLOTLYENV || {};                                    if (document.getElementById(\"7ebcc7f8-c23b-4fc0-bf49-c242ba6262e2\")) {                    Plotly.newPlot(                        \"7ebcc7f8-c23b-4fc0-bf49-c242ba6262e2\",                        [{\"hovertemplate\":\"Area=Rural<br> Estimated Unemployment Rate (%)=%{x}<br> Estimated Employed=%{y}<br> Estimated Labour Participation Rate (%)=%{z}<extra></extra>\",\"legendgroup\":\"Rural\",\"marker\":{\"color\":\"#636efa\",\"symbol\":\"circle\"},\"mode\":\"markers\",\"name\":\"Rural\",\"scene\":\"scene\",\"showlegend\":true,\"x\":[3.65,3.05,3.75,3.32,5.17,3.52,4.12,4.38,4.84,5.91,4.06,16.29,14.46,0.85,4.29,5.08,4.26,5.79,4.46,4.65,4.66,4.29,3.26,3.77,9.38,0.0,9.27,10.2,13.44,11.0,8.87,12.47,12.4,10.16,9.13,9.61,15.39,45.09,47.26,20.49,9.82,6.76,4.54,4.64,8.33,6.96,2.77,6.11,9.89,7.89,7.31,0.0,7.64,10.14,12.56,9.33,11.07,17.18,12.5,15.84,11.11,16.97,13.48,13.81,15.18,20.69,22.76,21.14,2.91,5.45,10.98,1.98,3.61,7.21,23.71,3.54,5.38,0.0,15.91,20.0,2.88,4.77,4.58,3.7,6.29,4.91,4.68,3.46,5.35,6.64,7.59,12.0,14.58,1.41,14.54,23.08,16.22,30.94,16.36,24.17,16.59,29.56,16.21,27.19,23.92,41.61,34.22,35.57,13.68,11.43,20.59,18.56,15.98,15.81,22.86,19.46,16.67,15.42,17.71,2.13,25.64,1.12,12.78,12.09,13.67,11.32,19.27,14.73,22.19,21.23,16.0,2.22,18.97,7.11,8.46,9.98,12.06,7.12,6.57,8.07,15.15,6.16,9.06,5.01,41.72,55.1,21.53,5.46,5.98,0.52,0.37,3.2,7.13,1.19,0.41,2.57,4.11,2.39,33.17,23.72,10.92,6.63,9.0,4.95,10.32,5.35,9.14,5.0,10.77,4.11,8.91,8.85,10.71,23.38,27.66,3.63,4.25,3.92,4.94,3.08,2.98,2.72,2.94,3.66,4.42,1.19,12.5,22.46,6.46,3.67,4.34,3.66,3.76,4.4,3.81,3.68,3.03,3.8,4.24,5.38,25.28,16.89,9.4,3.16,4.23,1.03,0.52,0.24,3.7,1.5,1.8,0.97,2.76,1.28,8.38,3.73,1.35,4.17,4.71,3.31,3.68,4.31,4.28,4.72,4.67,1.81,3.31,15.09,24.48,9.45,4.59,0.0,0.0,0.0,4.85,0.0,1.18,0.0,1.99,0.58,1.74,2.31,74.51,9.17,12.21,9.64,6.69,8.59,12.56,7.07,6.13,9.69,10.41,10.51,3.69,40.59,20.0,4.03,13.7,9.7,12.5,5.45,14.66,10.47,13.96,8.0,14.48,9.47,12.25,10.45,13.86,5.48,13.11,1.0,0.0,5.81,0.97,0.92,6.01,2.91,1.71,1.46,2.46,3.73,1.18,1.17,6.36,53.19,38.73,2.06,2.23,5.92,2.45,1.4,5.49,7.29,6.47,1.35,5.02,9.02,5.63,4.51,34.01,19.3,29.25,26.64,22.47,25.49,30.23,27.54,25.25,26.53,31.91,26.22,31.61,43.64,14.71,18.84,10.26,11.13,9.19,11.47,6.45,10.18,6.94,8.43,6.06,8.12,9.37,19.92,16.89,8.51,1.63,4.65,5.74,6.11,3.47,4.83,5.56,4.52,4.17,4.85,3.66,3.57,10.71,6.02,5.85,5.62,5.58,5.26,6.78,5.83,5.79,6.79,3.78,7.02,18.32,18.43,4.94],\"y\":[11999139.0,11755881.0,12086707.0,12285693.0,12256762.0,12017412.0,11397681.0,12528395.0,12016676.0,11723617.0,11359660.0,8792827.0,9526902.0,15572975.0,11749334.0,8923222.0,9911534.0,9292039.0,11468349.0,8395906.0,9625362.0,11420996.0,8462814.0,9878742.0,9926176.0,7544937.0,24322330.0,24097712.0,23248875.0,22260203.0,23905700.0,24053140.0,22445989.0,22914530.0,23409006.0,23168192.0,22667882.0,14645275.0,14050319.0,20622566.0,6259019.0,6608626.0,6753622.0,6607694.0,6490776.0,7043840.0,6942931.0,6569385.0,6236201.0,6847173.0,6894808.0,6534321.0,5454091.0,5781095.0,169487.0,149076.0,166605.0,135407.0,166056.0,149511.0,178768.0,145671.0,157791.0,147500.0,152413.0,115487.0,129610.0,112108.0,179340.0,170471.0,167437.0,183603.0,163215.0,177440.0,159489.0,177155.0,158936.0,171672.0,181657.0,128538.0,13954728.0,13199281.0,14327083.0,13507342.0,13280783.0,13828512.0,14487815.0,13877825.0,14301844.0,13973042.0,13483615.0,8587594.0,11121124.0,13243922.0,5249186.0,4745178.0,4826560.0,4558306.0,5127956.0,4798833.0,4875763.0,4603484.0,5062293.0,4570108.0,4366148.0,4041050.0,3914193.0,4357835.0,2045760.0,1957081.0,1916824.0,1969248.0,2039804.0,1946957.0,2024409.0,1922821.0,2041035.0,1952464.0,1800426.0,984171.0,1732050.0,2230075.0,2495186.0,2423742.0,2549316.0,2778624.0,2477621.0,2415724.0,2373488.0,2163397.0,2361004.0,2716966.0,2049617.0,7035766.0,7319782.0,6958404.0,7015356.0,7500122.0,7761243.0,7279628.0,6873437.0,7868736.0,7932402.0,7157454.0,4280434.0,3315038.0,6375114.0,13911440.0,12888490.0,12169808.0,12686470.0,13741892.0,12803527.0,11537217.0,12756132.0,13938874.0,12753657.0,12853818.0,9330400.0,10626328.0,15396213.0,5184355.0,5605627.0,4855393.0,5233449.0,5400499.0,5328825.0,4557906.0,5065804.0,5307026.0,5203579.0,4141953.0,1754170.0,3799919.0,3952088.0,15349838.0,16294794.0,16274707.0,16559137.0,16159315.0,17060638.0,16306428.0,16854647.0,16183702.0,16178044.0,16480441.0,14238959.0,13099601.0,16748971.0,23896858.0,23056511.0,24843750.0,26835389.0,25219281.0,24330249.0,24881383.0,26357625.0,25881398.0,25293535.0,23130976.0,15014802.0,18423447.0,23601016.0,1119011.0,1024797.0,1158511.0,1065725.0,1162159.0,1080609.0,1205703.0,1102997.0,1229406.0,1112864.0,1192616.0,803118.0,992148.0,1150200.0,11155753.0,10965154.0,12009883.0,11727659.0,11167715.0,11621534.0,12192623.0,11345069.0,11182128.0,11842655.0,9814156.0,5562449.0,9683719.0,10187145.0,172474.0,184527.0,139227.0,183930.0,175718.0,180283.0,142787.0,180808.0,176252.0,183619.0,142176.0,49420.0,6088547.0,6025235.0,6308129.0,6183427.0,6260971.0,6021921.0,6395022.0,6164215.0,6189471.0,6009820.0,6373692.0,4721590.0,3727366.0,5364047.0,15226005.0,14610564.0,14859873.0,15052051.0,15419779.0,15178544.0,15278556.0,15485307.0,15484353.0,15040572.0,15059769.0,13051219.0,15586833.0,16076978.0,146688.0,162426.0,161647.0,133399.0,141313.0,15844698.0,16375303.0,16455928.0,16463931.0,14595441.0,15595647.0,16223430.0,15356938.0,14954646.0,15828488.0,15848590.0,5086200.0,5768342.0,10169115.0,11053353.0,10728822.0,11538688.0,10743959.0,12636415.0,11375354.0,11265828.0,11068056.0,12065915.0,11304474.0,12028377.0,8793799.0,7508747.0,8891181.0,1019549.0,1107013.0,1052597.0,975501.0,1034408.0,1113764.0,1084633.0,1046878.0,1057975.0,1169347.0,1060946.0,675083.0,911789.0,1106978.0,43287808.0,42276572.0,42697000.0,43298746.0,44198762.0,42833265.0,43261530.0,44640087.0,45777509.0,44257432.0,43086706.0,39970677.0,38640999.0,41908909.0,2108044.0,2021553.0,2000524.0,1911380.0,2157845.0,2027662.0,2007113.0,1947566.0,1986386.0,2057523.0,1972074.0,1915482.0,1675441.0,23452875.0,25543465.0,24857807.0,24924827.0,25610773.0,24353018.0,25630359.0,24906239.0,24612171.0,26093009.0,25097812.0,17639370.0,19115772.0,21225887.0],\"z\":[43.24,42.05,43.5,43.97,44.68,43.01,41.0,45.14,43.46,42.83,40.66,36.03,38.16,53.76,57.39,43.87,48.21,45.83,55.67,40.76,46.64,54.9,40.17,47.05,50.0,34.38,39.75,39.71,39.66,36.85,38.57,40.31,37.51,37.25,37.54,37.28,38.88,38.63,38.5,37.4,42.89,43.71,43.53,42.55,43.38,46.28,43.56,42.59,42.03,45.05,44.98,39.43,35.56,38.66,42.33,35.74,40.53,35.21,40.68,37.9,42.71,37.08,38.36,35.84,37.45,30.21,34.65,29.22,39.16,38.19,39.81,39.61,35.78,40.36,44.09,38.7,35.36,36.11,45.36,33.71,52.03,50.12,54.21,50.57,51.01,52.27,54.55,51.51,54.07,53.48,52.06,34.77,46.31,47.72,45.12,45.23,42.17,48.23,44.72,46.07,42.48,47.4,43.74,45.37,41.4,49.85,42.78,48.53,44.23,41.18,44.91,44.91,45.02,42.81,48.5,44.05,45.11,42.45,40.17,18.43,42.62,41.2,40.57,39.02,41.71,44.17,43.08,39.69,42.56,38.25,39.06,38.46,34.94,39.04,41.12,39.66,40.83,41.24,42.33,40.26,41.09,42.43,44.05,37.96,36.92,37.03,40.65,46.36,43.12,38.42,39.93,44.45,43.1,36.45,39.92,44.52,41.33,40.85,43.25,43.09,53.37,38.07,42.19,34.96,39.9,38.97,40.02,32.71,38.67,37.66,38.84,30.87,13.33,33.62,37.01,37.97,40.48,40.2,41.25,39.4,41.46,39.44,40.77,39.35,39.57,38.9,37.88,39.24,41.5,47.11,45.69,48.8,52.67,49.74,47.61,48.53,50.98,50.36,49.36,45.6,37.42,41.21,48.34,66.13,61.09,66.67,60.86,66.02,63.44,69.03,63.18,69.66,64.06,67.46,48.83,57.26,64.63,40.47,39.94,43.05,42.13,40.32,41.88,44.06,40.91,39.09,41.98,39.55,25.16,36.48,36.36,43.08,45.95,34.56,47.83,43.34,44.85,35.0,45.07,43.18,45.38,35.23,46.79,44.79,45.79,46.5,44.08,45.49,45.66,45.55,43.4,45.22,44.19,46.85,32.2,41.14,43.9,38.52,41.02,39.78,41.48,39.24,42.69,40.87,43.0,40.12,41.83,39.47,35.21,41.11,43.98,44.06,53.04,46.3,37.72,42.36,49.44,50.99,53.94,52.17,45.62,48.55,50.95,48.8,46.23,48.86,51.56,33.05,28.6,31.49,61.74,62.19,64.4,59.23,72.57,66.49,65.17,60.61,68.51,66.92,68.53,49.44,61.0,58.97,64.47,67.4,60.54,58.29,65.9,68.21,64.29,63.02,68.61,69.88,68.28,52.63,46.9,59.74,39.96,39.32,38.78,40.24,38.79,39.07,38.01,39.77,39.67,39.13,38.53,40.37,37.52,36.89,37.47,37.01,36.97,35.39,38.79,36.9,36.73,35.19,35.69,37.16,35.04,33.94,32.0,46.41,50.36,48.78,48.79,49.87,48.09,50.0,48.47,48.3,49.51,49.18,39.27,42.53,40.44],\"type\":\"scatter3d\"},{\"hovertemplate\":\"Area=Urban<br> Estimated Unemployment Rate (%)=%{x}<br> Estimated Employed=%{y}<br> Estimated Labour Participation Rate (%)=%{z}<extra></extra>\",\"legendgroup\":\"Urban\",\"marker\":{\"color\":\"#EF553B\",\"symbol\":\"circle\"},\"mode\":\"markers\",\"name\":\"Urban\",\"scene\":\"scene\",\"showlegend\":true,\"x\":[6.09,3.8,5.64,4.61,6.01,4.7,7.54,7.88,7.11,5.66,9.88,32.3,24.91,5.86,7.87,9.89,3.21,10.39,9.26,11.17,6.31,5.02,7.24,9.98,10.34,8.37,10.77,3.42,19.9,13.29,16.41,17.66,20.46,14.06,17.62,14.91,20.69,15.11,15.73,58.77,37.87,12.45,18.35,12.4,21.8,9.52,20.14,13.99,22.05,8.33,20.0,16.67,21.43,7.22,9.77,11.77,8.17,6.29,9.46,10.27,8.32,3.57,9.01,9.79,8.21,20.13,24.1,27.07,12.31,12.76,14.68,13.52,20.59,12.41,16.11,11.07,22.45,14.86,17.09,16.51,45.78,18.11,2.75,13.33,12.28,4.9,3.16,12.31,25.2,16.22,10.92,4.31,4.76,11.76,4.09,6.31,5.15,4.2,5.96,5.45,7.53,5.71,5.82,6.04,5.39,25.94,11.62,4.54,24.67,20.42,25.45,24.19,26.84,21.04,27.06,23.65,27.24,23.29,27.14,46.89,38.46,29.41,10.88,21.43,21.51,24.48,12.0,23.77,27.27,25.32,18.15,27.31,26.44,2.7,50.0,10.81,23.04,19.88,21.55,24.06,14.29,7.02,18.54,19.86,14.29,12.96,17.23,20.51,15.67,20.25,21.16,19.05,17.34,22.01,22.96,19.67,16.4,61.48,70.17,19.38,6.56,5.0,2.29,1.27,3.57,3.87,3.44,1.56,3.31,2.88,4.92,25.12,15.88,6.12,6.11,6.67,7.58,7.69,5.52,5.35,6.71,7.31,6.65,6.08,9.14,21.43,30.28,12.17,3.91,6.38,7.38,6.82,7.0,4.4,6.06,6.2,5.17,4.96,4.8,11.94,40.49,12.72,6.08,6.46,6.35,7.57,7.6,7.51,7.6,7.83,6.67,5.34,6.34,14.99,15.92,10.01,8.4,8.66,4.43,5.8,5.3,7.2,3.02,5.21,4.76,7.37,2.8,17.39,14.58,2.95,2.63,1.78,3.5,3.78,4.5,2.23,3.36,2.28,2.19,3.96,20.5,10.0,2.18,1.25,0.0,0.0,8.95,1.22,1.17,1.37,5.21,0.57,1.78,0.62,76.74,75.0,4.55,13.49,13.17,11.61,11.99,15.69,13.75,10.39,11.97,13.68,11.99,9.97,1.13,20.54,10.55,13.62,14.36,11.67,14.71,12.63,13.02,14.3,18.04,18.82,17.02,18.54,35.53,25.35,13.04,8.2,7.76,2.56,4.82,4.81,9.68,4.04,7.37,20.45,5.77,19.75,2.63,0.89,1.56,3.18,9.53,1.86,1.13,2.65,8.05,2.05,3.31,6.46,45.55,25.95,24.93,1.52,1.43,3.73,4.19,6.19,6.74,5.23,4.22,6.49,6.74,6.1,10.5,36.57,6.92,34.69,25.59,25.81,33.45,33.57,26.67,27.15,33.48,34.37,33.88,25.69,34.88,16.78,27.47,14.4,11.62,11.8,14.73,13.58,10.35,11.31,12.37,12.34,11.65,12.32,26.94,32.06,13.05,9.17,4.69,6.94,7.43,9.62,4.72,6.34,7.39,8.92,5.28,8.15,13.18,17.36,5.08,7.25,7.38,7.91,7.27,7.79,7.83,6.61,7.24,7.27,7.55,6.67,15.63,15.22,9.86],\"y\":[4788661.0,4824630.0,4657443.0,4743179.0,4733996.0,4774377.0,4668772.0,4913963.0,4618860.0,4822035.0,4521537.0,2544084.0,3428356.0,4954389.0,1671707.0,1647342.0,1739838.0,1595582.0,1576480.0,1595176.0,1708045.0,1722303.0,1630908.0,1625454.0,1664145.0,1454956.0,1441722.0,1551007.0,3029344.0,3248864.0,3059744.0,2994763.0,2992082.0,3173429.0,3081077.0,2977857.0,2988665.0,3113464.0,3049637.0,1400962.0,2207026.0,3124663.0,348042.0,337145.0,294379.0,328282.0,327239.0,330856.0,289593.0,311146.0,332062.0,316887.0,279839.0,306505.0,2223129.0,2192020.0,2285436.0,2392400.0,2311507.0,2297096.0,2341284.0,2415436.0,2315972.0,2347941.0,2407509.0,1066126.0,1276291.0,1602231.0,5756475.0,5550172.0,5393091.0,5552510.0,5642253.0,6030363.0,5439600.0,5718337.0,5647493.0,5708807.0,5401392.0,3003787.0,2343783.0,4306807.0,264855.0,304015.0,280367.0,243277.0,309643.0,290264.0,271612.0,288154.0,257814.0,306396.0,277093.0,318957.0,9686558.0,10144965.0,9828023.0,10228154.0,9609939.0,10474217.0,9896129.0,10172812.0,9824501.0,10784753.0,10083026.0,6701284.0,6072776.0,10574711.0,2693596.0,2845190.0,2405973.0,2523005.0,2675862.0,2821456.0,2404239.0,2548835.0,2630938.0,2752834.0,2275407.0,1606580.0,2013083.0,2304138.0,245668.0,237576.0,235894.0,236315.0,247210.0,232322.0,233029.0,241366.0,246596.0,227804.0,221432.0,146957.0,134868.0,224902.0,1130139.0,1139815.0,1183770.0,1029087.0,1226793.0,1209085.0,1079537.0,1060116.0,998103.0,937435.0,2404033.0,2326911.0,2434579.0,2335406.0,2357627.0,2460196.0,2424281.0,2290170.0,2329293.0,2493023.0,2480661.0,1054829.0,830347.0,2244460.0,8638239.0,8862498.0,8738029.0,8614340.0,8647794.0,8799249.0,8613835.0,8592376.0,8749154.0,8924061.0,9225835.0,7387995.0,8669258.0,8822411.0,4605913.0,4678374.0,4105211.0,4448650.0,4640642.0,4644510.0,4062767.0,4440283.0,4597507.0,4624444.0,4079775.0,2179106.0,2826118.0,4601293.0,6692720.0,6509340.0,6266446.0,6809834.0,6655967.0,6603715.0,6459457.0,6787403.0,6834930.0,6533435.0,6386723.0,4802873.0,3879934.0,6221562.0,16962574.0,17375053.0,17215677.0,16602767.0,17396398.0,17221991.0,17486683.0,16581144.0,16715470.0,17122782.0,17065830.0,12674451.0,12365754.0,16172690.0,228978.0,231252.0,284015.0,259433.0,253887.0,234375.0,293431.0,267417.0,261687.0,233965.0,289735.0,161939.0,222916.0,2519582.0,2356290.0,2542237.0,2456983.0,2570663.0,2456855.0,2594469.0,2369048.0,2561320.0,2438080.0,2457952.0,1303244.0,1975481.0,2221069.0,283905.0,304369.0,281117.0,312882.0,286573.0,312548.0,275003.0,313135.0,281698.0,310342.0,278851.0,68122.0,64538.0,234926.0,3289918.0,3307798.0,3592442.0,3499863.0,3227178.0,3070438.0,3602243.0,3575778.0,3252622.0,3219227.0,3601793.0,2298975.0,2682658.0,3047750.0,5108436.0,5241174.0,5372470.0,5195170.0,5176819.0,5384335.0,5306715.0,5109481.0,5157363.0,5288343.0,4964911.0,2932923.0,4225486.0,5275784.0,89587.0,89702.0,108334.0,90850.0,89450.0,87974.0,107751.0,88035.0,86186.0,81905.0,75456.0,76269.0,11798080.0,12318745.0,12054414.0,11933093.0,11902824.0,12223948.0,11729952.0,12260389.0,11926995.0,11742101.0,10982178.0,4632967.0,5733921.0,7741005.0,5560649.0,5683349.0,5432503.0,5544693.0,5668785.0,5318341.0,5338119.0,5317782.0,5543380.0,5521496.0,5313236.0,3378431.0,3108830.0,4577995.0,423127.0,408738.0,410583.0,368977.0,418043.0,414808.0,427700.0,399427.0,450155.0,415339.0,450271.0,296431.0,384999.0,391015.0,13391244.0,13624452.0,13862431.0,13580241.0,13522970.0,13938303.0,14128888.0,13857200.0,13656250.0,13803099.0,13889632.0,10944379.0,11111486.0,13208724.0,676797.0,906889.0,859900.0,823967.0,711150.0,925174.0,904903.0,844779.0,725253.0,963408.0,889245.0,748041.0,778590.0,989470.0,11306177.0,10611498.0,10779829.0,11456493.0,11158649.0,10563686.0,10768462.0,11335696.0,11208617.0,10871168.0,10806105.0,9299466.0,9240903.0,9088931.0],\"z\":[37.45,36.76,36.1,36.29,36.69,36.41,36.62,38.61,35.91,36.84,36.08,26.97,32.69,37.61,44.92,45.17,44.32,43.81,42.66,44.01,44.59,44.26,42.82,43.9,45.03,38.45,39.04,38.73,39.8,39.35,38.36,38.03,39.25,38.45,38.86,36.29,38.99,37.87,37.29,34.94,36.45,36.54,44.89,40.44,39.47,37.95,42.77,40.06,38.6,35.19,42.94,39.25,36.68,33.8,45.61,45.88,45.85,46.91,46.8,46.82,46.59,45.59,46.21,47.14,47.39,24.06,30.24,39.41,44.17,42.71,42.34,42.9,47.36,45.78,43.02,42.56,48.09,44.18,42.82,23.59,28.28,34.32,34.17,43.96,40.0,31.97,39.92,41.27,45.22,42.77,35.95,39.73,36.05,44.74,41.67,44.57,42.54,43.72,41.75,45.14,43.5,43.75,42.19,46.31,42.9,36.33,27.52,44.26,43.18,43.06,38.77,39.87,43.7,42.58,39.18,39.57,42.75,42.32,36.73,35.48,38.27,38.09,45.27,49.58,49.22,51.17,45.87,49.69,52.17,52.55,48.92,50.82,48.74,24.42,43.55,40.66,46.74,45.17,47.8,42.63,44.92,40.71,41.4,41.23,36.21,33.33,43.25,43.51,42.82,43.35,44.18,44.82,43.17,43.14,44.33,45.42,43.34,39.92,40.49,40.43,40.62,40.89,39.09,38.04,39.0,39.7,38.6,37.66,38.94,39.45,41.55,42.14,43.9,39.93,36.65,37.42,33.13,35.91,36.57,36.49,32.36,35.56,36.53,36.48,33.24,20.51,29.95,38.68,38.96,38.8,37.67,40.6,39.67,38.2,37.94,39.83,39.59,37.68,36.68,29.76,35.49,38.72,38.3,39.3,38.81,37.84,39.58,39.05,39.61,37.57,37.32,37.61,37.8,30.86,30.38,37.04,47.79,48.29,56.55,52.27,50.77,47.71,57.02,53.04,51.53,47.26,55.64,36.51,48.48,41.26,38.39,40.99,40.25,42.15,40.51,41.71,38.46,41.05,38.97,39.93,25.53,34.12,35.24,35.71,37.73,34.77,42.41,35.73,38.86,34.19,40.42,34.59,38.5,34.12,35.54,31.25,29.73,40.03,40.02,42.62,41.61,39.97,37.1,41.82,42.17,39.04,37.82,41.29,23.95,34.71,34.96,39.44,40.73,40.38,40.34,39.15,40.8,40.73,40.9,41.59,41.62,39.71,29.57,36.71,39.26,48.61,48.13,54.67,46.63,45.61,46.97,53.8,45.24,50.57,40.31,43.32,35.85,37.31,39.16,38.89,41.13,37.76,38.42,37.38,41.29,37.64,37.48,36.17,26.17,23.77,31.6,44.59,45.43,44.36,45.39,47.28,44.51,43.87,43.13,45.95,45.78,43.65,29.05,37.63,37.68,69.5,58.8,59.1,59.07,66.9,60.0,62.14,63.41,72.26,66.04,63.56,47.65,48.31,56.17,40.43,39.75,40.43,40.87,40.07,39.71,40.6,40.21,39.52,39.54,40.0,37.74,41.1,38.09,26.33,33.54,32.48,31.21,27.51,33.87,33.61,31.65,27.55,35.11,33.33,29.59,32.27,35.61,46.37,43.51,44.38,46.77,45.74,43.25,43.44,45.97,45.39,44.09,43.34,41.2,40.67,37.57],\"type\":\"scatter3d\"}],                        {\"template\":{\"data\":{\"histogram2dcontour\":[{\"type\":\"histogram2dcontour\",\"colorbar\":{\"outlinewidth\":0,\"ticks\":\"\"},\"colorscale\":[[0.0,\"#0d0887\"],[0.1111111111111111,\"#46039f\"],[0.2222222222222222,\"#7201a8\"],[0.3333333333333333,\"#9c179e\"],[0.4444444444444444,\"#bd3786\"],[0.5555555555555556,\"#d8576b\"],[0.6666666666666666,\"#ed7953\"],[0.7777777777777778,\"#fb9f3a\"],[0.8888888888888888,\"#fdca26\"],[1.0,\"#f0f921\"]]}],\"choropleth\":[{\"type\":\"choropleth\",\"colorbar\":{\"outlinewidth\":0,\"ticks\":\"\"}}],\"histogram2d\":[{\"type\":\"histogram2d\",\"colorbar\":{\"outlinewidth\":0,\"ticks\":\"\"},\"colorscale\":[[0.0,\"#0d0887\"],[0.1111111111111111,\"#46039f\"],[0.2222222222222222,\"#7201a8\"],[0.3333333333333333,\"#9c179e\"],[0.4444444444444444,\"#bd3786\"],[0.5555555555555556,\"#d8576b\"],[0.6666666666666666,\"#ed7953\"],[0.7777777777777778,\"#fb9f3a\"],[0.8888888888888888,\"#fdca26\"],[1.0,\"#f0f921\"]]}],\"heatmap\":[{\"type\":\"heatmap\",\"colorbar\":{\"outlinewidth\":0,\"ticks\":\"\"},\"colorscale\":[[0.0,\"#0d0887\"],[0.1111111111111111,\"#46039f\"],[0.2222222222222222,\"#7201a8\"],[0.3333333333333333,\"#9c179e\"],[0.4444444444444444,\"#bd3786\"],[0.5555555555555556,\"#d8576b\"],[0.6666666666666666,\"#ed7953\"],[0.7777777777777778,\"#fb9f3a\"],[0.8888888888888888,\"#fdca26\"],[1.0,\"#f0f921\"]]}],\"heatmapgl\":[{\"type\":\"heatmapgl\",\"colorbar\":{\"outlinewidth\":0,\"ticks\":\"\"},\"colorscale\":[[0.0,\"#0d0887\"],[0.1111111111111111,\"#46039f\"],[0.2222222222222222,\"#7201a8\"],[0.3333333333333333,\"#9c179e\"],[0.4444444444444444,\"#bd3786\"],[0.5555555555555556,\"#d8576b\"],[0.6666666666666666,\"#ed7953\"],[0.7777777777777778,\"#fb9f3a\"],[0.8888888888888888,\"#fdca26\"],[1.0,\"#f0f921\"]]}],\"contourcarpet\":[{\"type\":\"contourcarpet\",\"colorbar\":{\"outlinewidth\":0,\"ticks\":\"\"}}],\"contour\":[{\"type\":\"contour\",\"colorbar\":{\"outlinewidth\":0,\"ticks\":\"\"},\"colorscale\":[[0.0,\"#0d0887\"],[0.1111111111111111,\"#46039f\"],[0.2222222222222222,\"#7201a8\"],[0.3333333333333333,\"#9c179e\"],[0.4444444444444444,\"#bd3786\"],[0.5555555555555556,\"#d8576b\"],[0.6666666666666666,\"#ed7953\"],[0.7777777777777778,\"#fb9f3a\"],[0.8888888888888888,\"#fdca26\"],[1.0,\"#f0f921\"]]}],\"surface\":[{\"type\":\"surface\",\"colorbar\":{\"outlinewidth\":0,\"ticks\":\"\"},\"colorscale\":[[0.0,\"#0d0887\"],[0.1111111111111111,\"#46039f\"],[0.2222222222222222,\"#7201a8\"],[0.3333333333333333,\"#9c179e\"],[0.4444444444444444,\"#bd3786\"],[0.5555555555555556,\"#d8576b\"],[0.6666666666666666,\"#ed7953\"],[0.7777777777777778,\"#fb9f3a\"],[0.8888888888888888,\"#fdca26\"],[1.0,\"#f0f921\"]]}],\"mesh3d\":[{\"type\":\"mesh3d\",\"colorbar\":{\"outlinewidth\":0,\"ticks\":\"\"}}],\"scatter\":[{\"fillpattern\":{\"fillmode\":\"overlay\",\"size\":10,\"solidity\":0.2},\"type\":\"scatter\"}],\"parcoords\":[{\"type\":\"parcoords\",\"line\":{\"colorbar\":{\"outlinewidth\":0,\"ticks\":\"\"}}}],\"scatterpolargl\":[{\"type\":\"scatterpolargl\",\"marker\":{\"colorbar\":{\"outlinewidth\":0,\"ticks\":\"\"}}}],\"bar\":[{\"error_x\":{\"color\":\"#2a3f5f\"},\"error_y\":{\"color\":\"#2a3f5f\"},\"marker\":{\"line\":{\"color\":\"#E5ECF6\",\"width\":0.5},\"pattern\":{\"fillmode\":\"overlay\",\"size\":10,\"solidity\":0.2}},\"type\":\"bar\"}],\"scattergeo\":[{\"type\":\"scattergeo\",\"marker\":{\"colorbar\":{\"outlinewidth\":0,\"ticks\":\"\"}}}],\"scatterpolar\":[{\"type\":\"scatterpolar\",\"marker\":{\"colorbar\":{\"outlinewidth\":0,\"ticks\":\"\"}}}],\"histogram\":[{\"marker\":{\"pattern\":{\"fillmode\":\"overlay\",\"size\":10,\"solidity\":0.2}},\"type\":\"histogram\"}],\"scattergl\":[{\"type\":\"scattergl\",\"marker\":{\"colorbar\":{\"outlinewidth\":0,\"ticks\":\"\"}}}],\"scatter3d\":[{\"type\":\"scatter3d\",\"line\":{\"colorbar\":{\"outlinewidth\":0,\"ticks\":\"\"}},\"marker\":{\"colorbar\":{\"outlinewidth\":0,\"ticks\":\"\"}}}],\"scattermapbox\":[{\"type\":\"scattermapbox\",\"marker\":{\"colorbar\":{\"outlinewidth\":0,\"ticks\":\"\"}}}],\"scatterternary\":[{\"type\":\"scatterternary\",\"marker\":{\"colorbar\":{\"outlinewidth\":0,\"ticks\":\"\"}}}],\"scattercarpet\":[{\"type\":\"scattercarpet\",\"marker\":{\"colorbar\":{\"outlinewidth\":0,\"ticks\":\"\"}}}],\"carpet\":[{\"aaxis\":{\"endlinecolor\":\"#2a3f5f\",\"gridcolor\":\"white\",\"linecolor\":\"white\",\"minorgridcolor\":\"white\",\"startlinecolor\":\"#2a3f5f\"},\"baxis\":{\"endlinecolor\":\"#2a3f5f\",\"gridcolor\":\"white\",\"linecolor\":\"white\",\"minorgridcolor\":\"white\",\"startlinecolor\":\"#2a3f5f\"},\"type\":\"carpet\"}],\"table\":[{\"cells\":{\"fill\":{\"color\":\"#EBF0F8\"},\"line\":{\"color\":\"white\"}},\"header\":{\"fill\":{\"color\":\"#C8D4E3\"},\"line\":{\"color\":\"white\"}},\"type\":\"table\"}],\"barpolar\":[{\"marker\":{\"line\":{\"color\":\"#E5ECF6\",\"width\":0.5},\"pattern\":{\"fillmode\":\"overlay\",\"size\":10,\"solidity\":0.2}},\"type\":\"barpolar\"}],\"pie\":[{\"automargin\":true,\"type\":\"pie\"}]},\"layout\":{\"autotypenumbers\":\"strict\",\"colorway\":[\"#636efa\",\"#EF553B\",\"#00cc96\",\"#ab63fa\",\"#FFA15A\",\"#19d3f3\",\"#FF6692\",\"#B6E880\",\"#FF97FF\",\"#FECB52\"],\"font\":{\"color\":\"#2a3f5f\"},\"hovermode\":\"closest\",\"hoverlabel\":{\"align\":\"left\"},\"paper_bgcolor\":\"white\",\"plot_bgcolor\":\"#E5ECF6\",\"polar\":{\"bgcolor\":\"#E5ECF6\",\"angularaxis\":{\"gridcolor\":\"white\",\"linecolor\":\"white\",\"ticks\":\"\"},\"radialaxis\":{\"gridcolor\":\"white\",\"linecolor\":\"white\",\"ticks\":\"\"}},\"ternary\":{\"bgcolor\":\"#E5ECF6\",\"aaxis\":{\"gridcolor\":\"white\",\"linecolor\":\"white\",\"ticks\":\"\"},\"baxis\":{\"gridcolor\":\"white\",\"linecolor\":\"white\",\"ticks\":\"\"},\"caxis\":{\"gridcolor\":\"white\",\"linecolor\":\"white\",\"ticks\":\"\"}},\"coloraxis\":{\"colorbar\":{\"outlinewidth\":0,\"ticks\":\"\"}},\"colorscale\":{\"sequential\":[[0.0,\"#0d0887\"],[0.1111111111111111,\"#46039f\"],[0.2222222222222222,\"#7201a8\"],[0.3333333333333333,\"#9c179e\"],[0.4444444444444444,\"#bd3786\"],[0.5555555555555556,\"#d8576b\"],[0.6666666666666666,\"#ed7953\"],[0.7777777777777778,\"#fb9f3a\"],[0.8888888888888888,\"#fdca26\"],[1.0,\"#f0f921\"]],\"sequentialminus\":[[0.0,\"#0d0887\"],[0.1111111111111111,\"#46039f\"],[0.2222222222222222,\"#7201a8\"],[0.3333333333333333,\"#9c179e\"],[0.4444444444444444,\"#bd3786\"],[0.5555555555555556,\"#d8576b\"],[0.6666666666666666,\"#ed7953\"],[0.7777777777777778,\"#fb9f3a\"],[0.8888888888888888,\"#fdca26\"],[1.0,\"#f0f921\"]],\"diverging\":[[0,\"#8e0152\"],[0.1,\"#c51b7d\"],[0.2,\"#de77ae\"],[0.3,\"#f1b6da\"],[0.4,\"#fde0ef\"],[0.5,\"#f7f7f7\"],[0.6,\"#e6f5d0\"],[0.7,\"#b8e186\"],[0.8,\"#7fbc41\"],[0.9,\"#4d9221\"],[1,\"#276419\"]]},\"xaxis\":{\"gridcolor\":\"white\",\"linecolor\":\"white\",\"ticks\":\"\",\"title\":{\"standoff\":15},\"zerolinecolor\":\"white\",\"automargin\":true,\"zerolinewidth\":2},\"yaxis\":{\"gridcolor\":\"white\",\"linecolor\":\"white\",\"ticks\":\"\",\"title\":{\"standoff\":15},\"zerolinecolor\":\"white\",\"automargin\":true,\"zerolinewidth\":2},\"scene\":{\"xaxis\":{\"backgroundcolor\":\"#E5ECF6\",\"gridcolor\":\"white\",\"linecolor\":\"white\",\"showbackground\":true,\"ticks\":\"\",\"zerolinecolor\":\"white\",\"gridwidth\":2},\"yaxis\":{\"backgroundcolor\":\"#E5ECF6\",\"gridcolor\":\"white\",\"linecolor\":\"white\",\"showbackground\":true,\"ticks\":\"\",\"zerolinecolor\":\"white\",\"gridwidth\":2},\"zaxis\":{\"backgroundcolor\":\"#E5ECF6\",\"gridcolor\":\"white\",\"linecolor\":\"white\",\"showbackground\":true,\"ticks\":\"\",\"zerolinecolor\":\"white\",\"gridwidth\":2}},\"shapedefaults\":{\"line\":{\"color\":\"#2a3f5f\"}},\"annotationdefaults\":{\"arrowcolor\":\"#2a3f5f\",\"arrowhead\":0,\"arrowwidth\":1},\"geo\":{\"bgcolor\":\"white\",\"landcolor\":\"#E5ECF6\",\"subunitcolor\":\"white\",\"showland\":true,\"showlakes\":true,\"lakecolor\":\"white\"},\"title\":{\"x\":0.05},\"mapbox\":{\"style\":\"light\"}}},\"scene\":{\"domain\":{\"x\":[0.0,1.0],\"y\":[0.0,1.0]},\"xaxis\":{\"title\":{\"text\":\" Estimated Unemployment Rate (%)\"}},\"yaxis\":{\"title\":{\"text\":\" Estimated Employed\"}},\"zaxis\":{\"title\":{\"text\":\" Estimated Labour Participation Rate (%)\"}}},\"legend\":{\"title\":{\"text\":\"Area\"},\"tracegroupgap\":0},\"title\":{\"text\":\"Data Analysis(3D)\"}},                        {\"responsive\": true}                    ).then(function(){\n",
       "                            \n",
       "var gd = document.getElementById('7ebcc7f8-c23b-4fc0-bf49-c242ba6262e2');\n",
       "var x = new MutationObserver(function (mutations, observer) {{\n",
       "        var display = window.getComputedStyle(gd).display;\n",
       "        if (!display || display === 'none') {{\n",
       "            console.log([gd, 'removed!']);\n",
       "            Plotly.purge(gd);\n",
       "            observer.disconnect();\n",
       "        }}\n",
       "}});\n",
       "\n",
       "// Listen for the removal of the full notebook cells\n",
       "var notebookContainer = gd.closest('#notebook-container');\n",
       "if (notebookContainer) {{\n",
       "    x.observe(notebookContainer, {childList: true});\n",
       "}}\n",
       "\n",
       "// Listen for the clearing of the current output cell\n",
       "var outputEl = gd.closest('.output');\n",
       "if (outputEl) {{\n",
       "    x.observe(outputEl, {childList: true});\n",
       "}}\n",
       "\n",
       "                        })                };                });            </script>        </div>"
      ]
     },
     "metadata": {},
     "output_type": "display_data"
    }
   ],
   "source": [
    "import plotly.express as px\n",
    "px.scatter_3d(df, x = ' Estimated Unemployment Rate (%)', y = ' Estimated Employed', z = ' Estimated Labour Participation Rate (%)', color = df['Area'], title=\"Data Analysis(3D)\")"
   ]
  },
  {
   "cell_type": "code",
   "execution_count": 54,
   "id": "5114b5d6",
   "metadata": {},
   "outputs": [
    {
     "data": {
      "application/vnd.plotly.v1+json": {
       "config": {
        "plotlyServerURL": "https://plot.ly"
       },
       "data": [
        {
         "type": "surface",
         "x": [
          "Region",
          " Date",
          " Frequency",
          " Estimated Unemployment Rate (%)",
          " Estimated Employed",
          " Estimated Labour Participation Rate (%)",
          "Area"
         ],
         "y": [
          0,
          1,
          2,
          3,
          4,
          5,
          6,
          7,
          8,
          9,
          10,
          11,
          12,
          13,
          14,
          15,
          16,
          17,
          18,
          19,
          20,
          21,
          22,
          23,
          24,
          25,
          26,
          27,
          28,
          29,
          30,
          31,
          32,
          33,
          34,
          35,
          36,
          37,
          38,
          39,
          40,
          41,
          42,
          43,
          44,
          45,
          46,
          47,
          48,
          49,
          50,
          51,
          52,
          53,
          54,
          55,
          56,
          57,
          58,
          59,
          60,
          61,
          62,
          63,
          64,
          65,
          66,
          67,
          68,
          69,
          70,
          71,
          72,
          73,
          74,
          75,
          76,
          77,
          78,
          79,
          80,
          81,
          82,
          83,
          84,
          85,
          86,
          87,
          88,
          89,
          90,
          91,
          92,
          93,
          94,
          95,
          96,
          97,
          98,
          99,
          100,
          101,
          102,
          103,
          104,
          105,
          106,
          107,
          108,
          109,
          110,
          111,
          112,
          113,
          114,
          115,
          116,
          117,
          118,
          119,
          120,
          121,
          122,
          123,
          124,
          125,
          126,
          127,
          128,
          129,
          130,
          131,
          132,
          133,
          134,
          135,
          136,
          137,
          138,
          139,
          140,
          141,
          142,
          143,
          144,
          145,
          146,
          147,
          148,
          149,
          150,
          151,
          152,
          153,
          154,
          155,
          156,
          157,
          158,
          159,
          160,
          161,
          162,
          163,
          164,
          165,
          166,
          167,
          168,
          169,
          170,
          171,
          172,
          173,
          174,
          175,
          176,
          177,
          178,
          179,
          180,
          181,
          182,
          183,
          184,
          185,
          186,
          187,
          188,
          189,
          190,
          191,
          192,
          193,
          194,
          195,
          196,
          197,
          198,
          199,
          200,
          201,
          202,
          203,
          204,
          205,
          206,
          207,
          208,
          209,
          210,
          211,
          212,
          213,
          214,
          215,
          216,
          217,
          218,
          219,
          220,
          221,
          222,
          223,
          224,
          225,
          226,
          227,
          228,
          229,
          230,
          231,
          232,
          233,
          234,
          235,
          236,
          237,
          238,
          239,
          240,
          241,
          242,
          243,
          244,
          245,
          246,
          247,
          248,
          249,
          250,
          251,
          252,
          253,
          254,
          255,
          256,
          257,
          258,
          259,
          260,
          261,
          262,
          263,
          264,
          265,
          266,
          267,
          268,
          269,
          270,
          271,
          272,
          273,
          274,
          275,
          276,
          277,
          278,
          279,
          280,
          281,
          282,
          283,
          284,
          285,
          286,
          287,
          288,
          289,
          290,
          291,
          292,
          293,
          294,
          295,
          296,
          297,
          298,
          299,
          300,
          301,
          302,
          303,
          304,
          305,
          306,
          307,
          308,
          309,
          310,
          311,
          312,
          313,
          314,
          315,
          316,
          317,
          318,
          319,
          320,
          321,
          322,
          323,
          324,
          325,
          326,
          327,
          328,
          329,
          330,
          331,
          332,
          333,
          334,
          335,
          336,
          337,
          338,
          339,
          340,
          341,
          342,
          343,
          344,
          345,
          346,
          347,
          348,
          349,
          350,
          351,
          352,
          353,
          354,
          355,
          356,
          357,
          358,
          359,
          360,
          361,
          362,
          363,
          364,
          365,
          366,
          367,
          368,
          369,
          370,
          371,
          372,
          373,
          374,
          375,
          376,
          377,
          378,
          379,
          380,
          381,
          382,
          383,
          384,
          385,
          386,
          387,
          388,
          389,
          390,
          391,
          392,
          393,
          394,
          395,
          396,
          397,
          398,
          399,
          400,
          401,
          402,
          403,
          404,
          405,
          406,
          407,
          408,
          409,
          410,
          411,
          412,
          413,
          414,
          415,
          416,
          417,
          418,
          419,
          420,
          421,
          422,
          423,
          424,
          425,
          426,
          427,
          428,
          429,
          430,
          431,
          432,
          433,
          434,
          435,
          436,
          437,
          438,
          439,
          440,
          441,
          442,
          443,
          444,
          445,
          446,
          447,
          448,
          449,
          450,
          451,
          452,
          453,
          454,
          455,
          456,
          457,
          458,
          459,
          460,
          461,
          462,
          463,
          464,
          465,
          466,
          467,
          468,
          469,
          470,
          471,
          472,
          473,
          474,
          475,
          476,
          477,
          478,
          479,
          480,
          481,
          482,
          483,
          484,
          485,
          486,
          487,
          488,
          489,
          490,
          491,
          492,
          493,
          494,
          495,
          496,
          497,
          498,
          499,
          500,
          501,
          502,
          503,
          504,
          505,
          506,
          507,
          508,
          509,
          510,
          511,
          512,
          513,
          514,
          515,
          516,
          517,
          518,
          519,
          520,
          521,
          522,
          523,
          524,
          525,
          526,
          527,
          528,
          529,
          530,
          531,
          532,
          533,
          534,
          535,
          536,
          537,
          538,
          539,
          540,
          541,
          542,
          543,
          544,
          545,
          546,
          547,
          548,
          549,
          550,
          551,
          552,
          553,
          554,
          555,
          556,
          557,
          558,
          559,
          560,
          561,
          562,
          563,
          564,
          565,
          566,
          567,
          568,
          569,
          570,
          571,
          572,
          573,
          574,
          575,
          576,
          577,
          578,
          579,
          580,
          581,
          582,
          583,
          584,
          585,
          586,
          587,
          588,
          589,
          590,
          591,
          592,
          593,
          594,
          595,
          596,
          597,
          598,
          599,
          600,
          601,
          602,
          603,
          604,
          605,
          606,
          607,
          608,
          609,
          610,
          611,
          612,
          613,
          614,
          615,
          616,
          617,
          618,
          619,
          620,
          621,
          622,
          623,
          624,
          625,
          626,
          627,
          628,
          629,
          630,
          631,
          632,
          633,
          634,
          635,
          636,
          637,
          638,
          639,
          640,
          641,
          642,
          643,
          644,
          645,
          646,
          647,
          648,
          649,
          650,
          651,
          652,
          653,
          654,
          655,
          656,
          657,
          658,
          659,
          660,
          661,
          662,
          663,
          664,
          665,
          666,
          667,
          668,
          669,
          670,
          671,
          672,
          673,
          674,
          675,
          676,
          677,
          678,
          679,
          680,
          681,
          682,
          683,
          684,
          685,
          686,
          687,
          688,
          689,
          690,
          691,
          692,
          693,
          694,
          695,
          696,
          697,
          698,
          699,
          700,
          701,
          702,
          703,
          704,
          705,
          706,
          707,
          708,
          709,
          710,
          711,
          712,
          713,
          714,
          715,
          716,
          717,
          718,
          719,
          720,
          721,
          722,
          723,
          724,
          725,
          726,
          727,
          728,
          729,
          730,
          731,
          732,
          733,
          734,
          735,
          736,
          737,
          738,
          739
         ],
         "z": [
          [
           "Andhra Pradesh",
           " 31-05-2019",
           " Monthly",
           3.65,
           11999139,
           43.24,
           "Rural"
          ],
          [
           "Andhra Pradesh",
           " 30-06-2019",
           " Monthly",
           3.05,
           11755881,
           42.05,
           "Rural"
          ],
          [
           "Andhra Pradesh",
           " 31-07-2019",
           " Monthly",
           3.75,
           12086707,
           43.5,
           "Rural"
          ],
          [
           "Andhra Pradesh",
           " 31-08-2019",
           " Monthly",
           3.32,
           12285693,
           43.97,
           "Rural"
          ],
          [
           "Andhra Pradesh",
           " 30-09-2019",
           " Monthly",
           5.17,
           12256762,
           44.68,
           "Rural"
          ],
          [
           "Andhra Pradesh",
           " 31-10-2019",
           " Monthly",
           3.52,
           12017412,
           43.01,
           "Rural"
          ],
          [
           "Andhra Pradesh",
           " 30-11-2019",
           " Monthly",
           4.12,
           11397681,
           41,
           "Rural"
          ],
          [
           "Andhra Pradesh",
           " 31-12-2019",
           " Monthly",
           4.38,
           12528395,
           45.14,
           "Rural"
          ],
          [
           "Andhra Pradesh",
           " 31-01-2020",
           " Monthly",
           4.84,
           12016676,
           43.46,
           "Rural"
          ],
          [
           "Andhra Pradesh",
           " 29-02-2020",
           " Monthly",
           5.91,
           11723617,
           42.83,
           "Rural"
          ],
          [
           "Andhra Pradesh",
           " 31-03-2020",
           " Monthly",
           4.06,
           11359660,
           40.66,
           "Rural"
          ],
          [
           "Andhra Pradesh",
           " 30-04-2020",
           " Monthly",
           16.29,
           8792827,
           36.03,
           "Rural"
          ],
          [
           "Andhra Pradesh",
           " 31-05-2020",
           " Monthly",
           14.46,
           9526902,
           38.16,
           "Rural"
          ],
          [
           "Andhra Pradesh",
           " 30-06-2020",
           " Monthly",
           0.85,
           15572975,
           53.76,
           "Rural"
          ],
          [
           "Assam",
           " 31-05-2019",
           " Monthly",
           4.29,
           11749334,
           57.39,
           "Rural"
          ],
          [
           "Assam",
           " 30-06-2019",
           " Monthly",
           5.08,
           8923222,
           43.87,
           "Rural"
          ],
          [
           "Assam",
           " 31-07-2019",
           " Monthly",
           4.26,
           9911534,
           48.21,
           "Rural"
          ],
          [
           "Assam",
           " 31-08-2019",
           " Monthly",
           5.79,
           9292039,
           45.83,
           "Rural"
          ],
          [
           "Assam",
           " 30-09-2019",
           " Monthly",
           4.46,
           11468349,
           55.67,
           "Rural"
          ],
          [
           "Assam",
           " 31-10-2019",
           " Monthly",
           4.65,
           8395906,
           40.76,
           "Rural"
          ],
          [
           "Assam",
           " 30-11-2019",
           " Monthly",
           4.66,
           9625362,
           46.64,
           "Rural"
          ],
          [
           "Assam",
           " 31-01-2020",
           " Monthly",
           4.29,
           11420996,
           54.9,
           "Rural"
          ],
          [
           "Assam",
           " 29-02-2020",
           " Monthly",
           3.26,
           8462814,
           40.17,
           "Rural"
          ],
          [
           "Assam",
           " 31-03-2020",
           " Monthly",
           3.77,
           9878742,
           47.05,
           "Rural"
          ],
          [
           "Assam",
           " 31-05-2020",
           " Monthly",
           9.38,
           9926176,
           50,
           "Rural"
          ],
          [
           "Assam",
           " 30-06-2020",
           " Monthly",
           0,
           7544937,
           34.38,
           "Rural"
          ],
          [
           "Bihar",
           " 31-05-2019",
           " Monthly",
           9.27,
           24322330,
           39.75,
           "Rural"
          ],
          [
           "Bihar",
           " 30-06-2019",
           " Monthly",
           10.2,
           24097712,
           39.71,
           "Rural"
          ],
          [
           "Bihar",
           " 31-07-2019",
           " Monthly",
           13.44,
           23248875,
           39.66,
           "Rural"
          ],
          [
           "Bihar",
           " 31-08-2019",
           " Monthly",
           11,
           22260203,
           36.85,
           "Rural"
          ],
          [
           "Bihar",
           " 30-09-2019",
           " Monthly",
           8.87,
           23905700,
           38.57,
           "Rural"
          ],
          [
           "Bihar",
           " 31-10-2019",
           " Monthly",
           12.47,
           24053140,
           40.31,
           "Rural"
          ],
          [
           "Bihar",
           " 30-11-2019",
           " Monthly",
           12.4,
           22445989,
           37.51,
           "Rural"
          ],
          [
           "Bihar",
           " 31-12-2019",
           " Monthly",
           10.16,
           22914530,
           37.25,
           "Rural"
          ],
          [
           "Bihar",
           " 31-01-2020",
           " Monthly",
           9.13,
           23409006,
           37.54,
           "Rural"
          ],
          [
           "Bihar",
           " 29-02-2020",
           " Monthly",
           9.61,
           23168192,
           37.28,
           "Rural"
          ],
          [
           "Bihar",
           " 31-03-2020",
           " Monthly",
           15.39,
           22667882,
           38.88,
           "Rural"
          ],
          [
           "Bihar",
           " 30-04-2020",
           " Monthly",
           45.09,
           14645275,
           38.63,
           "Rural"
          ],
          [
           "Bihar",
           " 31-05-2020",
           " Monthly",
           47.26,
           14050319,
           38.5,
           "Rural"
          ],
          [
           "Bihar",
           " 30-06-2020",
           " Monthly",
           20.49,
           20622566,
           37.4,
           "Rural"
          ],
          [
           "Chhattisgarh",
           " 31-05-2019",
           " Monthly",
           9.82,
           6259019,
           42.89,
           "Rural"
          ],
          [
           "Chhattisgarh",
           " 30-06-2019",
           " Monthly",
           6.76,
           6608626,
           43.71,
           "Rural"
          ],
          [
           "Chhattisgarh",
           " 31-07-2019",
           " Monthly",
           4.54,
           6753622,
           43.53,
           "Rural"
          ],
          [
           "Chhattisgarh",
           " 31-08-2019",
           " Monthly",
           4.64,
           6607694,
           42.55,
           "Rural"
          ],
          [
           "Chhattisgarh",
           " 30-09-2019",
           " Monthly",
           8.33,
           6490776,
           43.38,
           "Rural"
          ],
          [
           "Chhattisgarh",
           " 31-10-2019",
           " Monthly",
           6.96,
           7043840,
           46.28,
           "Rural"
          ],
          [
           "Chhattisgarh",
           " 30-11-2019",
           " Monthly",
           2.77,
           6942931,
           43.56,
           "Rural"
          ],
          [
           "Chhattisgarh",
           " 31-12-2019",
           " Monthly",
           6.11,
           6569385,
           42.59,
           "Rural"
          ],
          [
           "Chhattisgarh",
           " 31-01-2020",
           " Monthly",
           9.89,
           6236201,
           42.03,
           "Rural"
          ],
          [
           "Chhattisgarh",
           " 29-02-2020",
           " Monthly",
           7.89,
           6847173,
           45.05,
           "Rural"
          ],
          [
           "Chhattisgarh",
           " 31-03-2020",
           " Monthly",
           7.31,
           6894808,
           44.98,
           "Rural"
          ],
          [
           "Chhattisgarh",
           " 30-04-2020",
           " Monthly",
           0,
           6534321,
           39.43,
           "Rural"
          ],
          [
           "Chhattisgarh",
           " 31-05-2020",
           " Monthly",
           7.64,
           5454091,
           35.56,
           "Rural"
          ],
          [
           "Chhattisgarh",
           " 30-06-2020",
           " Monthly",
           10.14,
           5781095,
           38.66,
           "Rural"
          ],
          [
           "Delhi",
           " 31-05-2019",
           " Monthly",
           12.56,
           169487,
           42.33,
           "Rural"
          ],
          [
           "Delhi",
           " 30-06-2019",
           " Monthly",
           9.33,
           149076,
           35.74,
           "Rural"
          ],
          [
           "Delhi",
           " 31-07-2019",
           " Monthly",
           11.07,
           166605,
           40.53,
           "Rural"
          ],
          [
           "Delhi",
           " 31-08-2019",
           " Monthly",
           17.18,
           135407,
           35.21,
           "Rural"
          ],
          [
           "Delhi",
           " 30-09-2019",
           " Monthly",
           12.5,
           166056,
           40.68,
           "Rural"
          ],
          [
           "Delhi",
           " 31-10-2019",
           " Monthly",
           15.84,
           149511,
           37.9,
           "Rural"
          ],
          [
           "Delhi",
           " 30-11-2019",
           " Monthly",
           11.11,
           178768,
           42.71,
           "Rural"
          ],
          [
           "Delhi",
           " 31-12-2019",
           " Monthly",
           16.97,
           145671,
           37.08,
           "Rural"
          ],
          [
           "Delhi",
           " 31-01-2020",
           " Monthly",
           13.48,
           157791,
           38.36,
           "Rural"
          ],
          [
           "Delhi",
           " 29-02-2020",
           " Monthly",
           13.81,
           147500,
           35.84,
           "Rural"
          ],
          [
           "Delhi",
           " 31-03-2020",
           " Monthly",
           15.18,
           152413,
           37.45,
           "Rural"
          ],
          [
           "Delhi",
           " 30-04-2020",
           " Monthly",
           20.69,
           115487,
           30.21,
           "Rural"
          ],
          [
           "Delhi",
           " 31-05-2020",
           " Monthly",
           22.76,
           129610,
           34.65,
           "Rural"
          ],
          [
           "Delhi",
           " 30-06-2020",
           " Monthly",
           21.14,
           112108,
           29.22,
           "Rural"
          ],
          [
           "Goa",
           " 31-05-2019",
           " Monthly",
           2.91,
           179340,
           39.16,
           "Rural"
          ],
          [
           "Goa",
           " 30-06-2019",
           " Monthly",
           5.45,
           170471,
           38.19,
           "Rural"
          ],
          [
           "Goa",
           " 31-07-2019",
           " Monthly",
           10.98,
           167437,
           39.81,
           "Rural"
          ],
          [
           "Goa",
           " 31-08-2019",
           " Monthly",
           1.98,
           183603,
           39.61,
           "Rural"
          ],
          [
           "Goa",
           " 30-09-2019",
           " Monthly",
           3.61,
           163215,
           35.78,
           "Rural"
          ],
          [
           "Goa",
           " 31-10-2019",
           " Monthly",
           7.21,
           177440,
           40.36,
           "Rural"
          ],
          [
           "Goa",
           " 30-11-2019",
           " Monthly",
           23.71,
           159489,
           44.09,
           "Rural"
          ],
          [
           "Goa",
           " 31-12-2019",
           " Monthly",
           3.54,
           177155,
           38.7,
           "Rural"
          ],
          [
           "Goa",
           " 31-01-2020",
           " Monthly",
           5.38,
           158936,
           35.36,
           "Rural"
          ],
          [
           "Goa",
           " 29-02-2020",
           " Monthly",
           0,
           171672,
           36.11,
           "Rural"
          ],
          [
           "Goa",
           " 30-04-2020",
           " Monthly",
           15.91,
           181657,
           45.36,
           "Rural"
          ],
          [
           "Goa",
           " 31-05-2020",
           " Monthly",
           20,
           128538,
           33.71,
           "Rural"
          ],
          [
           "Gujarat",
           " 31-05-2019",
           " Monthly",
           2.88,
           13954728,
           52.03,
           "Rural"
          ],
          [
           "Gujarat",
           " 30-06-2019",
           " Monthly",
           4.77,
           13199281,
           50.12,
           "Rural"
          ],
          [
           "Gujarat",
           " 31-07-2019",
           " Monthly",
           4.58,
           14327083,
           54.21,
           "Rural"
          ],
          [
           "Gujarat",
           " 31-08-2019",
           " Monthly",
           3.7,
           13507342,
           50.57,
           "Rural"
          ],
          [
           "Gujarat",
           " 30-09-2019",
           " Monthly",
           6.29,
           13280783,
           51.01,
           "Rural"
          ],
          [
           "Gujarat",
           " 31-10-2019",
           " Monthly",
           4.91,
           13828512,
           52.27,
           "Rural"
          ],
          [
           "Gujarat",
           " 30-11-2019",
           " Monthly",
           4.68,
           14487815,
           54.55,
           "Rural"
          ],
          [
           "Gujarat",
           " 31-12-2019",
           " Monthly",
           3.46,
           13877825,
           51.51,
           "Rural"
          ],
          [
           "Gujarat",
           " 31-01-2020",
           " Monthly",
           5.35,
           14301844,
           54.07,
           "Rural"
          ],
          [
           "Gujarat",
           " 29-02-2020",
           " Monthly",
           6.64,
           13973042,
           53.48,
           "Rural"
          ],
          [
           "Gujarat",
           " 31-03-2020",
           " Monthly",
           7.59,
           13483615,
           52.06,
           "Rural"
          ],
          [
           "Gujarat",
           " 30-04-2020",
           " Monthly",
           12,
           8587594,
           34.77,
           "Rural"
          ],
          [
           "Gujarat",
           " 31-05-2020",
           " Monthly",
           14.58,
           11121124,
           46.31,
           "Rural"
          ],
          [
           "Gujarat",
           " 30-06-2020",
           " Monthly",
           1.41,
           13243922,
           47.72,
           "Rural"
          ],
          [
           "Haryana",
           " 31-05-2019",
           " Monthly",
           14.54,
           5249186,
           45.12,
           "Rural"
          ],
          [
           "Haryana",
           " 30-06-2019",
           " Monthly",
           23.08,
           4745178,
           45.23,
           "Rural"
          ],
          [
           "Haryana",
           " 31-07-2019",
           " Monthly",
           16.22,
           4826560,
           42.17,
           "Rural"
          ],
          [
           "Haryana",
           " 31-08-2019",
           " Monthly",
           30.94,
           4558306,
           48.23,
           "Rural"
          ],
          [
           "Haryana",
           " 30-09-2019",
           " Monthly",
           16.36,
           5127956,
           44.72,
           "Rural"
          ],
          [
           "Haryana",
           " 31-10-2019",
           " Monthly",
           24.17,
           4798833,
           46.07,
           "Rural"
          ],
          [
           "Haryana",
           " 30-11-2019",
           " Monthly",
           16.59,
           4875763,
           42.48,
           "Rural"
          ],
          [
           "Haryana",
           " 31-12-2019",
           " Monthly",
           29.56,
           4603484,
           47.4,
           "Rural"
          ],
          [
           "Haryana",
           " 31-01-2020",
           " Monthly",
           16.21,
           5062293,
           43.74,
           "Rural"
          ],
          [
           "Haryana",
           " 29-02-2020",
           " Monthly",
           27.19,
           4570108,
           45.37,
           "Rural"
          ],
          [
           "Haryana",
           " 31-03-2020",
           " Monthly",
           23.92,
           4366148,
           41.4,
           "Rural"
          ],
          [
           "Haryana",
           " 30-04-2020",
           " Monthly",
           41.61,
           4041050,
           49.85,
           "Rural"
          ],
          [
           "Haryana",
           " 31-05-2020",
           " Monthly",
           34.22,
           3914193,
           42.78,
           "Rural"
          ],
          [
           "Haryana",
           " 30-06-2020",
           " Monthly",
           35.57,
           4357835,
           48.53,
           "Rural"
          ],
          [
           "Himachal Pradesh",
           " 31-05-2019",
           " Monthly",
           13.68,
           2045760,
           44.23,
           "Rural"
          ],
          [
           "Himachal Pradesh",
           " 30-06-2019",
           " Monthly",
           11.43,
           1957081,
           41.18,
           "Rural"
          ],
          [
           "Himachal Pradesh",
           " 31-07-2019",
           " Monthly",
           20.59,
           1916824,
           44.91,
           "Rural"
          ],
          [
           "Himachal Pradesh",
           " 31-08-2019",
           " Monthly",
           18.56,
           1969248,
           44.91,
           "Rural"
          ],
          [
           "Himachal Pradesh",
           " 30-09-2019",
           " Monthly",
           15.98,
           2039804,
           45.02,
           "Rural"
          ],
          [
           "Himachal Pradesh",
           " 31-10-2019",
           " Monthly",
           15.81,
           1946957,
           42.81,
           "Rural"
          ],
          [
           "Himachal Pradesh",
           " 30-11-2019",
           " Monthly",
           22.86,
           2024409,
           48.5,
           "Rural"
          ],
          [
           "Himachal Pradesh",
           " 31-12-2019",
           " Monthly",
           19.46,
           1922821,
           44.05,
           "Rural"
          ],
          [
           "Himachal Pradesh",
           " 31-01-2020",
           " Monthly",
           16.67,
           2041035,
           45.11,
           "Rural"
          ],
          [
           "Himachal Pradesh",
           " 29-02-2020",
           " Monthly",
           15.42,
           1952464,
           42.45,
           "Rural"
          ],
          [
           "Himachal Pradesh",
           " 31-03-2020",
           " Monthly",
           17.71,
           1800426,
           40.17,
           "Rural"
          ],
          [
           "Himachal Pradesh",
           " 30-04-2020",
           " Monthly",
           2.13,
           984171,
           18.43,
           "Rural"
          ],
          [
           "Himachal Pradesh",
           " 31-05-2020",
           " Monthly",
           25.64,
           1732050,
           42.62,
           "Rural"
          ],
          [
           "Himachal Pradesh",
           " 30-06-2020",
           " Monthly",
           1.12,
           2230075,
           41.2,
           "Rural"
          ],
          [
           "Jammu & Kashmir",
           " 31-05-2019",
           " Monthly",
           12.78,
           2495186,
           40.57,
           "Rural"
          ],
          [
           "Jammu & Kashmir",
           " 30-06-2019",
           " Monthly",
           12.09,
           2423742,
           39.02,
           "Rural"
          ],
          [
           "Jammu & Kashmir",
           " 31-07-2019",
           " Monthly",
           13.67,
           2549316,
           41.71,
           "Rural"
          ],
          [
           "Jammu & Kashmir",
           " 31-08-2019",
           " Monthly",
           11.32,
           2778624,
           44.17,
           "Rural"
          ],
          [
           "Jammu & Kashmir",
           " 31-10-2019",
           " Monthly",
           19.27,
           2477621,
           43.08,
           "Rural"
          ],
          [
           "Jammu & Kashmir",
           " 30-11-2019",
           " Monthly",
           14.73,
           2415724,
           39.69,
           "Rural"
          ],
          [
           "Jammu & Kashmir",
           " 31-01-2020",
           " Monthly",
           22.19,
           2373488,
           42.56,
           "Rural"
          ],
          [
           "Jammu & Kashmir",
           " 29-02-2020",
           " Monthly",
           21.23,
           2163397,
           38.25,
           "Rural"
          ],
          [
           "Jammu & Kashmir",
           " 31-03-2020",
           " Monthly",
           16,
           2361004,
           39.06,
           "Rural"
          ],
          [
           "Jammu & Kashmir",
           " 31-05-2020",
           " Monthly",
           2.22,
           2716966,
           38.46,
           "Rural"
          ],
          [
           "Jammu & Kashmir",
           " 30-06-2020",
           " Monthly",
           18.97,
           2049617,
           34.94,
           "Rural"
          ],
          [
           "Jharkhand",
           " 31-05-2019",
           " Monthly",
           7.11,
           7035766,
           39.04,
           "Rural"
          ],
          [
           "Jharkhand",
           " 30-06-2019",
           " Monthly",
           8.46,
           7319782,
           41.12,
           "Rural"
          ],
          [
           "Jharkhand",
           " 31-07-2019",
           " Monthly",
           9.98,
           6958404,
           39.66,
           "Rural"
          ],
          [
           "Jharkhand",
           " 31-08-2019",
           " Monthly",
           12.06,
           7015356,
           40.83,
           "Rural"
          ],
          [
           "Jharkhand",
           " 30-09-2019",
           " Monthly",
           7.12,
           7500122,
           41.24,
           "Rural"
          ],
          [
           "Jharkhand",
           " 31-10-2019",
           " Monthly",
           6.57,
           7761243,
           42.33,
           "Rural"
          ],
          [
           "Jharkhand",
           " 30-11-2019",
           " Monthly",
           8.07,
           7279628,
           40.26,
           "Rural"
          ],
          [
           "Jharkhand",
           " 31-12-2019",
           " Monthly",
           15.15,
           6873437,
           41.09,
           "Rural"
          ],
          [
           "Jharkhand",
           " 31-01-2020",
           " Monthly",
           6.16,
           7868736,
           42.43,
           "Rural"
          ],
          [
           "Jharkhand",
           " 29-02-2020",
           " Monthly",
           9.06,
           7932402,
           44.05,
           "Rural"
          ],
          [
           "Jharkhand",
           " 31-03-2020",
           " Monthly",
           5.01,
           7157454,
           37.96,
           "Rural"
          ],
          [
           "Jharkhand",
           " 30-04-2020",
           " Monthly",
           41.72,
           4280434,
           36.92,
           "Rural"
          ],
          [
           "Jharkhand",
           " 31-05-2020",
           " Monthly",
           55.1,
           3315038,
           37.03,
           "Rural"
          ],
          [
           "Jharkhand",
           " 30-06-2020",
           " Monthly",
           21.53,
           6375114,
           40.65,
           "Rural"
          ],
          [
           "Karnataka",
           " 31-05-2019",
           " Monthly",
           5.46,
           13911440,
           46.36,
           "Rural"
          ],
          [
           "Karnataka",
           " 30-06-2019",
           " Monthly",
           5.98,
           12888490,
           43.12,
           "Rural"
          ],
          [
           "Karnataka",
           " 31-07-2019",
           " Monthly",
           0.52,
           12169808,
           38.42,
           "Rural"
          ],
          [
           "Karnataka",
           " 31-08-2019",
           " Monthly",
           0.37,
           12686470,
           39.93,
           "Rural"
          ],
          [
           "Karnataka",
           " 30-09-2019",
           " Monthly",
           3.2,
           13741892,
           44.45,
           "Rural"
          ],
          [
           "Karnataka",
           " 31-10-2019",
           " Monthly",
           7.13,
           12803527,
           43.1,
           "Rural"
          ],
          [
           "Karnataka",
           " 30-11-2019",
           " Monthly",
           1.19,
           11537217,
           36.45,
           "Rural"
          ],
          [
           "Karnataka",
           " 31-12-2019",
           " Monthly",
           0.41,
           12756132,
           39.92,
           "Rural"
          ],
          [
           "Karnataka",
           " 31-01-2020",
           " Monthly",
           2.57,
           13938874,
           44.52,
           "Rural"
          ],
          [
           "Karnataka",
           " 29-02-2020",
           " Monthly",
           4.11,
           12753657,
           41.33,
           "Rural"
          ],
          [
           "Karnataka",
           " 31-03-2020",
           " Monthly",
           2.39,
           12853818,
           40.85,
           "Rural"
          ],
          [
           "Karnataka",
           " 30-04-2020",
           " Monthly",
           33.17,
           9330400,
           43.25,
           "Rural"
          ],
          [
           "Karnataka",
           " 31-05-2020",
           " Monthly",
           23.72,
           10626328,
           43.09,
           "Rural"
          ],
          [
           "Karnataka",
           " 30-06-2020",
           " Monthly",
           10.92,
           15396213,
           53.37,
           "Rural"
          ],
          [
           "Kerala",
           " 31-05-2019",
           " Monthly",
           6.63,
           5184355,
           38.07,
           "Rural"
          ],
          [
           "Kerala",
           " 30-06-2019",
           " Monthly",
           9,
           5605627,
           42.19,
           "Rural"
          ],
          [
           "Kerala",
           " 31-07-2019",
           " Monthly",
           4.95,
           4855393,
           34.96,
           "Rural"
          ],
          [
           "Kerala",
           " 31-08-2019",
           " Monthly",
           10.32,
           5233449,
           39.9,
           "Rural"
          ],
          [
           "Kerala",
           " 30-09-2019",
           " Monthly",
           5.35,
           5400499,
           38.97,
           "Rural"
          ],
          [
           "Kerala",
           " 31-10-2019",
           " Monthly",
           9.14,
           5328825,
           40.02,
           "Rural"
          ],
          [
           "Kerala",
           " 30-11-2019",
           " Monthly",
           5,
           4557906,
           32.71,
           "Rural"
          ],
          [
           "Kerala",
           " 31-12-2019",
           " Monthly",
           10.77,
           5065804,
           38.67,
           "Rural"
          ],
          [
           "Kerala",
           " 31-01-2020",
           " Monthly",
           4.11,
           5307026,
           37.66,
           "Rural"
          ],
          [
           "Kerala",
           " 29-02-2020",
           " Monthly",
           8.91,
           5203579,
           38.84,
           "Rural"
          ],
          [
           "Kerala",
           " 31-03-2020",
           " Monthly",
           8.85,
           4141953,
           30.87,
           "Rural"
          ],
          [
           "Kerala",
           " 30-04-2020",
           " Monthly",
           10.71,
           1754170,
           13.33,
           "Rural"
          ],
          [
           "Kerala",
           " 31-05-2020",
           " Monthly",
           23.38,
           3799919,
           33.62,
           "Rural"
          ],
          [
           "Kerala",
           " 30-06-2020",
           " Monthly",
           27.66,
           3952088,
           37.01,
           "Rural"
          ],
          [
           "Madhya Pradesh",
           " 31-05-2019",
           " Monthly",
           3.63,
           15349838,
           37.97,
           "Rural"
          ],
          [
           "Madhya Pradesh",
           " 30-06-2019",
           " Monthly",
           4.25,
           16294794,
           40.48,
           "Rural"
          ],
          [
           "Madhya Pradesh",
           " 31-07-2019",
           " Monthly",
           3.92,
           16274707,
           40.2,
           "Rural"
          ],
          [
           "Madhya Pradesh",
           " 31-08-2019",
           " Monthly",
           4.94,
           16559137,
           41.25,
           "Rural"
          ],
          [
           "Madhya Pradesh",
           " 30-09-2019",
           " Monthly",
           3.08,
           16159315,
           39.4,
           "Rural"
          ],
          [
           "Madhya Pradesh",
           " 31-10-2019",
           " Monthly",
           2.98,
           17060638,
           41.46,
           "Rural"
          ],
          [
           "Madhya Pradesh",
           " 30-11-2019",
           " Monthly",
           2.72,
           16306428,
           39.44,
           "Rural"
          ],
          [
           "Madhya Pradesh",
           " 31-12-2019",
           " Monthly",
           2.94,
           16854647,
           40.77,
           "Rural"
          ],
          [
           "Madhya Pradesh",
           " 31-01-2020",
           " Monthly",
           3.66,
           16183702,
           39.35,
           "Rural"
          ],
          [
           "Madhya Pradesh",
           " 29-02-2020",
           " Monthly",
           4.42,
           16178044,
           39.57,
           "Rural"
          ],
          [
           "Madhya Pradesh",
           " 31-03-2020",
           " Monthly",
           1.19,
           16480441,
           38.9,
           "Rural"
          ],
          [
           "Madhya Pradesh",
           " 30-04-2020",
           " Monthly",
           12.5,
           14238959,
           37.88,
           "Rural"
          ],
          [
           "Madhya Pradesh",
           " 31-05-2020",
           " Monthly",
           22.46,
           13099601,
           39.24,
           "Rural"
          ],
          [
           "Madhya Pradesh",
           " 30-06-2020",
           " Monthly",
           6.46,
           16748971,
           41.5,
           "Rural"
          ],
          [
           "Maharashtra",
           " 31-05-2019",
           " Monthly",
           3.67,
           23896858,
           47.11,
           "Rural"
          ],
          [
           "Maharashtra",
           " 30-06-2019",
           " Monthly",
           4.34,
           23056511,
           45.69,
           "Rural"
          ],
          [
           "Maharashtra",
           " 31-07-2019",
           " Monthly",
           3.66,
           24843750,
           48.8,
           "Rural"
          ],
          [
           "Maharashtra",
           " 31-08-2019",
           " Monthly",
           3.76,
           26835389,
           52.67,
           "Rural"
          ],
          [
           "Maharashtra",
           " 30-09-2019",
           " Monthly",
           4.4,
           25219281,
           49.74,
           "Rural"
          ],
          [
           "Maharashtra",
           " 31-10-2019",
           " Monthly",
           3.81,
           24330249,
           47.61,
           "Rural"
          ],
          [
           "Maharashtra",
           " 30-11-2019",
           " Monthly",
           3.68,
           24881383,
           48.53,
           "Rural"
          ],
          [
           "Maharashtra",
           " 31-12-2019",
           " Monthly",
           3.03,
           26357625,
           50.98,
           "Rural"
          ],
          [
           "Maharashtra",
           " 31-01-2020",
           " Monthly",
           3.8,
           25881398,
           50.36,
           "Rural"
          ],
          [
           "Maharashtra",
           " 29-02-2020",
           " Monthly",
           4.24,
           25293535,
           49.36,
           "Rural"
          ],
          [
           "Maharashtra",
           " 31-03-2020",
           " Monthly",
           5.38,
           23130976,
           45.6,
           "Rural"
          ],
          [
           "Maharashtra",
           " 30-04-2020",
           " Monthly",
           25.28,
           15014802,
           37.42,
           "Rural"
          ],
          [
           "Maharashtra",
           " 31-05-2020",
           " Monthly",
           16.89,
           18423447,
           41.21,
           "Rural"
          ],
          [
           "Maharashtra",
           " 30-06-2020",
           " Monthly",
           9.4,
           23601016,
           48.34,
           "Rural"
          ],
          [
           "Meghalaya",
           " 31-05-2019",
           " Monthly",
           3.16,
           1119011,
           66.13,
           "Rural"
          ],
          [
           "Meghalaya",
           " 30-06-2019",
           " Monthly",
           4.23,
           1024797,
           61.09,
           "Rural"
          ],
          [
           "Meghalaya",
           " 31-07-2019",
           " Monthly",
           1.03,
           1158511,
           66.67,
           "Rural"
          ],
          [
           "Meghalaya",
           " 31-08-2019",
           " Monthly",
           0.52,
           1065725,
           60.86,
           "Rural"
          ],
          [
           "Meghalaya",
           " 30-09-2019",
           " Monthly",
           0.24,
           1162159,
           66.02,
           "Rural"
          ],
          [
           "Meghalaya",
           " 31-10-2019",
           " Monthly",
           3.7,
           1080609,
           63.44,
           "Rural"
          ],
          [
           "Meghalaya",
           " 30-11-2019",
           " Monthly",
           1.5,
           1205703,
           69.03,
           "Rural"
          ],
          [
           "Meghalaya",
           " 31-12-2019",
           " Monthly",
           1.8,
           1102997,
           63.18,
           "Rural"
          ],
          [
           "Meghalaya",
           " 31-01-2020",
           " Monthly",
           0.97,
           1229406,
           69.66,
           "Rural"
          ],
          [
           "Meghalaya",
           " 29-02-2020",
           " Monthly",
           2.76,
           1112864,
           64.06,
           "Rural"
          ],
          [
           "Meghalaya",
           " 31-03-2020",
           " Monthly",
           1.28,
           1192616,
           67.46,
           "Rural"
          ],
          [
           "Meghalaya",
           " 30-04-2020",
           " Monthly",
           8.38,
           803118,
           48.83,
           "Rural"
          ],
          [
           "Meghalaya",
           " 31-05-2020",
           " Monthly",
           3.73,
           992148,
           57.26,
           "Rural"
          ],
          [
           "Meghalaya",
           " 30-06-2020",
           " Monthly",
           1.35,
           1150200,
           64.63,
           "Rural"
          ],
          [
           "Odisha",
           " 31-05-2019",
           " Monthly",
           4.17,
           11155753,
           40.47,
           "Rural"
          ],
          [
           "Odisha",
           " 30-06-2019",
           " Monthly",
           4.71,
           10965154,
           39.94,
           "Rural"
          ],
          [
           "Odisha",
           " 31-07-2019",
           " Monthly",
           3.31,
           12009883,
           43.05,
           "Rural"
          ],
          [
           "Odisha",
           " 31-08-2019",
           " Monthly",
           3.68,
           11727659,
           42.13,
           "Rural"
          ],
          [
           "Odisha",
           " 30-09-2019",
           " Monthly",
           4.31,
           11167715,
           40.32,
           "Rural"
          ],
          [
           "Odisha",
           " 31-10-2019",
           " Monthly",
           4.28,
           11621534,
           41.88,
           "Rural"
          ],
          [
           "Odisha",
           " 30-11-2019",
           " Monthly",
           4.72,
           12192623,
           44.06,
           "Rural"
          ],
          [
           "Odisha",
           " 31-12-2019",
           " Monthly",
           4.67,
           11345069,
           40.91,
           "Rural"
          ],
          [
           "Odisha",
           " 31-01-2020",
           " Monthly",
           1.81,
           11182128,
           39.09,
           "Rural"
          ],
          [
           "Odisha",
           " 29-02-2020",
           " Monthly",
           3.31,
           11842655,
           41.98,
           "Rural"
          ],
          [
           "Odisha",
           " 31-03-2020",
           " Monthly",
           15.09,
           9814156,
           39.55,
           "Rural"
          ],
          [
           "Odisha",
           " 30-04-2020",
           " Monthly",
           24.48,
           5562449,
           25.16,
           "Rural"
          ],
          [
           "Odisha",
           " 31-05-2020",
           " Monthly",
           9.45,
           9683719,
           36.48,
           "Rural"
          ],
          [
           "Odisha",
           " 30-06-2020",
           " Monthly",
           4.59,
           10187145,
           36.36,
           "Rural"
          ],
          [
           "Puducherry",
           " 31-05-2019",
           " Monthly",
           0,
           172474,
           43.08,
           "Rural"
          ],
          [
           "Puducherry",
           " 30-06-2019",
           " Monthly",
           0,
           184527,
           45.95,
           "Rural"
          ],
          [
           "Puducherry",
           " 31-07-2019",
           " Monthly",
           0,
           139227,
           34.56,
           "Rural"
          ],
          [
           "Puducherry",
           " 31-08-2019",
           " Monthly",
           4.85,
           183930,
           47.83,
           "Rural"
          ],
          [
           "Puducherry",
           " 30-09-2019",
           " Monthly",
           0,
           175718,
           43.34,
           "Rural"
          ],
          [
           "Puducherry",
           " 31-10-2019",
           " Monthly",
           1.18,
           180283,
           44.85,
           "Rural"
          ],
          [
           "Puducherry",
           " 30-11-2019",
           " Monthly",
           0,
           142787,
           35,
           "Rural"
          ],
          [
           "Puducherry",
           " 31-12-2019",
           " Monthly",
           1.99,
           180808,
           45.07,
           "Rural"
          ],
          [
           "Puducherry",
           " 31-01-2020",
           " Monthly",
           0.58,
           176252,
           43.18,
           "Rural"
          ],
          [
           "Puducherry",
           " 29-02-2020",
           " Monthly",
           1.74,
           183619,
           45.38,
           "Rural"
          ],
          [
           "Puducherry",
           " 31-03-2020",
           " Monthly",
           2.31,
           142176,
           35.23,
           "Rural"
          ],
          [
           "Puducherry",
           " 30-04-2020",
           " Monthly",
           74.51,
           49420,
           46.79,
           "Rural"
          ],
          [
           "Punjab",
           " 31-05-2019",
           " Monthly",
           9.17,
           6088547,
           44.79,
           "Rural"
          ],
          [
           "Punjab",
           " 30-06-2019",
           " Monthly",
           12.21,
           6025235,
           45.79,
           "Rural"
          ],
          [
           "Punjab",
           " 31-07-2019",
           " Monthly",
           9.64,
           6308129,
           46.5,
           "Rural"
          ],
          [
           "Punjab",
           " 31-08-2019",
           " Monthly",
           6.69,
           6183427,
           44.08,
           "Rural"
          ],
          [
           "Punjab",
           " 30-09-2019",
           " Monthly",
           8.59,
           6260971,
           45.49,
           "Rural"
          ],
          [
           "Punjab",
           " 31-10-2019",
           " Monthly",
           12.56,
           6021921,
           45.66,
           "Rural"
          ],
          [
           "Punjab",
           " 30-11-2019",
           " Monthly",
           7.07,
           6395022,
           45.55,
           "Rural"
          ],
          [
           "Punjab",
           " 31-12-2019",
           " Monthly",
           6.13,
           6164215,
           43.4,
           "Rural"
          ],
          [
           "Punjab",
           " 31-01-2020",
           " Monthly",
           9.69,
           6189471,
           45.22,
           "Rural"
          ],
          [
           "Punjab",
           " 29-02-2020",
           " Monthly",
           10.41,
           6009820,
           44.19,
           "Rural"
          ],
          [
           "Punjab",
           " 31-03-2020",
           " Monthly",
           10.51,
           6373692,
           46.85,
           "Rural"
          ],
          [
           "Punjab",
           " 30-04-2020",
           " Monthly",
           3.69,
           4721590,
           32.2,
           "Rural"
          ],
          [
           "Punjab",
           " 31-05-2020",
           " Monthly",
           40.59,
           3727366,
           41.14,
           "Rural"
          ],
          [
           "Punjab",
           " 30-06-2020",
           " Monthly",
           20,
           5364047,
           43.9,
           "Rural"
          ],
          [
           "Rajasthan",
           " 31-05-2019",
           " Monthly",
           4.03,
           15226005,
           38.52,
           "Rural"
          ],
          [
           "Rajasthan",
           " 30-06-2019",
           " Monthly",
           13.7,
           14610564,
           41.02,
           "Rural"
          ],
          [
           "Rajasthan",
           " 31-07-2019",
           " Monthly",
           9.7,
           14859873,
           39.78,
           "Rural"
          ],
          [
           "Rajasthan",
           " 31-08-2019",
           " Monthly",
           12.5,
           15052051,
           41.48,
           "Rural"
          ],
          [
           "Rajasthan",
           " 30-09-2019",
           " Monthly",
           5.45,
           15419779,
           39.24,
           "Rural"
          ],
          [
           "Rajasthan",
           " 31-10-2019",
           " Monthly",
           14.66,
           15178544,
           42.69,
           "Rural"
          ],
          [
           "Rajasthan",
           " 30-11-2019",
           " Monthly",
           10.47,
           15278556,
           40.87,
           "Rural"
          ],
          [
           "Rajasthan",
           " 31-12-2019",
           " Monthly",
           13.96,
           15485307,
           43,
           "Rural"
          ],
          [
           "Rajasthan",
           " 31-01-2020",
           " Monthly",
           8,
           15484353,
           40.12,
           "Rural"
          ],
          [
           "Rajasthan",
           " 29-02-2020",
           " Monthly",
           14.48,
           15040572,
           41.83,
           "Rural"
          ],
          [
           "Rajasthan",
           " 31-03-2020",
           " Monthly",
           9.47,
           15059769,
           39.47,
           "Rural"
          ],
          [
           "Rajasthan",
           " 30-04-2020",
           " Monthly",
           12.25,
           13051219,
           35.21,
           "Rural"
          ],
          [
           "Rajasthan",
           " 31-05-2020",
           " Monthly",
           10.45,
           15586833,
           41.11,
           "Rural"
          ],
          [
           "Rajasthan",
           " 30-06-2020",
           " Monthly",
           13.86,
           16076978,
           43.98,
           "Rural"
          ],
          [
           "Sikkim",
           " 31-10-2019",
           " Monthly",
           5.48,
           146688,
           44.06,
           "Rural"
          ],
          [
           "Sikkim",
           " 30-11-2019",
           " Monthly",
           13.11,
           162426,
           53.04,
           "Rural"
          ],
          [
           "Sikkim",
           " 31-12-2019",
           " Monthly",
           1,
           161647,
           46.3,
           "Rural"
          ],
          [
           "Sikkim",
           " 30-04-2020",
           " Monthly",
           0,
           133399,
           37.72,
           "Rural"
          ],
          [
           "Sikkim",
           " 30-06-2020",
           " Monthly",
           5.81,
           141313,
           42.36,
           "Rural"
          ],
          [
           "Tamil Nadu",
           " 31-05-2019",
           " Monthly",
           0.97,
           15844698,
           49.44,
           "Rural"
          ],
          [
           "Tamil Nadu",
           " 30-06-2019",
           " Monthly",
           0.92,
           16375303,
           50.99,
           "Rural"
          ],
          [
           "Tamil Nadu",
           " 31-07-2019",
           " Monthly",
           6.01,
           16455928,
           53.94,
           "Rural"
          ],
          [
           "Tamil Nadu",
           " 31-08-2019",
           " Monthly",
           2.91,
           16463931,
           52.17,
           "Rural"
          ],
          [
           "Tamil Nadu",
           " 30-09-2019",
           " Monthly",
           1.71,
           14595441,
           45.62,
           "Rural"
          ],
          [
           "Tamil Nadu",
           " 31-10-2019",
           " Monthly",
           1.46,
           15595647,
           48.55,
           "Rural"
          ],
          [
           "Tamil Nadu",
           " 30-11-2019",
           " Monthly",
           2.46,
           16223430,
           50.95,
           "Rural"
          ],
          [
           "Tamil Nadu",
           " 31-12-2019",
           " Monthly",
           3.73,
           15356938,
           48.8,
           "Rural"
          ],
          [
           "Tamil Nadu",
           " 31-01-2020",
           " Monthly",
           1.18,
           14954646,
           46.23,
           "Rural"
          ],
          [
           "Tamil Nadu",
           " 29-02-2020",
           " Monthly",
           1.17,
           15828488,
           48.86,
           "Rural"
          ],
          [
           "Tamil Nadu",
           " 31-03-2020",
           " Monthly",
           6.36,
           15848590,
           51.56,
           "Rural"
          ],
          [
           "Tamil Nadu",
           " 30-04-2020",
           " Monthly",
           53.19,
           5086200,
           33.05,
           "Rural"
          ],
          [
           "Tamil Nadu",
           " 31-05-2020",
           " Monthly",
           38.73,
           5768342,
           28.6,
           "Rural"
          ],
          [
           "Tamil Nadu",
           " 30-06-2020",
           " Monthly",
           2.06,
           10169115,
           31.49,
           "Rural"
          ],
          [
           "Telangana",
           " 31-05-2019",
           " Monthly",
           2.23,
           11053353,
           61.74,
           "Rural"
          ],
          [
           "Telangana",
           " 30-06-2019",
           " Monthly",
           5.92,
           10728822,
           62.19,
           "Rural"
          ],
          [
           "Telangana",
           " 31-07-2019",
           " Monthly",
           2.45,
           11538688,
           64.4,
           "Rural"
          ],
          [
           "Telangana",
           " 31-08-2019",
           " Monthly",
           1.4,
           10743959,
           59.23,
           "Rural"
          ],
          [
           "Telangana",
           " 30-09-2019",
           " Monthly",
           5.49,
           12636415,
           72.57,
           "Rural"
          ],
          [
           "Telangana",
           " 31-10-2019",
           " Monthly",
           7.29,
           11375354,
           66.49,
           "Rural"
          ],
          [
           "Telangana",
           " 30-11-2019",
           " Monthly",
           6.47,
           11265828,
           65.17,
           "Rural"
          ],
          [
           "Telangana",
           " 31-12-2019",
           " Monthly",
           1.35,
           11068056,
           60.61,
           "Rural"
          ],
          [
           "Telangana",
           " 31-01-2020",
           " Monthly",
           5.02,
           12065915,
           68.51,
           "Rural"
          ],
          [
           "Telangana",
           " 29-02-2020",
           " Monthly",
           9.02,
           11304474,
           66.92,
           "Rural"
          ],
          [
           "Telangana",
           " 31-03-2020",
           " Monthly",
           5.63,
           12028377,
           68.53,
           "Rural"
          ],
          [
           "Telangana",
           " 30-04-2020",
           " Monthly",
           4.51,
           8793799,
           49.44,
           "Rural"
          ],
          [
           "Telangana",
           " 31-05-2020",
           " Monthly",
           34.01,
           7508747,
           61,
           "Rural"
          ],
          [
           "Telangana",
           " 30-06-2020",
           " Monthly",
           19.3,
           8891181,
           58.97,
           "Rural"
          ],
          [
           "Tripura",
           " 31-05-2019",
           " Monthly",
           29.25,
           1019549,
           64.47,
           "Rural"
          ],
          [
           "Tripura",
           " 30-06-2019",
           " Monthly",
           26.64,
           1107013,
           67.4,
           "Rural"
          ],
          [
           "Tripura",
           " 31-07-2019",
           " Monthly",
           22.47,
           1052597,
           60.54,
           "Rural"
          ],
          [
           "Tripura",
           " 31-08-2019",
           " Monthly",
           25.49,
           975501,
           58.29,
           "Rural"
          ],
          [
           "Tripura",
           " 30-09-2019",
           " Monthly",
           30.23,
           1034408,
           65.9,
           "Rural"
          ],
          [
           "Tripura",
           " 31-10-2019",
           " Monthly",
           27.54,
           1113764,
           68.21,
           "Rural"
          ],
          [
           "Tripura",
           " 30-11-2019",
           " Monthly",
           25.25,
           1084633,
           64.29,
           "Rural"
          ],
          [
           "Tripura",
           " 31-12-2019",
           " Monthly",
           26.53,
           1046878,
           63.02,
           "Rural"
          ],
          [
           "Tripura",
           " 31-01-2020",
           " Monthly",
           31.91,
           1057975,
           68.61,
           "Rural"
          ],
          [
           "Tripura",
           " 29-02-2020",
           " Monthly",
           26.22,
           1169347,
           69.88,
           "Rural"
          ],
          [
           "Tripura",
           " 31-03-2020",
           " Monthly",
           31.61,
           1060946,
           68.28,
           "Rural"
          ],
          [
           "Tripura",
           " 30-04-2020",
           " Monthly",
           43.64,
           675083,
           52.63,
           "Rural"
          ],
          [
           "Tripura",
           " 31-05-2020",
           " Monthly",
           14.71,
           911789,
           46.9,
           "Rural"
          ],
          [
           "Tripura",
           " 30-06-2020",
           " Monthly",
           18.84,
           1106978,
           59.74,
           "Rural"
          ],
          [
           "Uttar Pradesh",
           " 31-05-2019",
           " Monthly",
           10.26,
           43287808,
           39.96,
           "Rural"
          ],
          [
           "Uttar Pradesh",
           " 30-06-2019",
           " Monthly",
           11.13,
           42276572,
           39.32,
           "Rural"
          ],
          [
           "Uttar Pradesh",
           " 31-07-2019",
           " Monthly",
           9.19,
           42697000,
           38.78,
           "Rural"
          ],
          [
           "Uttar Pradesh",
           " 31-08-2019",
           " Monthly",
           11.47,
           43298746,
           40.24,
           "Rural"
          ],
          [
           "Uttar Pradesh",
           " 30-09-2019",
           " Monthly",
           6.45,
           44198762,
           38.79,
           "Rural"
          ],
          [
           "Uttar Pradesh",
           " 31-10-2019",
           " Monthly",
           10.18,
           42833265,
           39.07,
           "Rural"
          ],
          [
           "Uttar Pradesh",
           " 30-11-2019",
           " Monthly",
           6.94,
           43261530,
           38.01,
           "Rural"
          ],
          [
           "Uttar Pradesh",
           " 31-12-2019",
           " Monthly",
           8.43,
           44640087,
           39.77,
           "Rural"
          ],
          [
           "Uttar Pradesh",
           " 31-01-2020",
           " Monthly",
           6.06,
           45777509,
           39.67,
           "Rural"
          ],
          [
           "Uttar Pradesh",
           " 29-02-2020",
           " Monthly",
           8.12,
           44257432,
           39.13,
           "Rural"
          ],
          [
           "Uttar Pradesh",
           " 31-03-2020",
           " Monthly",
           9.37,
           43086706,
           38.53,
           "Rural"
          ],
          [
           "Uttar Pradesh",
           " 30-04-2020",
           " Monthly",
           19.92,
           39970677,
           40.37,
           "Rural"
          ],
          [
           "Uttar Pradesh",
           " 31-05-2020",
           " Monthly",
           16.89,
           38640999,
           37.52,
           "Rural"
          ],
          [
           "Uttar Pradesh",
           " 30-06-2020",
           " Monthly",
           8.51,
           41908909,
           36.89,
           "Rural"
          ],
          [
           "Uttarakhand",
           " 31-05-2019",
           " Monthly",
           1.63,
           2108044,
           37.47,
           "Rural"
          ],
          [
           "Uttarakhand",
           " 30-06-2019",
           " Monthly",
           4.65,
           2021553,
           37.01,
           "Rural"
          ],
          [
           "Uttarakhand",
           " 31-07-2019",
           " Monthly",
           5.74,
           2000524,
           36.97,
           "Rural"
          ],
          [
           "Uttarakhand",
           " 31-08-2019",
           " Monthly",
           6.11,
           1911380,
           35.39,
           "Rural"
          ],
          [
           "Uttarakhand",
           " 30-09-2019",
           " Monthly",
           3.47,
           2157845,
           38.79,
           "Rural"
          ],
          [
           "Uttarakhand",
           " 31-10-2019",
           " Monthly",
           4.83,
           2027662,
           36.9,
           "Rural"
          ],
          [
           "Uttarakhand",
           " 30-11-2019",
           " Monthly",
           5.56,
           2007113,
           36.73,
           "Rural"
          ],
          [
           "Uttarakhand",
           " 31-12-2019",
           " Monthly",
           4.52,
           1947566,
           35.19,
           "Rural"
          ],
          [
           "Uttarakhand",
           " 31-01-2020",
           " Monthly",
           4.17,
           1986386,
           35.69,
           "Rural"
          ],
          [
           "Uttarakhand",
           " 29-02-2020",
           " Monthly",
           4.85,
           2057523,
           37.16,
           "Rural"
          ],
          [
           "Uttarakhand",
           " 30-04-2020",
           " Monthly",
           3.66,
           1972074,
           35.04,
           "Rural"
          ],
          [
           "Uttarakhand",
           " 31-05-2020",
           " Monthly",
           3.57,
           1915482,
           33.94,
           "Rural"
          ],
          [
           "Uttarakhand",
           " 30-06-2020",
           " Monthly",
           10.71,
           1675441,
           32,
           "Rural"
          ],
          [
           "West Bengal",
           " 31-05-2019",
           " Monthly",
           6.02,
           23452875,
           46.41,
           "Rural"
          ],
          [
           "West Bengal",
           " 30-06-2019",
           " Monthly",
           5.85,
           25543465,
           50.36,
           "Rural"
          ],
          [
           "West Bengal",
           " 31-07-2019",
           " Monthly",
           5.62,
           24857807,
           48.78,
           "Rural"
          ],
          [
           "West Bengal",
           " 31-08-2019",
           " Monthly",
           5.58,
           24924827,
           48.79,
           "Rural"
          ],
          [
           "West Bengal",
           " 30-09-2019",
           " Monthly",
           5.26,
           25610773,
           49.87,
           "Rural"
          ],
          [
           "West Bengal",
           " 31-10-2019",
           " Monthly",
           6.78,
           24353018,
           48.09,
           "Rural"
          ],
          [
           "West Bengal",
           " 30-11-2019",
           " Monthly",
           5.83,
           25630359,
           50,
           "Rural"
          ],
          [
           "West Bengal",
           " 31-12-2019",
           " Monthly",
           5.79,
           24906239,
           48.47,
           "Rural"
          ],
          [
           "West Bengal",
           " 31-01-2020",
           " Monthly",
           6.79,
           24612171,
           48.3,
           "Rural"
          ],
          [
           "West Bengal",
           " 29-02-2020",
           " Monthly",
           3.78,
           26093009,
           49.51,
           "Rural"
          ],
          [
           "West Bengal",
           " 31-03-2020",
           " Monthly",
           7.02,
           25097812,
           49.18,
           "Rural"
          ],
          [
           "West Bengal",
           " 30-04-2020",
           " Monthly",
           18.32,
           17639370,
           39.27,
           "Rural"
          ],
          [
           "West Bengal",
           " 31-05-2020",
           " Monthly",
           18.43,
           19115772,
           42.53,
           "Rural"
          ],
          [
           "West Bengal",
           " 30-06-2020",
           " Monthly",
           4.94,
           21225887,
           40.44,
           "Rural"
          ],
          [
           "Andhra Pradesh",
           " 31-05-2019",
           "Monthly",
           6.09,
           4788661,
           37.45,
           "Urban"
          ],
          [
           "Andhra Pradesh",
           " 30-06-2019",
           "Monthly",
           3.8,
           4824630,
           36.76,
           "Urban"
          ],
          [
           "Andhra Pradesh",
           " 31-07-2019",
           "Monthly",
           5.64,
           4657443,
           36.1,
           "Urban"
          ],
          [
           "Andhra Pradesh",
           " 31-08-2019",
           "Monthly",
           4.61,
           4743179,
           36.29,
           "Urban"
          ],
          [
           "Andhra Pradesh",
           " 30-09-2019",
           "Monthly",
           6.01,
           4733996,
           36.69,
           "Urban"
          ],
          [
           "Andhra Pradesh",
           " 31-10-2019",
           "Monthly",
           4.7,
           4774377,
           36.41,
           "Urban"
          ],
          [
           "Andhra Pradesh",
           " 30-11-2019",
           "Monthly",
           7.54,
           4668772,
           36.62,
           "Urban"
          ],
          [
           "Andhra Pradesh",
           " 31-12-2019",
           "Monthly",
           7.88,
           4913963,
           38.61,
           "Urban"
          ],
          [
           "Andhra Pradesh",
           " 31-01-2020",
           "Monthly",
           7.11,
           4618860,
           35.91,
           "Urban"
          ],
          [
           "Andhra Pradesh",
           " 29-02-2020",
           "Monthly",
           5.66,
           4822035,
           36.84,
           "Urban"
          ],
          [
           "Andhra Pradesh",
           " 31-03-2020",
           "Monthly",
           9.88,
           4521537,
           36.08,
           "Urban"
          ],
          [
           "Andhra Pradesh",
           " 30-04-2020",
           "Monthly",
           32.3,
           2544084,
           26.97,
           "Urban"
          ],
          [
           "Andhra Pradesh",
           " 31-05-2020",
           "Monthly",
           24.91,
           3428356,
           32.69,
           "Urban"
          ],
          [
           "Andhra Pradesh",
           " 30-06-2020",
           "Monthly",
           5.86,
           4954389,
           37.61,
           "Urban"
          ],
          [
           "Assam",
           " 31-05-2019",
           "Monthly",
           7.87,
           1671707,
           44.92,
           "Urban"
          ],
          [
           "Assam",
           " 30-06-2019",
           "Monthly",
           9.89,
           1647342,
           45.17,
           "Urban"
          ],
          [
           "Assam",
           " 31-07-2019",
           "Monthly",
           3.21,
           1739838,
           44.32,
           "Urban"
          ],
          [
           "Assam",
           " 31-08-2019",
           "Monthly",
           10.39,
           1595582,
           43.81,
           "Urban"
          ],
          [
           "Assam",
           " 30-09-2019",
           "Monthly",
           9.26,
           1576480,
           42.66,
           "Urban"
          ],
          [
           "Assam",
           " 31-10-2019",
           "Monthly",
           11.17,
           1595176,
           44.01,
           "Urban"
          ],
          [
           "Assam",
           " 30-11-2019",
           "Monthly",
           6.31,
           1708045,
           44.59,
           "Urban"
          ],
          [
           "Assam",
           " 31-12-2019",
           "Monthly",
           5.02,
           1722303,
           44.26,
           "Urban"
          ],
          [
           "Assam",
           " 31-01-2020",
           "Monthly",
           7.24,
           1630908,
           42.82,
           "Urban"
          ],
          [
           "Assam",
           " 29-02-2020",
           "Monthly",
           9.98,
           1625454,
           43.9,
           "Urban"
          ],
          [
           "Assam",
           " 31-03-2020",
           "Monthly",
           10.34,
           1664145,
           45.03,
           "Urban"
          ],
          [
           "Assam",
           " 30-04-2020",
           "Monthly",
           8.37,
           1454956,
           38.45,
           "Urban"
          ],
          [
           "Assam",
           " 31-05-2020",
           "Monthly",
           10.77,
           1441722,
           39.04,
           "Urban"
          ],
          [
           "Assam",
           " 30-06-2020",
           "Monthly",
           3.42,
           1551007,
           38.73,
           "Urban"
          ],
          [
           "Bihar",
           " 31-05-2019",
           "Monthly",
           19.9,
           3029344,
           39.8,
           "Urban"
          ],
          [
           "Bihar",
           " 30-06-2019",
           "Monthly",
           13.29,
           3248864,
           39.35,
           "Urban"
          ],
          [
           "Bihar",
           " 31-07-2019",
           "Monthly",
           16.41,
           3059744,
           38.36,
           "Urban"
          ],
          [
           "Bihar",
           " 31-08-2019",
           "Monthly",
           17.66,
           2994763,
           38.03,
           "Urban"
          ],
          [
           "Bihar",
           " 30-09-2019",
           "Monthly",
           20.46,
           2992082,
           39.25,
           "Urban"
          ],
          [
           "Bihar",
           " 31-10-2019",
           "Monthly",
           14.06,
           3173429,
           38.45,
           "Urban"
          ],
          [
           "Bihar",
           " 30-11-2019",
           "Monthly",
           17.62,
           3081077,
           38.86,
           "Urban"
          ],
          [
           "Bihar",
           " 31-12-2019",
           "Monthly",
           14.91,
           2977857,
           36.29,
           "Urban"
          ],
          [
           "Bihar",
           " 31-01-2020",
           "Monthly",
           20.69,
           2988665,
           38.99,
           "Urban"
          ],
          [
           "Bihar",
           " 29-02-2020",
           "Monthly",
           15.11,
           3113464,
           37.87,
           "Urban"
          ],
          [
           "Bihar",
           " 31-03-2020",
           "Monthly",
           15.73,
           3049637,
           37.29,
           "Urban"
          ],
          [
           "Bihar",
           " 30-04-2020",
           "Monthly",
           58.77,
           1400962,
           34.94,
           "Urban"
          ],
          [
           "Bihar",
           " 31-05-2020",
           "Monthly",
           37.87,
           2207026,
           36.45,
           "Urban"
          ],
          [
           "Bihar",
           " 30-06-2020",
           "Monthly",
           12.45,
           3124663,
           36.54,
           "Urban"
          ],
          [
           "Chandigarh",
           " 31-05-2019",
           "Monthly",
           18.35,
           348042,
           44.89,
           "Urban"
          ],
          [
           "Chandigarh",
           " 30-06-2019",
           "Monthly",
           12.4,
           337145,
           40.44,
           "Urban"
          ],
          [
           "Chandigarh",
           " 31-07-2019",
           "Monthly",
           21.8,
           294379,
           39.47,
           "Urban"
          ],
          [
           "Chandigarh",
           " 31-08-2019",
           "Monthly",
           9.52,
           328282,
           37.95,
           "Urban"
          ],
          [
           "Chandigarh",
           " 30-09-2019",
           "Monthly",
           20.14,
           327239,
           42.77,
           "Urban"
          ],
          [
           "Chandigarh",
           " 31-10-2019",
           "Monthly",
           13.99,
           330856,
           40.06,
           "Urban"
          ],
          [
           "Chandigarh",
           " 30-11-2019",
           "Monthly",
           22.05,
           289593,
           38.6,
           "Urban"
          ],
          [
           "Chandigarh",
           " 31-12-2019",
           "Monthly",
           8.33,
           311146,
           35.19,
           "Urban"
          ],
          [
           "Chandigarh",
           " 31-01-2020",
           "Monthly",
           20,
           332062,
           42.94,
           "Urban"
          ],
          [
           "Chandigarh",
           " 29-02-2020",
           "Monthly",
           16.67,
           316887,
           39.25,
           "Urban"
          ],
          [
           "Chandigarh",
           " 31-03-2020",
           "Monthly",
           21.43,
           279839,
           36.68,
           "Urban"
          ],
          [
           "Chandigarh",
           " 30-06-2020",
           "Monthly",
           7.22,
           306505,
           33.8,
           "Urban"
          ],
          [
           "Chhattisgarh",
           " 31-05-2019",
           "Monthly",
           9.77,
           2223129,
           45.61,
           "Urban"
          ],
          [
           "Chhattisgarh",
           " 30-06-2019",
           "Monthly",
           11.77,
           2192020,
           45.88,
           "Urban"
          ],
          [
           "Chhattisgarh",
           " 31-07-2019",
           "Monthly",
           8.17,
           2285436,
           45.85,
           "Urban"
          ],
          [
           "Chhattisgarh",
           " 31-08-2019",
           "Monthly",
           6.29,
           2392400,
           46.91,
           "Urban"
          ],
          [
           "Chhattisgarh",
           " 30-09-2019",
           "Monthly",
           9.46,
           2311507,
           46.8,
           "Urban"
          ],
          [
           "Chhattisgarh",
           " 31-10-2019",
           "Monthly",
           10.27,
           2297096,
           46.82,
           "Urban"
          ],
          [
           "Chhattisgarh",
           " 30-11-2019",
           "Monthly",
           8.32,
           2341284,
           46.59,
           "Urban"
          ],
          [
           "Chhattisgarh",
           " 31-12-2019",
           "Monthly",
           3.57,
           2415436,
           45.59,
           "Urban"
          ],
          [
           "Chhattisgarh",
           " 31-01-2020",
           "Monthly",
           9.01,
           2315972,
           46.21,
           "Urban"
          ],
          [
           "Chhattisgarh",
           " 29-02-2020",
           "Monthly",
           9.79,
           2347941,
           47.14,
           "Urban"
          ],
          [
           "Chhattisgarh",
           " 31-03-2020",
           "Monthly",
           8.21,
           2407509,
           47.39,
           "Urban"
          ],
          [
           "Chhattisgarh",
           " 30-04-2020",
           "Monthly",
           20.13,
           1066126,
           24.06,
           "Urban"
          ],
          [
           "Chhattisgarh",
           " 31-05-2020",
           "Monthly",
           24.1,
           1276291,
           30.24,
           "Urban"
          ],
          [
           "Chhattisgarh",
           " 30-06-2020",
           "Monthly",
           27.07,
           1602231,
           39.41,
           "Urban"
          ],
          [
           "Delhi",
           " 31-05-2019",
           "Monthly",
           12.31,
           5756475,
           44.17,
           "Urban"
          ],
          [
           "Delhi",
           " 30-06-2019",
           "Monthly",
           12.76,
           5550172,
           42.71,
           "Urban"
          ],
          [
           "Delhi",
           " 31-07-2019",
           "Monthly",
           14.68,
           5393091,
           42.34,
           "Urban"
          ],
          [
           "Delhi",
           " 31-08-2019",
           "Monthly",
           13.52,
           5552510,
           42.9,
           "Urban"
          ],
          [
           "Delhi",
           " 30-09-2019",
           "Monthly",
           20.59,
           5642253,
           47.36,
           "Urban"
          ],
          [
           "Delhi",
           " 31-10-2019",
           "Monthly",
           12.41,
           6030363,
           45.78,
           "Urban"
          ],
          [
           "Delhi",
           " 30-11-2019",
           "Monthly",
           16.11,
           5439600,
           43.02,
           "Urban"
          ],
          [
           "Delhi",
           " 31-12-2019",
           "Monthly",
           11.07,
           5718337,
           42.56,
           "Urban"
          ],
          [
           "Delhi",
           " 31-01-2020",
           "Monthly",
           22.45,
           5647493,
           48.09,
           "Urban"
          ],
          [
           "Delhi",
           " 29-02-2020",
           "Monthly",
           14.86,
           5708807,
           44.18,
           "Urban"
          ],
          [
           "Delhi",
           " 31-03-2020",
           "Monthly",
           17.09,
           5401392,
           42.82,
           "Urban"
          ],
          [
           "Delhi",
           " 30-04-2020",
           "Monthly",
           16.51,
           3003787,
           23.59,
           "Urban"
          ],
          [
           "Delhi",
           " 31-05-2020",
           "Monthly",
           45.78,
           2343783,
           28.28,
           "Urban"
          ],
          [
           "Delhi",
           " 30-06-2020",
           "Monthly",
           18.11,
           4306807,
           34.32,
           "Urban"
          ],
          [
           "Goa",
           " 31-05-2019",
           "Monthly",
           2.75,
           264855,
           34.17,
           "Urban"
          ],
          [
           "Goa",
           " 30-06-2019",
           "Monthly",
           13.33,
           304015,
           43.96,
           "Urban"
          ],
          [
           "Goa",
           " 31-07-2019",
           "Monthly",
           12.28,
           280367,
           40,
           "Urban"
          ],
          [
           "Goa",
           " 31-08-2019",
           "Monthly",
           4.9,
           243277,
           31.97,
           "Urban"
          ],
          [
           "Goa",
           " 30-09-2019",
           "Monthly",
           3.16,
           309643,
           39.92,
           "Urban"
          ],
          [
           "Goa",
           " 31-10-2019",
           "Monthly",
           12.31,
           290264,
           41.27,
           "Urban"
          ],
          [
           "Goa",
           " 30-11-2019",
           "Monthly",
           25.2,
           271612,
           45.22,
           "Urban"
          ],
          [
           "Goa",
           " 31-12-2019",
           "Monthly",
           16.22,
           288154,
           42.77,
           "Urban"
          ],
          [
           "Goa",
           " 31-01-2020",
           "Monthly",
           10.92,
           257814,
           35.95,
           "Urban"
          ],
          [
           "Goa",
           " 29-02-2020",
           "Monthly",
           4.31,
           306396,
           39.73,
           "Urban"
          ],
          [
           "Goa",
           " 31-03-2020",
           "Monthly",
           4.76,
           277093,
           36.05,
           "Urban"
          ],
          [
           "Goa",
           " 30-04-2020",
           "Monthly",
           11.76,
           318957,
           44.74,
           "Urban"
          ],
          [
           "Gujarat",
           " 31-05-2019",
           "Monthly",
           4.09,
           9686558,
           41.67,
           "Urban"
          ],
          [
           "Gujarat",
           " 30-06-2019",
           "Monthly",
           6.31,
           10144965,
           44.57,
           "Urban"
          ],
          [
           "Gujarat",
           " 31-07-2019",
           "Monthly",
           5.15,
           9828023,
           42.54,
           "Urban"
          ],
          [
           "Gujarat",
           " 31-08-2019",
           "Monthly",
           4.2,
           10228154,
           43.72,
           "Urban"
          ],
          [
           "Gujarat",
           " 30-09-2019",
           "Monthly",
           5.96,
           9609939,
           41.75,
           "Urban"
          ],
          [
           "Gujarat",
           " 31-10-2019",
           "Monthly",
           5.45,
           10474217,
           45.14,
           "Urban"
          ],
          [
           "Gujarat",
           " 30-11-2019",
           "Monthly",
           7.53,
           9896129,
           43.5,
           "Urban"
          ],
          [
           "Gujarat",
           " 31-12-2019",
           "Monthly",
           5.71,
           10172812,
           43.75,
           "Urban"
          ],
          [
           "Gujarat",
           " 31-01-2020",
           "Monthly",
           5.82,
           9824501,
           42.19,
           "Urban"
          ],
          [
           "Gujarat",
           " 29-02-2020",
           "Monthly",
           6.04,
           10784753,
           46.31,
           "Urban"
          ],
          [
           "Gujarat",
           " 31-03-2020",
           "Monthly",
           5.39,
           10083026,
           42.9,
           "Urban"
          ],
          [
           "Gujarat",
           " 30-04-2020",
           "Monthly",
           25.94,
           6701284,
           36.33,
           "Urban"
          ],
          [
           "Gujarat",
           " 31-05-2020",
           "Monthly",
           11.62,
           6072776,
           27.52,
           "Urban"
          ],
          [
           "Gujarat",
           " 30-06-2020",
           "Monthly",
           4.54,
           10574711,
           44.26,
           "Urban"
          ],
          [
           "Haryana",
           " 31-05-2019",
           "Monthly",
           24.67,
           2693596,
           43.18,
           "Urban"
          ],
          [
           "Haryana",
           " 30-06-2019",
           "Monthly",
           20.42,
           2845190,
           43.06,
           "Urban"
          ],
          [
           "Haryana",
           " 31-07-2019",
           "Monthly",
           25.45,
           2405973,
           38.77,
           "Urban"
          ],
          [
           "Haryana",
           " 31-08-2019",
           "Monthly",
           24.19,
           2523005,
           39.87,
           "Urban"
          ],
          [
           "Haryana",
           " 30-09-2019",
           "Monthly",
           26.84,
           2675862,
           43.7,
           "Urban"
          ],
          [
           "Haryana",
           " 31-10-2019",
           "Monthly",
           21.04,
           2821456,
           42.58,
           "Urban"
          ],
          [
           "Haryana",
           " 30-11-2019",
           "Monthly",
           27.06,
           2404239,
           39.18,
           "Urban"
          ],
          [
           "Haryana",
           " 31-12-2019",
           "Monthly",
           23.65,
           2548835,
           39.57,
           "Urban"
          ],
          [
           "Haryana",
           " 31-01-2020",
           "Monthly",
           27.24,
           2630938,
           42.75,
           "Urban"
          ],
          [
           "Haryana",
           " 29-02-2020",
           "Monthly",
           23.29,
           2752834,
           42.32,
           "Urban"
          ],
          [
           "Haryana",
           " 31-03-2020",
           "Monthly",
           27.14,
           2275407,
           36.73,
           "Urban"
          ],
          [
           "Haryana",
           " 30-04-2020",
           "Monthly",
           46.89,
           1606580,
           35.48,
           "Urban"
          ],
          [
           "Haryana",
           " 31-05-2020",
           "Monthly",
           38.46,
           2013083,
           38.27,
           "Urban"
          ],
          [
           "Haryana",
           " 30-06-2020",
           "Monthly",
           29.41,
           2304138,
           38.09,
           "Urban"
          ],
          [
           "Himachal Pradesh",
           " 31-05-2019",
           "Monthly",
           10.88,
           245668,
           45.27,
           "Urban"
          ],
          [
           "Himachal Pradesh",
           " 30-06-2019",
           "Monthly",
           21.43,
           237576,
           49.58,
           "Urban"
          ],
          [
           "Himachal Pradesh",
           " 31-07-2019",
           "Monthly",
           21.51,
           235894,
           49.22,
           "Urban"
          ],
          [
           "Himachal Pradesh",
           " 31-08-2019",
           "Monthly",
           24.48,
           236315,
           51.17,
           "Urban"
          ],
          [
           "Himachal Pradesh",
           " 30-09-2019",
           "Monthly",
           12,
           247210,
           45.87,
           "Urban"
          ],
          [
           "Himachal Pradesh",
           " 31-10-2019",
           "Monthly",
           23.77,
           232322,
           49.69,
           "Urban"
          ],
          [
           "Himachal Pradesh",
           " 30-11-2019",
           "Monthly",
           27.27,
           233029,
           52.17,
           "Urban"
          ],
          [
           "Himachal Pradesh",
           " 31-12-2019",
           "Monthly",
           25.32,
           241366,
           52.55,
           "Urban"
          ],
          [
           "Himachal Pradesh",
           " 31-01-2020",
           "Monthly",
           18.15,
           246596,
           48.92,
           "Urban"
          ],
          [
           "Himachal Pradesh",
           " 29-02-2020",
           "Monthly",
           27.31,
           227804,
           50.82,
           "Urban"
          ],
          [
           "Himachal Pradesh",
           " 31-03-2020",
           "Monthly",
           26.44,
           221432,
           48.74,
           "Urban"
          ],
          [
           "Himachal Pradesh",
           " 30-04-2020",
           "Monthly",
           2.7,
           146957,
           24.42,
           "Urban"
          ],
          [
           "Himachal Pradesh",
           " 31-05-2020",
           "Monthly",
           50,
           134868,
           43.55,
           "Urban"
          ],
          [
           "Himachal Pradesh",
           " 30-06-2020",
           "Monthly",
           10.81,
           224902,
           40.66,
           "Urban"
          ],
          [
           "Jammu & Kashmir",
           " 31-05-2019",
           "Monthly",
           23.04,
           1130139,
           46.74,
           "Urban"
          ],
          [
           "Jammu & Kashmir",
           " 30-06-2019",
           "Monthly",
           19.88,
           1139815,
           45.17,
           "Urban"
          ],
          [
           "Jammu & Kashmir",
           " 31-07-2019",
           "Monthly",
           21.55,
           1183770,
           47.8,
           "Urban"
          ],
          [
           "Jammu & Kashmir",
           " 31-10-2019",
           "Monthly",
           24.06,
           1029087,
           42.63,
           "Urban"
          ],
          [
           "Jammu & Kashmir",
           " 30-11-2019",
           "Monthly",
           14.29,
           1226793,
           44.92,
           "Urban"
          ],
          [
           "Jammu & Kashmir",
           " 31-12-2019",
           "Monthly",
           7.02,
           1209085,
           40.71,
           "Urban"
          ],
          [
           "Jammu & Kashmir",
           " 31-01-2020",
           "Monthly",
           18.54,
           1079537,
           41.4,
           "Urban"
          ],
          [
           "Jammu & Kashmir",
           " 29-02-2020",
           "Monthly",
           19.86,
           1060116,
           41.23,
           "Urban"
          ],
          [
           "Jammu & Kashmir",
           " 31-03-2020",
           "Monthly",
           14.29,
           998103,
           36.21,
           "Urban"
          ],
          [
           "Jammu & Kashmir",
           " 31-05-2020",
           "Monthly",
           12.96,
           937435,
           33.33,
           "Urban"
          ],
          [
           "Jharkhand",
           " 31-05-2019",
           "Monthly",
           17.23,
           2404033,
           43.25,
           "Urban"
          ],
          [
           "Jharkhand",
           " 30-06-2019",
           "Monthly",
           20.51,
           2326911,
           43.51,
           "Urban"
          ],
          [
           "Jharkhand",
           " 31-07-2019",
           "Monthly",
           15.67,
           2434579,
           42.82,
           "Urban"
          ],
          [
           "Jharkhand",
           " 31-08-2019",
           "Monthly",
           20.25,
           2335406,
           43.35,
           "Urban"
          ],
          [
           "Jharkhand",
           " 30-09-2019",
           "Monthly",
           21.16,
           2357627,
           44.18,
           "Urban"
          ],
          [
           "Jharkhand",
           " 31-10-2019",
           "Monthly",
           19.05,
           2460196,
           44.82,
           "Urban"
          ],
          [
           "Jharkhand",
           " 30-11-2019",
           "Monthly",
           17.34,
           2424281,
           43.17,
           "Urban"
          ],
          [
           "Jharkhand",
           " 31-12-2019",
           "Monthly",
           22.01,
           2290170,
           43.14,
           "Urban"
          ],
          [
           "Jharkhand",
           " 31-01-2020",
           "Monthly",
           22.96,
           2329293,
           44.33,
           "Urban"
          ],
          [
           "Jharkhand",
           " 29-02-2020",
           "Monthly",
           19.67,
           2493023,
           45.42,
           "Urban"
          ],
          [
           "Jharkhand",
           " 31-03-2020",
           "Monthly",
           16.4,
           2480661,
           43.34,
           "Urban"
          ],
          [
           "Jharkhand",
           " 30-04-2020",
           "Monthly",
           61.48,
           1054829,
           39.92,
           "Urban"
          ],
          [
           "Jharkhand",
           " 31-05-2020",
           "Monthly",
           70.17,
           830347,
           40.49,
           "Urban"
          ],
          [
           "Jharkhand",
           " 30-06-2020",
           "Monthly",
           19.38,
           2244460,
           40.43,
           "Urban"
          ],
          [
           "Karnataka",
           " 31-05-2019",
           "Monthly",
           6.56,
           8638239,
           40.62,
           "Urban"
          ],
          [
           "Karnataka",
           " 30-06-2019",
           "Monthly",
           5,
           8862498,
           40.89,
           "Urban"
          ],
          [
           "Karnataka",
           " 31-07-2019",
           "Monthly",
           2.29,
           8738029,
           39.09,
           "Urban"
          ],
          [
           "Karnataka",
           " 31-08-2019",
           "Monthly",
           1.27,
           8614340,
           38.04,
           "Urban"
          ],
          [
           "Karnataka",
           " 30-09-2019",
           "Monthly",
           3.57,
           8647794,
           39,
           "Urban"
          ],
          [
           "Karnataka",
           " 31-10-2019",
           "Monthly",
           3.87,
           8799249,
           39.7,
           "Urban"
          ],
          [
           "Karnataka",
           " 30-11-2019",
           "Monthly",
           3.44,
           8613835,
           38.6,
           "Urban"
          ],
          [
           "Karnataka",
           " 31-12-2019",
           "Monthly",
           1.56,
           8592376,
           37.66,
           "Urban"
          ],
          [
           "Karnataka",
           " 31-01-2020",
           "Monthly",
           3.31,
           8749154,
           38.94,
           "Urban"
          ],
          [
           "Karnataka",
           " 29-02-2020",
           "Monthly",
           2.88,
           8924061,
           39.45,
           "Urban"
          ],
          [
           "Karnataka",
           " 31-03-2020",
           "Monthly",
           4.92,
           9225835,
           41.55,
           "Urban"
          ],
          [
           "Karnataka",
           " 30-04-2020",
           "Monthly",
           25.12,
           7387995,
           42.14,
           "Urban"
          ],
          [
           "Karnataka",
           " 31-05-2020",
           "Monthly",
           15.88,
           8669258,
           43.9,
           "Urban"
          ],
          [
           "Karnataka",
           " 30-06-2020",
           "Monthly",
           6.12,
           8822411,
           39.93,
           "Urban"
          ],
          [
           "Kerala",
           " 31-05-2019",
           "Monthly",
           6.11,
           4605913,
           36.65,
           "Urban"
          ],
          [
           "Kerala",
           " 30-06-2019",
           "Monthly",
           6.67,
           4678374,
           37.42,
           "Urban"
          ],
          [
           "Kerala",
           " 31-07-2019",
           "Monthly",
           7.58,
           4105211,
           33.13,
           "Urban"
          ],
          [
           "Kerala",
           " 31-08-2019",
           "Monthly",
           7.69,
           4448650,
           35.91,
           "Urban"
          ],
          [
           "Kerala",
           " 30-09-2019",
           "Monthly",
           5.52,
           4640642,
           36.57,
           "Urban"
          ],
          [
           "Kerala",
           " 31-10-2019",
           "Monthly",
           5.35,
           4644510,
           36.49,
           "Urban"
          ],
          [
           "Kerala",
           " 30-11-2019",
           "Monthly",
           6.71,
           4062767,
           32.36,
           "Urban"
          ],
          [
           "Kerala",
           " 31-12-2019",
           "Monthly",
           7.31,
           4440283,
           35.56,
           "Urban"
          ],
          [
           "Kerala",
           " 31-01-2020",
           "Monthly",
           6.65,
           4597507,
           36.53,
           "Urban"
          ],
          [
           "Kerala",
           " 29-02-2020",
           "Monthly",
           6.08,
           4624444,
           36.48,
           "Urban"
          ],
          [
           "Kerala",
           " 31-03-2020",
           "Monthly",
           9.14,
           4079775,
           33.24,
           "Urban"
          ],
          [
           "Kerala",
           " 30-04-2020",
           "Monthly",
           21.43,
           2179106,
           20.51,
           "Urban"
          ],
          [
           "Kerala",
           " 31-05-2020",
           "Monthly",
           30.28,
           2826118,
           29.95,
           "Urban"
          ],
          [
           "Kerala",
           " 30-06-2020",
           "Monthly",
           12.17,
           4601293,
           38.68,
           "Urban"
          ],
          [
           "Madhya Pradesh",
           " 31-05-2019",
           "Monthly",
           3.91,
           6692720,
           38.96,
           "Urban"
          ],
          [
           "Madhya Pradesh",
           " 30-06-2019",
           "Monthly",
           6.38,
           6509340,
           38.8,
           "Urban"
          ],
          [
           "Madhya Pradesh",
           " 31-07-2019",
           "Monthly",
           7.38,
           6266446,
           37.67,
           "Urban"
          ],
          [
           "Madhya Pradesh",
           " 31-08-2019",
           "Monthly",
           6.82,
           6809834,
           40.6,
           "Urban"
          ],
          [
           "Madhya Pradesh",
           " 30-09-2019",
           "Monthly",
           7,
           6655967,
           39.67,
           "Urban"
          ],
          [
           "Madhya Pradesh",
           " 31-10-2019",
           "Monthly",
           4.4,
           6603715,
           38.2,
           "Urban"
          ],
          [
           "Madhya Pradesh",
           " 30-11-2019",
           "Monthly",
           6.06,
           6459457,
           37.94,
           "Urban"
          ],
          [
           "Madhya Pradesh",
           " 31-12-2019",
           "Monthly",
           6.2,
           6787403,
           39.83,
           "Urban"
          ],
          [
           "Madhya Pradesh",
           " 31-01-2020",
           "Monthly",
           5.17,
           6834930,
           39.59,
           "Urban"
          ],
          [
           "Madhya Pradesh",
           " 29-02-2020",
           "Monthly",
           4.96,
           6533435,
           37.68,
           "Urban"
          ],
          [
           "Madhya Pradesh",
           " 31-03-2020",
           "Monthly",
           4.8,
           6386723,
           36.68,
           "Urban"
          ],
          [
           "Madhya Pradesh",
           " 30-04-2020",
           "Monthly",
           11.94,
           4802873,
           29.76,
           "Urban"
          ],
          [
           "Madhya Pradesh",
           " 31-05-2020",
           "Monthly",
           40.49,
           3879934,
           35.49,
           "Urban"
          ],
          [
           "Madhya Pradesh",
           " 30-06-2020",
           "Monthly",
           12.72,
           6221562,
           38.72,
           "Urban"
          ],
          [
           "Maharashtra",
           " 31-05-2019",
           "Monthly",
           6.08,
           16962574,
           38.3,
           "Urban"
          ],
          [
           "Maharashtra",
           " 30-06-2019",
           "Monthly",
           6.46,
           17375053,
           39.3,
           "Urban"
          ],
          [
           "Maharashtra",
           " 31-07-2019",
           "Monthly",
           6.35,
           17215677,
           38.81,
           "Urban"
          ],
          [
           "Maharashtra",
           " 31-08-2019",
           "Monthly",
           7.57,
           16602767,
           37.84,
           "Urban"
          ],
          [
           "Maharashtra",
           " 30-09-2019",
           "Monthly",
           7.6,
           17396398,
           39.58,
           "Urban"
          ],
          [
           "Maharashtra",
           " 31-10-2019",
           "Monthly",
           7.51,
           17221991,
           39.05,
           "Urban"
          ],
          [
           "Maharashtra",
           " 30-11-2019",
           "Monthly",
           7.6,
           17486683,
           39.61,
           "Urban"
          ],
          [
           "Maharashtra",
           " 31-12-2019",
           "Monthly",
           7.83,
           16581144,
           37.57,
           "Urban"
          ],
          [
           "Maharashtra",
           " 31-01-2020",
           "Monthly",
           6.67,
           16715470,
           37.32,
           "Urban"
          ],
          [
           "Maharashtra",
           " 29-02-2020",
           "Monthly",
           5.34,
           17122782,
           37.61,
           "Urban"
          ],
          [
           "Maharashtra",
           " 31-03-2020",
           "Monthly",
           6.34,
           17065830,
           37.8,
           "Urban"
          ],
          [
           "Maharashtra",
           " 30-04-2020",
           "Monthly",
           14.99,
           12674451,
           30.86,
           "Urban"
          ],
          [
           "Maharashtra",
           " 31-05-2020",
           "Monthly",
           15.92,
           12365754,
           30.38,
           "Urban"
          ],
          [
           "Maharashtra",
           " 30-06-2020",
           "Monthly",
           10.01,
           16172690,
           37.04,
           "Urban"
          ],
          [
           "Meghalaya",
           " 31-05-2019",
           "Monthly",
           8.4,
           228978,
           47.79,
           "Urban"
          ],
          [
           "Meghalaya",
           " 30-06-2019",
           "Monthly",
           8.66,
           231252,
           48.29,
           "Urban"
          ],
          [
           "Meghalaya",
           " 31-07-2019",
           "Monthly",
           4.43,
           284015,
           56.55,
           "Urban"
          ],
          [
           "Meghalaya",
           " 31-08-2019",
           "Monthly",
           5.8,
           259433,
           52.27,
           "Urban"
          ],
          [
           "Meghalaya",
           " 30-09-2019",
           "Monthly",
           5.3,
           253887,
           50.77,
           "Urban"
          ],
          [
           "Meghalaya",
           " 31-10-2019",
           "Monthly",
           7.2,
           234375,
           47.71,
           "Urban"
          ],
          [
           "Meghalaya",
           " 30-11-2019",
           "Monthly",
           3.02,
           293431,
           57.02,
           "Urban"
          ],
          [
           "Meghalaya",
           " 31-12-2019",
           "Monthly",
           5.21,
           267417,
           53.04,
           "Urban"
          ],
          [
           "Meghalaya",
           " 31-01-2020",
           "Monthly",
           4.76,
           261687,
           51.53,
           "Urban"
          ],
          [
           "Meghalaya",
           " 29-02-2020",
           "Monthly",
           7.37,
           233965,
           47.26,
           "Urban"
          ],
          [
           "Meghalaya",
           " 31-03-2020",
           "Monthly",
           2.8,
           289735,
           55.64,
           "Urban"
          ],
          [
           "Meghalaya",
           " 30-04-2020",
           "Monthly",
           17.39,
           161939,
           36.51,
           "Urban"
          ],
          [
           "Meghalaya",
           " 31-05-2020",
           "Monthly",
           14.58,
           222916,
           48.48,
           "Urban"
          ],
          [
           "Odisha",
           " 31-05-2019",
           "Monthly",
           2.95,
           2519582,
           41.26,
           "Urban"
          ],
          [
           "Odisha",
           " 30-06-2019",
           "Monthly",
           2.63,
           2356290,
           38.39,
           "Urban"
          ],
          [
           "Odisha",
           " 31-07-2019",
           "Monthly",
           1.78,
           2542237,
           40.99,
           "Urban"
          ],
          [
           "Odisha",
           " 31-08-2019",
           "Monthly",
           3.5,
           2456983,
           40.25,
           "Urban"
          ],
          [
           "Odisha",
           " 30-09-2019",
           "Monthly",
           3.78,
           2570663,
           42.15,
           "Urban"
          ],
          [
           "Odisha",
           " 31-10-2019",
           "Monthly",
           4.5,
           2456855,
           40.51,
           "Urban"
          ],
          [
           "Odisha",
           " 30-11-2019",
           "Monthly",
           2.23,
           2594469,
           41.71,
           "Urban"
          ],
          [
           "Odisha",
           " 31-12-2019",
           "Monthly",
           3.36,
           2369048,
           38.46,
           "Urban"
          ],
          [
           "Odisha",
           " 31-01-2020",
           "Monthly",
           2.28,
           2561320,
           41.05,
           "Urban"
          ],
          [
           "Odisha",
           " 29-02-2020",
           "Monthly",
           2.19,
           2438080,
           38.97,
           "Urban"
          ],
          [
           "Odisha",
           " 31-03-2020",
           "Monthly",
           3.96,
           2457952,
           39.93,
           "Urban"
          ],
          [
           "Odisha",
           " 30-04-2020",
           "Monthly",
           20.5,
           1303244,
           25.53,
           "Urban"
          ],
          [
           "Odisha",
           " 31-05-2020",
           "Monthly",
           10,
           1975481,
           34.12,
           "Urban"
          ],
          [
           "Odisha",
           " 30-06-2020",
           "Monthly",
           2.18,
           2221069,
           35.24,
           "Urban"
          ],
          [
           "Puducherry",
           " 31-05-2019",
           "Monthly",
           1.25,
           283905,
           35.71,
           "Urban"
          ],
          [
           "Puducherry",
           " 30-06-2019",
           "Monthly",
           0,
           304369,
           37.73,
           "Urban"
          ],
          [
           "Puducherry",
           " 31-07-2019",
           "Monthly",
           0,
           281117,
           34.77,
           "Urban"
          ],
          [
           "Puducherry",
           " 31-08-2019",
           "Monthly",
           8.95,
           312882,
           42.41,
           "Urban"
          ],
          [
           "Puducherry",
           " 30-09-2019",
           "Monthly",
           1.22,
           286573,
           35.73,
           "Urban"
          ],
          [
           "Puducherry",
           " 31-10-2019",
           "Monthly",
           1.17,
           312548,
           38.86,
           "Urban"
          ],
          [
           "Puducherry",
           " 30-11-2019",
           "Monthly",
           1.37,
           275003,
           34.19,
           "Urban"
          ],
          [
           "Puducherry",
           " 31-12-2019",
           "Monthly",
           5.21,
           313135,
           40.42,
           "Urban"
          ],
          [
           "Puducherry",
           " 31-01-2020",
           "Monthly",
           0.57,
           281698,
           34.59,
           "Urban"
          ],
          [
           "Puducherry",
           " 29-02-2020",
           "Monthly",
           1.78,
           310342,
           38.5,
           "Urban"
          ],
          [
           "Puducherry",
           " 31-03-2020",
           "Monthly",
           0.62,
           278851,
           34.12,
           "Urban"
          ],
          [
           "Puducherry",
           " 30-04-2020",
           "Monthly",
           76.74,
           68122,
           35.54,
           "Urban"
          ],
          [
           "Puducherry",
           " 31-05-2020",
           "Monthly",
           75,
           64538,
           31.25,
           "Urban"
          ],
          [
           "Puducherry",
           " 30-06-2020",
           "Monthly",
           4.55,
           234926,
           29.73,
           "Urban"
          ],
          [
           "Punjab",
           " 31-05-2019",
           "Monthly",
           13.49,
           3289918,
           40.03,
           "Urban"
          ],
          [
           "Punjab",
           " 30-06-2019",
           "Monthly",
           13.17,
           3307798,
           40.02,
           "Urban"
          ],
          [
           "Punjab",
           " 31-07-2019",
           "Monthly",
           11.61,
           3592442,
           42.62,
           "Urban"
          ],
          [
           "Punjab",
           " 31-08-2019",
           "Monthly",
           11.99,
           3499863,
           41.61,
           "Urban"
          ],
          [
           "Punjab",
           " 30-09-2019",
           "Monthly",
           15.69,
           3227178,
           39.97,
           "Urban"
          ],
          [
           "Punjab",
           " 31-10-2019",
           "Monthly",
           13.75,
           3070438,
           37.1,
           "Urban"
          ],
          [
           "Punjab",
           " 30-11-2019",
           "Monthly",
           10.39,
           3602243,
           41.82,
           "Urban"
          ],
          [
           "Punjab",
           " 31-12-2019",
           "Monthly",
           11.97,
           3575778,
           42.17,
           "Urban"
          ],
          [
           "Punjab",
           " 31-01-2020",
           "Monthly",
           13.68,
           3252622,
           39.04,
           "Urban"
          ],
          [
           "Punjab",
           " 29-02-2020",
           "Monthly",
           11.99,
           3219227,
           37.82,
           "Urban"
          ],
          [
           "Punjab",
           " 31-03-2020",
           "Monthly",
           9.97,
           3601793,
           41.29,
           "Urban"
          ],
          [
           "Punjab",
           " 30-04-2020",
           "Monthly",
           1.13,
           2298975,
           23.95,
           "Urban"
          ],
          [
           "Punjab",
           " 31-05-2020",
           "Monthly",
           20.54,
           2682658,
           34.71,
           "Urban"
          ],
          [
           "Punjab",
           " 30-06-2020",
           "Monthly",
           10.55,
           3047750,
           34.96,
           "Urban"
          ],
          [
           "Rajasthan",
           " 31-05-2019",
           "Monthly",
           13.62,
           5108436,
           39.44,
           "Urban"
          ],
          [
           "Rajasthan",
           " 30-06-2019",
           "Monthly",
           14.36,
           5241174,
           40.73,
           "Urban"
          ],
          [
           "Rajasthan",
           " 31-07-2019",
           "Monthly",
           11.67,
           5372470,
           40.38,
           "Urban"
          ],
          [
           "Rajasthan",
           " 31-08-2019",
           "Monthly",
           14.71,
           5195170,
           40.34,
           "Urban"
          ],
          [
           "Rajasthan",
           " 30-09-2019",
           "Monthly",
           12.63,
           5176819,
           39.15,
           "Urban"
          ],
          [
           "Rajasthan",
           " 31-10-2019",
           "Monthly",
           13.02,
           5384335,
           40.8,
           "Urban"
          ],
          [
           "Rajasthan",
           " 30-11-2019",
           "Monthly",
           14.3,
           5306715,
           40.73,
           "Urban"
          ],
          [
           "Rajasthan",
           " 31-12-2019",
           "Monthly",
           18.04,
           5109481,
           40.9,
           "Urban"
          ],
          [
           "Rajasthan",
           " 31-01-2020",
           "Monthly",
           18.82,
           5157363,
           41.59,
           "Urban"
          ],
          [
           "Rajasthan",
           " 29-02-2020",
           "Monthly",
           17.02,
           5288343,
           41.62,
           "Urban"
          ],
          [
           "Rajasthan",
           " 31-03-2020",
           "Monthly",
           18.54,
           4964911,
           39.71,
           "Urban"
          ],
          [
           "Rajasthan",
           " 30-04-2020",
           "Monthly",
           35.53,
           2932923,
           29.57,
           "Urban"
          ],
          [
           "Rajasthan",
           " 31-05-2020",
           "Monthly",
           25.35,
           4225486,
           36.71,
           "Urban"
          ],
          [
           "Rajasthan",
           " 30-06-2020",
           "Monthly",
           13.04,
           5275784,
           39.26,
           "Urban"
          ],
          [
           "Sikkim",
           " 31-05-2019",
           "Monthly",
           8.2,
           89587,
           48.61,
           "Urban"
          ],
          [
           "Sikkim",
           " 30-06-2019",
           "Monthly",
           7.76,
           89702,
           48.13,
           "Urban"
          ],
          [
           "Sikkim",
           " 31-07-2019",
           "Monthly",
           2.56,
           108334,
           54.67,
           "Urban"
          ],
          [
           "Sikkim",
           " 31-08-2019",
           "Monthly",
           4.82,
           90850,
           46.63,
           "Urban"
          ],
          [
           "Sikkim",
           " 30-09-2019",
           "Monthly",
           4.81,
           89450,
           45.61,
           "Urban"
          ],
          [
           "Sikkim",
           " 31-10-2019",
           "Monthly",
           9.68,
           87974,
           46.97,
           "Urban"
          ],
          [
           "Sikkim",
           " 30-11-2019",
           "Monthly",
           4.04,
           107751,
           53.8,
           "Urban"
          ],
          [
           "Sikkim",
           " 31-12-2019",
           "Monthly",
           7.37,
           88035,
           45.24,
           "Urban"
          ],
          [
           "Sikkim",
           " 31-03-2020",
           "Monthly",
           20.45,
           86186,
           50.57,
           "Urban"
          ],
          [
           "Sikkim",
           " 30-04-2020",
           "Monthly",
           5.77,
           81905,
           40.31,
           "Urban"
          ],
          [
           "Sikkim",
           " 31-05-2020",
           "Monthly",
           19.75,
           75456,
           43.32,
           "Urban"
          ],
          [
           "Sikkim",
           " 30-06-2020",
           "Monthly",
           2.63,
           76269,
           35.85,
           "Urban"
          ],
          [
           "Tamil Nadu",
           " 31-05-2019",
           "Monthly",
           0.89,
           11798080,
           37.31,
           "Urban"
          ],
          [
           "Tamil Nadu",
           " 30-06-2019",
           "Monthly",
           1.56,
           12318745,
           39.16,
           "Urban"
          ],
          [
           "Tamil Nadu",
           " 31-07-2019",
           "Monthly",
           3.18,
           12054414,
           38.89,
           "Urban"
          ],
          [
           "Tamil Nadu",
           " 31-08-2019",
           "Monthly",
           9.53,
           11933093,
           41.13,
           "Urban"
          ],
          [
           "Tamil Nadu",
           " 30-09-2019",
           "Monthly",
           1.86,
           11902824,
           37.76,
           "Urban"
          ],
          [
           "Tamil Nadu",
           " 31-10-2019",
           "Monthly",
           1.13,
           12223948,
           38.42,
           "Urban"
          ],
          [
           "Tamil Nadu",
           " 30-11-2019",
           "Monthly",
           2.65,
           11729952,
           37.38,
           "Urban"
          ],
          [
           "Tamil Nadu",
           " 31-12-2019",
           "Monthly",
           8.05,
           12260389,
           41.29,
           "Urban"
          ],
          [
           "Tamil Nadu",
           " 31-01-2020",
           "Monthly",
           2.05,
           11926995,
           37.64,
           "Urban"
          ],
          [
           "Tamil Nadu",
           " 29-02-2020",
           "Monthly",
           3.31,
           11742101,
           37.48,
           "Urban"
          ],
          [
           "Tamil Nadu",
           " 31-03-2020",
           "Monthly",
           6.46,
           10982178,
           36.17,
           "Urban"
          ],
          [
           "Tamil Nadu",
           " 30-04-2020",
           "Monthly",
           45.55,
           4632967,
           26.17,
           "Urban"
          ],
          [
           "Tamil Nadu",
           " 31-05-2020",
           "Monthly",
           25.95,
           5733921,
           23.77,
           "Urban"
          ],
          [
           "Tamil Nadu",
           " 30-06-2020",
           "Monthly",
           24.93,
           7741005,
           31.6,
           "Urban"
          ],
          [
           "Telangana",
           " 31-05-2019",
           "Monthly",
           1.52,
           5560649,
           44.59,
           "Urban"
          ],
          [
           "Telangana",
           " 30-06-2019",
           "Monthly",
           1.43,
           5683349,
           45.43,
           "Urban"
          ],
          [
           "Telangana",
           " 31-07-2019",
           "Monthly",
           3.73,
           5432503,
           44.36,
           "Urban"
          ],
          [
           "Telangana",
           " 31-08-2019",
           "Monthly",
           4.19,
           5544693,
           45.39,
           "Urban"
          ],
          [
           "Telangana",
           " 30-09-2019",
           "Monthly",
           6.19,
           5668785,
           47.28,
           "Urban"
          ],
          [
           "Telangana",
           " 31-10-2019",
           "Monthly",
           6.74,
           5318341,
           44.51,
           "Urban"
          ],
          [
           "Telangana",
           " 30-11-2019",
           "Monthly",
           5.23,
           5338119,
           43.87,
           "Urban"
          ],
          [
           "Telangana",
           " 31-12-2019",
           "Monthly",
           4.22,
           5317782,
           43.13,
           "Urban"
          ],
          [
           "Telangana",
           " 31-01-2020",
           "Monthly",
           6.49,
           5543380,
           45.95,
           "Urban"
          ],
          [
           "Telangana",
           " 29-02-2020",
           "Monthly",
           6.74,
           5521496,
           45.78,
           "Urban"
          ],
          [
           "Telangana",
           " 31-03-2020",
           "Monthly",
           6.1,
           5313236,
           43.65,
           "Urban"
          ],
          [
           "Telangana",
           " 30-04-2020",
           "Monthly",
           10.5,
           3378431,
           29.05,
           "Urban"
          ],
          [
           "Telangana",
           " 31-05-2020",
           "Monthly",
           36.57,
           3108830,
           37.63,
           "Urban"
          ],
          [
           "Telangana",
           " 30-06-2020",
           "Monthly",
           6.92,
           4577995,
           37.68,
           "Urban"
          ],
          [
           "Tripura",
           " 31-05-2019",
           "Monthly",
           34.69,
           423127,
           69.5,
           "Urban"
          ],
          [
           "Tripura",
           " 30-06-2019",
           "Monthly",
           25.59,
           408738,
           58.8,
           "Urban"
          ],
          [
           "Tripura",
           " 31-07-2019",
           "Monthly",
           25.81,
           410583,
           59.1,
           "Urban"
          ],
          [
           "Tripura",
           " 31-08-2019",
           "Monthly",
           33.45,
           368977,
           59.07,
           "Urban"
          ],
          [
           "Tripura",
           " 30-09-2019",
           "Monthly",
           33.57,
           418043,
           66.9,
           "Urban"
          ],
          [
           "Tripura",
           " 31-10-2019",
           "Monthly",
           26.67,
           414808,
           60,
           "Urban"
          ],
          [
           "Tripura",
           " 30-11-2019",
           "Monthly",
           27.15,
           427700,
           62.14,
           "Urban"
          ],
          [
           "Tripura",
           " 31-12-2019",
           "Monthly",
           33.48,
           399427,
           63.41,
           "Urban"
          ],
          [
           "Tripura",
           " 31-01-2020",
           "Monthly",
           34.37,
           450155,
           72.26,
           "Urban"
          ],
          [
           "Tripura",
           " 29-02-2020",
           "Monthly",
           33.88,
           415339,
           66.04,
           "Urban"
          ],
          [
           "Tripura",
           " 31-03-2020",
           "Monthly",
           25.69,
           450271,
           63.56,
           "Urban"
          ],
          [
           "Tripura",
           " 30-04-2020",
           "Monthly",
           34.88,
           296431,
           47.65,
           "Urban"
          ],
          [
           "Tripura",
           " 31-05-2020",
           "Monthly",
           16.78,
           384999,
           48.31,
           "Urban"
          ],
          [
           "Tripura",
           " 30-06-2020",
           "Monthly",
           27.47,
           391015,
           56.17,
           "Urban"
          ],
          [
           "Uttar Pradesh",
           " 31-05-2019",
           "Monthly",
           14.4,
           13391244,
           40.43,
           "Urban"
          ],
          [
           "Uttar Pradesh",
           " 30-06-2019",
           "Monthly",
           11.62,
           13624452,
           39.75,
           "Urban"
          ],
          [
           "Uttar Pradesh",
           " 31-07-2019",
           "Monthly",
           11.8,
           13862431,
           40.43,
           "Urban"
          ],
          [
           "Uttar Pradesh",
           " 31-08-2019",
           "Monthly",
           14.73,
           13580241,
           40.87,
           "Urban"
          ],
          [
           "Uttar Pradesh",
           " 30-09-2019",
           "Monthly",
           13.58,
           13522970,
           40.07,
           "Urban"
          ],
          [
           "Uttar Pradesh",
           " 31-10-2019",
           "Monthly",
           10.35,
           13938303,
           39.71,
           "Urban"
          ],
          [
           "Uttar Pradesh",
           " 30-11-2019",
           "Monthly",
           11.31,
           14128888,
           40.6,
           "Urban"
          ],
          [
           "Uttar Pradesh",
           " 31-12-2019",
           "Monthly",
           12.37,
           13857200,
           40.21,
           "Urban"
          ],
          [
           "Uttar Pradesh",
           " 31-01-2020",
           "Monthly",
           12.34,
           13656250,
           39.52,
           "Urban"
          ],
          [
           "Uttar Pradesh",
           " 29-02-2020",
           "Monthly",
           11.65,
           13803099,
           39.54,
           "Urban"
          ],
          [
           "Uttar Pradesh",
           " 31-03-2020",
           "Monthly",
           12.32,
           13889632,
           40,
           "Urban"
          ],
          [
           "Uttar Pradesh",
           " 30-04-2020",
           "Monthly",
           26.94,
           10944379,
           37.74,
           "Urban"
          ],
          [
           "Uttar Pradesh",
           " 31-05-2020",
           "Monthly",
           32.06,
           11111486,
           41.1,
           "Urban"
          ],
          [
           "Uttar Pradesh",
           " 30-06-2020",
           "Monthly",
           13.05,
           13208724,
           38.09,
           "Urban"
          ],
          [
           "Uttarakhand",
           " 31-05-2019",
           "Monthly",
           9.17,
           676797,
           26.33,
           "Urban"
          ],
          [
           "Uttarakhand",
           " 30-06-2019",
           "Monthly",
           4.69,
           906889,
           33.54,
           "Urban"
          ],
          [
           "Uttarakhand",
           " 31-07-2019",
           "Monthly",
           6.94,
           859900,
           32.48,
           "Urban"
          ],
          [
           "Uttarakhand",
           " 31-08-2019",
           "Monthly",
           7.43,
           823967,
           31.21,
           "Urban"
          ],
          [
           "Uttarakhand",
           " 30-09-2019",
           "Monthly",
           9.62,
           711150,
           27.51,
           "Urban"
          ],
          [
           "Uttarakhand",
           " 31-10-2019",
           "Monthly",
           4.72,
           925174,
           33.87,
           "Urban"
          ],
          [
           "Uttarakhand",
           " 30-11-2019",
           "Monthly",
           6.34,
           904903,
           33.61,
           "Urban"
          ],
          [
           "Uttarakhand",
           " 31-12-2019",
           "Monthly",
           7.39,
           844779,
           31.65,
           "Urban"
          ],
          [
           "Uttarakhand",
           " 31-01-2020",
           "Monthly",
           8.92,
           725253,
           27.55,
           "Urban"
          ],
          [
           "Uttarakhand",
           " 29-02-2020",
           "Monthly",
           5.28,
           963408,
           35.11,
           "Urban"
          ],
          [
           "Uttarakhand",
           " 31-03-2020",
           "Monthly",
           8.15,
           889245,
           33.33,
           "Urban"
          ],
          [
           "Uttarakhand",
           " 30-04-2020",
           "Monthly",
           13.18,
           748041,
           29.59,
           "Urban"
          ],
          [
           "Uttarakhand",
           " 31-05-2020",
           "Monthly",
           17.36,
           778590,
           32.27,
           "Urban"
          ],
          [
           "Uttarakhand",
           " 30-06-2020",
           "Monthly",
           5.08,
           989470,
           35.61,
           "Urban"
          ],
          [
           "West Bengal",
           " 31-05-2019",
           "Monthly",
           7.25,
           11306177,
           46.37,
           "Urban"
          ],
          [
           "West Bengal",
           " 30-06-2019",
           "Monthly",
           7.38,
           10611498,
           43.51,
           "Urban"
          ],
          [
           "West Bengal",
           " 31-07-2019",
           "Monthly",
           7.91,
           10779829,
           44.38,
           "Urban"
          ],
          [
           "West Bengal",
           " 31-08-2019",
           "Monthly",
           7.27,
           11456493,
           46.77,
           "Urban"
          ],
          [
           "West Bengal",
           " 30-09-2019",
           "Monthly",
           7.79,
           11158649,
           45.74,
           "Urban"
          ],
          [
           "West Bengal",
           " 31-10-2019",
           "Monthly",
           7.83,
           10563686,
           43.25,
           "Urban"
          ],
          [
           "West Bengal",
           " 30-11-2019",
           "Monthly",
           6.61,
           10768462,
           43.44,
           "Urban"
          ],
          [
           "West Bengal",
           " 31-12-2019",
           "Monthly",
           7.24,
           11335696,
           45.97,
           "Urban"
          ],
          [
           "West Bengal",
           " 31-01-2020",
           "Monthly",
           7.27,
           11208617,
           45.39,
           "Urban"
          ],
          [
           "West Bengal",
           " 29-02-2020",
           "Monthly",
           7.55,
           10871168,
           44.09,
           "Urban"
          ],
          [
           "West Bengal",
           " 31-03-2020",
           "Monthly",
           6.67,
           10806105,
           43.34,
           "Urban"
          ],
          [
           "West Bengal",
           " 30-04-2020",
           "Monthly",
           15.63,
           9299466,
           41.2,
           "Urban"
          ],
          [
           "West Bengal",
           " 31-05-2020",
           "Monthly",
           15.22,
           9240903,
           40.67,
           "Urban"
          ],
          [
           "West Bengal",
           " 30-06-2020",
           "Monthly",
           9.86,
           9088931,
           37.57,
           "Urban"
          ]
         ]
        }
       ],
       "layout": {
        "template": {
         "data": {
          "bar": [
           {
            "error_x": {
             "color": "#2a3f5f"
            },
            "error_y": {
             "color": "#2a3f5f"
            },
            "marker": {
             "line": {
              "color": "#E5ECF6",
              "width": 0.5
             },
             "pattern": {
              "fillmode": "overlay",
              "size": 10,
              "solidity": 0.2
             }
            },
            "type": "bar"
           }
          ],
          "barpolar": [
           {
            "marker": {
             "line": {
              "color": "#E5ECF6",
              "width": 0.5
             },
             "pattern": {
              "fillmode": "overlay",
              "size": 10,
              "solidity": 0.2
             }
            },
            "type": "barpolar"
           }
          ],
          "carpet": [
           {
            "aaxis": {
             "endlinecolor": "#2a3f5f",
             "gridcolor": "white",
             "linecolor": "white",
             "minorgridcolor": "white",
             "startlinecolor": "#2a3f5f"
            },
            "baxis": {
             "endlinecolor": "#2a3f5f",
             "gridcolor": "white",
             "linecolor": "white",
             "minorgridcolor": "white",
             "startlinecolor": "#2a3f5f"
            },
            "type": "carpet"
           }
          ],
          "choropleth": [
           {
            "colorbar": {
             "outlinewidth": 0,
             "ticks": ""
            },
            "type": "choropleth"
           }
          ],
          "contour": [
           {
            "colorbar": {
             "outlinewidth": 0,
             "ticks": ""
            },
            "colorscale": [
             [
              0,
              "#0d0887"
             ],
             [
              0.1111111111111111,
              "#46039f"
             ],
             [
              0.2222222222222222,
              "#7201a8"
             ],
             [
              0.3333333333333333,
              "#9c179e"
             ],
             [
              0.4444444444444444,
              "#bd3786"
             ],
             [
              0.5555555555555556,
              "#d8576b"
             ],
             [
              0.6666666666666666,
              "#ed7953"
             ],
             [
              0.7777777777777778,
              "#fb9f3a"
             ],
             [
              0.8888888888888888,
              "#fdca26"
             ],
             [
              1,
              "#f0f921"
             ]
            ],
            "type": "contour"
           }
          ],
          "contourcarpet": [
           {
            "colorbar": {
             "outlinewidth": 0,
             "ticks": ""
            },
            "type": "contourcarpet"
           }
          ],
          "heatmap": [
           {
            "colorbar": {
             "outlinewidth": 0,
             "ticks": ""
            },
            "colorscale": [
             [
              0,
              "#0d0887"
             ],
             [
              0.1111111111111111,
              "#46039f"
             ],
             [
              0.2222222222222222,
              "#7201a8"
             ],
             [
              0.3333333333333333,
              "#9c179e"
             ],
             [
              0.4444444444444444,
              "#bd3786"
             ],
             [
              0.5555555555555556,
              "#d8576b"
             ],
             [
              0.6666666666666666,
              "#ed7953"
             ],
             [
              0.7777777777777778,
              "#fb9f3a"
             ],
             [
              0.8888888888888888,
              "#fdca26"
             ],
             [
              1,
              "#f0f921"
             ]
            ],
            "type": "heatmap"
           }
          ],
          "heatmapgl": [
           {
            "colorbar": {
             "outlinewidth": 0,
             "ticks": ""
            },
            "colorscale": [
             [
              0,
              "#0d0887"
             ],
             [
              0.1111111111111111,
              "#46039f"
             ],
             [
              0.2222222222222222,
              "#7201a8"
             ],
             [
              0.3333333333333333,
              "#9c179e"
             ],
             [
              0.4444444444444444,
              "#bd3786"
             ],
             [
              0.5555555555555556,
              "#d8576b"
             ],
             [
              0.6666666666666666,
              "#ed7953"
             ],
             [
              0.7777777777777778,
              "#fb9f3a"
             ],
             [
              0.8888888888888888,
              "#fdca26"
             ],
             [
              1,
              "#f0f921"
             ]
            ],
            "type": "heatmapgl"
           }
          ],
          "histogram": [
           {
            "marker": {
             "pattern": {
              "fillmode": "overlay",
              "size": 10,
              "solidity": 0.2
             }
            },
            "type": "histogram"
           }
          ],
          "histogram2d": [
           {
            "colorbar": {
             "outlinewidth": 0,
             "ticks": ""
            },
            "colorscale": [
             [
              0,
              "#0d0887"
             ],
             [
              0.1111111111111111,
              "#46039f"
             ],
             [
              0.2222222222222222,
              "#7201a8"
             ],
             [
              0.3333333333333333,
              "#9c179e"
             ],
             [
              0.4444444444444444,
              "#bd3786"
             ],
             [
              0.5555555555555556,
              "#d8576b"
             ],
             [
              0.6666666666666666,
              "#ed7953"
             ],
             [
              0.7777777777777778,
              "#fb9f3a"
             ],
             [
              0.8888888888888888,
              "#fdca26"
             ],
             [
              1,
              "#f0f921"
             ]
            ],
            "type": "histogram2d"
           }
          ],
          "histogram2dcontour": [
           {
            "colorbar": {
             "outlinewidth": 0,
             "ticks": ""
            },
            "colorscale": [
             [
              0,
              "#0d0887"
             ],
             [
              0.1111111111111111,
              "#46039f"
             ],
             [
              0.2222222222222222,
              "#7201a8"
             ],
             [
              0.3333333333333333,
              "#9c179e"
             ],
             [
              0.4444444444444444,
              "#bd3786"
             ],
             [
              0.5555555555555556,
              "#d8576b"
             ],
             [
              0.6666666666666666,
              "#ed7953"
             ],
             [
              0.7777777777777778,
              "#fb9f3a"
             ],
             [
              0.8888888888888888,
              "#fdca26"
             ],
             [
              1,
              "#f0f921"
             ]
            ],
            "type": "histogram2dcontour"
           }
          ],
          "mesh3d": [
           {
            "colorbar": {
             "outlinewidth": 0,
             "ticks": ""
            },
            "type": "mesh3d"
           }
          ],
          "parcoords": [
           {
            "line": {
             "colorbar": {
              "outlinewidth": 0,
              "ticks": ""
             }
            },
            "type": "parcoords"
           }
          ],
          "pie": [
           {
            "automargin": true,
            "type": "pie"
           }
          ],
          "scatter": [
           {
            "fillpattern": {
             "fillmode": "overlay",
             "size": 10,
             "solidity": 0.2
            },
            "type": "scatter"
           }
          ],
          "scatter3d": [
           {
            "line": {
             "colorbar": {
              "outlinewidth": 0,
              "ticks": ""
             }
            },
            "marker": {
             "colorbar": {
              "outlinewidth": 0,
              "ticks": ""
             }
            },
            "type": "scatter3d"
           }
          ],
          "scattercarpet": [
           {
            "marker": {
             "colorbar": {
              "outlinewidth": 0,
              "ticks": ""
             }
            },
            "type": "scattercarpet"
           }
          ],
          "scattergeo": [
           {
            "marker": {
             "colorbar": {
              "outlinewidth": 0,
              "ticks": ""
             }
            },
            "type": "scattergeo"
           }
          ],
          "scattergl": [
           {
            "marker": {
             "colorbar": {
              "outlinewidth": 0,
              "ticks": ""
             }
            },
            "type": "scattergl"
           }
          ],
          "scattermapbox": [
           {
            "marker": {
             "colorbar": {
              "outlinewidth": 0,
              "ticks": ""
             }
            },
            "type": "scattermapbox"
           }
          ],
          "scatterpolar": [
           {
            "marker": {
             "colorbar": {
              "outlinewidth": 0,
              "ticks": ""
             }
            },
            "type": "scatterpolar"
           }
          ],
          "scatterpolargl": [
           {
            "marker": {
             "colorbar": {
              "outlinewidth": 0,
              "ticks": ""
             }
            },
            "type": "scatterpolargl"
           }
          ],
          "scatterternary": [
           {
            "marker": {
             "colorbar": {
              "outlinewidth": 0,
              "ticks": ""
             }
            },
            "type": "scatterternary"
           }
          ],
          "surface": [
           {
            "colorbar": {
             "outlinewidth": 0,
             "ticks": ""
            },
            "colorscale": [
             [
              0,
              "#0d0887"
             ],
             [
              0.1111111111111111,
              "#46039f"
             ],
             [
              0.2222222222222222,
              "#7201a8"
             ],
             [
              0.3333333333333333,
              "#9c179e"
             ],
             [
              0.4444444444444444,
              "#bd3786"
             ],
             [
              0.5555555555555556,
              "#d8576b"
             ],
             [
              0.6666666666666666,
              "#ed7953"
             ],
             [
              0.7777777777777778,
              "#fb9f3a"
             ],
             [
              0.8888888888888888,
              "#fdca26"
             ],
             [
              1,
              "#f0f921"
             ]
            ],
            "type": "surface"
           }
          ],
          "table": [
           {
            "cells": {
             "fill": {
              "color": "#EBF0F8"
             },
             "line": {
              "color": "white"
             }
            },
            "header": {
             "fill": {
              "color": "#C8D4E3"
             },
             "line": {
              "color": "white"
             }
            },
            "type": "table"
           }
          ]
         },
         "layout": {
          "annotationdefaults": {
           "arrowcolor": "#2a3f5f",
           "arrowhead": 0,
           "arrowwidth": 1
          },
          "autotypenumbers": "strict",
          "coloraxis": {
           "colorbar": {
            "outlinewidth": 0,
            "ticks": ""
           }
          },
          "colorscale": {
           "diverging": [
            [
             0,
             "#8e0152"
            ],
            [
             0.1,
             "#c51b7d"
            ],
            [
             0.2,
             "#de77ae"
            ],
            [
             0.3,
             "#f1b6da"
            ],
            [
             0.4,
             "#fde0ef"
            ],
            [
             0.5,
             "#f7f7f7"
            ],
            [
             0.6,
             "#e6f5d0"
            ],
            [
             0.7,
             "#b8e186"
            ],
            [
             0.8,
             "#7fbc41"
            ],
            [
             0.9,
             "#4d9221"
            ],
            [
             1,
             "#276419"
            ]
           ],
           "sequential": [
            [
             0,
             "#0d0887"
            ],
            [
             0.1111111111111111,
             "#46039f"
            ],
            [
             0.2222222222222222,
             "#7201a8"
            ],
            [
             0.3333333333333333,
             "#9c179e"
            ],
            [
             0.4444444444444444,
             "#bd3786"
            ],
            [
             0.5555555555555556,
             "#d8576b"
            ],
            [
             0.6666666666666666,
             "#ed7953"
            ],
            [
             0.7777777777777778,
             "#fb9f3a"
            ],
            [
             0.8888888888888888,
             "#fdca26"
            ],
            [
             1,
             "#f0f921"
            ]
           ],
           "sequentialminus": [
            [
             0,
             "#0d0887"
            ],
            [
             0.1111111111111111,
             "#46039f"
            ],
            [
             0.2222222222222222,
             "#7201a8"
            ],
            [
             0.3333333333333333,
             "#9c179e"
            ],
            [
             0.4444444444444444,
             "#bd3786"
            ],
            [
             0.5555555555555556,
             "#d8576b"
            ],
            [
             0.6666666666666666,
             "#ed7953"
            ],
            [
             0.7777777777777778,
             "#fb9f3a"
            ],
            [
             0.8888888888888888,
             "#fdca26"
            ],
            [
             1,
             "#f0f921"
            ]
           ]
          },
          "colorway": [
           "#636efa",
           "#EF553B",
           "#00cc96",
           "#ab63fa",
           "#FFA15A",
           "#19d3f3",
           "#FF6692",
           "#B6E880",
           "#FF97FF",
           "#FECB52"
          ],
          "font": {
           "color": "#2a3f5f"
          },
          "geo": {
           "bgcolor": "white",
           "lakecolor": "white",
           "landcolor": "#E5ECF6",
           "showlakes": true,
           "showland": true,
           "subunitcolor": "white"
          },
          "hoverlabel": {
           "align": "left"
          },
          "hovermode": "closest",
          "mapbox": {
           "style": "light"
          },
          "paper_bgcolor": "white",
          "plot_bgcolor": "#E5ECF6",
          "polar": {
           "angularaxis": {
            "gridcolor": "white",
            "linecolor": "white",
            "ticks": ""
           },
           "bgcolor": "#E5ECF6",
           "radialaxis": {
            "gridcolor": "white",
            "linecolor": "white",
            "ticks": ""
           }
          },
          "scene": {
           "xaxis": {
            "backgroundcolor": "#E5ECF6",
            "gridcolor": "white",
            "gridwidth": 2,
            "linecolor": "white",
            "showbackground": true,
            "ticks": "",
            "zerolinecolor": "white"
           },
           "yaxis": {
            "backgroundcolor": "#E5ECF6",
            "gridcolor": "white",
            "gridwidth": 2,
            "linecolor": "white",
            "showbackground": true,
            "ticks": "",
            "zerolinecolor": "white"
           },
           "zaxis": {
            "backgroundcolor": "#E5ECF6",
            "gridcolor": "white",
            "gridwidth": 2,
            "linecolor": "white",
            "showbackground": true,
            "ticks": "",
            "zerolinecolor": "white"
           }
          },
          "shapedefaults": {
           "line": {
            "color": "#2a3f5f"
           }
          },
          "ternary": {
           "aaxis": {
            "gridcolor": "white",
            "linecolor": "white",
            "ticks": ""
           },
           "baxis": {
            "gridcolor": "white",
            "linecolor": "white",
            "ticks": ""
           },
           "bgcolor": "#E5ECF6",
           "caxis": {
            "gridcolor": "white",
            "linecolor": "white",
            "ticks": ""
           }
          },
          "title": {
           "x": 0.05
          },
          "xaxis": {
           "automargin": true,
           "gridcolor": "white",
           "linecolor": "white",
           "ticks": "",
           "title": {
            "standoff": 15
           },
           "zerolinecolor": "white",
           "zerolinewidth": 2
          },
          "yaxis": {
           "automargin": true,
           "gridcolor": "white",
           "linecolor": "white",
           "ticks": "",
           "title": {
            "standoff": 15
           },
           "zerolinecolor": "white",
           "zerolinewidth": 2
          }
         }
        }
       }
      },
      "text/html": [
       "<div>                            <div id=\"398a68be-91f0-4545-9fbe-ca73175cfd47\" class=\"plotly-graph-div\" style=\"height:525px; width:100%;\"></div>            <script type=\"text/javascript\">                require([\"plotly\"], function(Plotly) {                    window.PLOTLYENV=window.PLOTLYENV || {};                                    if (document.getElementById(\"398a68be-91f0-4545-9fbe-ca73175cfd47\")) {                    Plotly.newPlot(                        \"398a68be-91f0-4545-9fbe-ca73175cfd47\",                        [{\"x\":[\"Region\",\" Date\",\" Frequency\",\" Estimated Unemployment Rate (%)\",\" Estimated Employed\",\" Estimated Labour Participation Rate (%)\",\"Area\"],\"y\":[0,1,2,3,4,5,6,7,8,9,10,11,12,13,14,15,16,17,18,19,20,21,22,23,24,25,26,27,28,29,30,31,32,33,34,35,36,37,38,39,40,41,42,43,44,45,46,47,48,49,50,51,52,53,54,55,56,57,58,59,60,61,62,63,64,65,66,67,68,69,70,71,72,73,74,75,76,77,78,79,80,81,82,83,84,85,86,87,88,89,90,91,92,93,94,95,96,97,98,99,100,101,102,103,104,105,106,107,108,109,110,111,112,113,114,115,116,117,118,119,120,121,122,123,124,125,126,127,128,129,130,131,132,133,134,135,136,137,138,139,140,141,142,143,144,145,146,147,148,149,150,151,152,153,154,155,156,157,158,159,160,161,162,163,164,165,166,167,168,169,170,171,172,173,174,175,176,177,178,179,180,181,182,183,184,185,186,187,188,189,190,191,192,193,194,195,196,197,198,199,200,201,202,203,204,205,206,207,208,209,210,211,212,213,214,215,216,217,218,219,220,221,222,223,224,225,226,227,228,229,230,231,232,233,234,235,236,237,238,239,240,241,242,243,244,245,246,247,248,249,250,251,252,253,254,255,256,257,258,259,260,261,262,263,264,265,266,267,268,269,270,271,272,273,274,275,276,277,278,279,280,281,282,283,284,285,286,287,288,289,290,291,292,293,294,295,296,297,298,299,300,301,302,303,304,305,306,307,308,309,310,311,312,313,314,315,316,317,318,319,320,321,322,323,324,325,326,327,328,329,330,331,332,333,334,335,336,337,338,339,340,341,342,343,344,345,346,347,348,349,350,351,352,353,354,355,356,357,358,359,360,361,362,363,364,365,366,367,368,369,370,371,372,373,374,375,376,377,378,379,380,381,382,383,384,385,386,387,388,389,390,391,392,393,394,395,396,397,398,399,400,401,402,403,404,405,406,407,408,409,410,411,412,413,414,415,416,417,418,419,420,421,422,423,424,425,426,427,428,429,430,431,432,433,434,435,436,437,438,439,440,441,442,443,444,445,446,447,448,449,450,451,452,453,454,455,456,457,458,459,460,461,462,463,464,465,466,467,468,469,470,471,472,473,474,475,476,477,478,479,480,481,482,483,484,485,486,487,488,489,490,491,492,493,494,495,496,497,498,499,500,501,502,503,504,505,506,507,508,509,510,511,512,513,514,515,516,517,518,519,520,521,522,523,524,525,526,527,528,529,530,531,532,533,534,535,536,537,538,539,540,541,542,543,544,545,546,547,548,549,550,551,552,553,554,555,556,557,558,559,560,561,562,563,564,565,566,567,568,569,570,571,572,573,574,575,576,577,578,579,580,581,582,583,584,585,586,587,588,589,590,591,592,593,594,595,596,597,598,599,600,601,602,603,604,605,606,607,608,609,610,611,612,613,614,615,616,617,618,619,620,621,622,623,624,625,626,627,628,629,630,631,632,633,634,635,636,637,638,639,640,641,642,643,644,645,646,647,648,649,650,651,652,653,654,655,656,657,658,659,660,661,662,663,664,665,666,667,668,669,670,671,672,673,674,675,676,677,678,679,680,681,682,683,684,685,686,687,688,689,690,691,692,693,694,695,696,697,698,699,700,701,702,703,704,705,706,707,708,709,710,711,712,713,714,715,716,717,718,719,720,721,722,723,724,725,726,727,728,729,730,731,732,733,734,735,736,737,738,739],\"z\":[[\"Andhra Pradesh\",\" 31-05-2019\",\" Monthly\",3.65,11999139.0,43.24,\"Rural\"],[\"Andhra Pradesh\",\" 30-06-2019\",\" Monthly\",3.05,11755881.0,42.05,\"Rural\"],[\"Andhra Pradesh\",\" 31-07-2019\",\" Monthly\",3.75,12086707.0,43.5,\"Rural\"],[\"Andhra Pradesh\",\" 31-08-2019\",\" Monthly\",3.32,12285693.0,43.97,\"Rural\"],[\"Andhra Pradesh\",\" 30-09-2019\",\" Monthly\",5.17,12256762.0,44.68,\"Rural\"],[\"Andhra Pradesh\",\" 31-10-2019\",\" Monthly\",3.52,12017412.0,43.01,\"Rural\"],[\"Andhra Pradesh\",\" 30-11-2019\",\" Monthly\",4.12,11397681.0,41.0,\"Rural\"],[\"Andhra Pradesh\",\" 31-12-2019\",\" Monthly\",4.38,12528395.0,45.14,\"Rural\"],[\"Andhra Pradesh\",\" 31-01-2020\",\" Monthly\",4.84,12016676.0,43.46,\"Rural\"],[\"Andhra Pradesh\",\" 29-02-2020\",\" Monthly\",5.91,11723617.0,42.83,\"Rural\"],[\"Andhra Pradesh\",\" 31-03-2020\",\" Monthly\",4.06,11359660.0,40.66,\"Rural\"],[\"Andhra Pradesh\",\" 30-04-2020\",\" Monthly\",16.29,8792827.0,36.03,\"Rural\"],[\"Andhra Pradesh\",\" 31-05-2020\",\" Monthly\",14.46,9526902.0,38.16,\"Rural\"],[\"Andhra Pradesh\",\" 30-06-2020\",\" Monthly\",0.85,15572975.0,53.76,\"Rural\"],[\"Assam\",\" 31-05-2019\",\" Monthly\",4.29,11749334.0,57.39,\"Rural\"],[\"Assam\",\" 30-06-2019\",\" Monthly\",5.08,8923222.0,43.87,\"Rural\"],[\"Assam\",\" 31-07-2019\",\" Monthly\",4.26,9911534.0,48.21,\"Rural\"],[\"Assam\",\" 31-08-2019\",\" Monthly\",5.79,9292039.0,45.83,\"Rural\"],[\"Assam\",\" 30-09-2019\",\" Monthly\",4.46,11468349.0,55.67,\"Rural\"],[\"Assam\",\" 31-10-2019\",\" Monthly\",4.65,8395906.0,40.76,\"Rural\"],[\"Assam\",\" 30-11-2019\",\" Monthly\",4.66,9625362.0,46.64,\"Rural\"],[\"Assam\",\" 31-01-2020\",\" Monthly\",4.29,11420996.0,54.9,\"Rural\"],[\"Assam\",\" 29-02-2020\",\" Monthly\",3.26,8462814.0,40.17,\"Rural\"],[\"Assam\",\" 31-03-2020\",\" Monthly\",3.77,9878742.0,47.05,\"Rural\"],[\"Assam\",\" 31-05-2020\",\" Monthly\",9.38,9926176.0,50.0,\"Rural\"],[\"Assam\",\" 30-06-2020\",\" Monthly\",0.0,7544937.0,34.38,\"Rural\"],[\"Bihar\",\" 31-05-2019\",\" Monthly\",9.27,24322330.0,39.75,\"Rural\"],[\"Bihar\",\" 30-06-2019\",\" Monthly\",10.2,24097712.0,39.71,\"Rural\"],[\"Bihar\",\" 31-07-2019\",\" Monthly\",13.44,23248875.0,39.66,\"Rural\"],[\"Bihar\",\" 31-08-2019\",\" Monthly\",11.0,22260203.0,36.85,\"Rural\"],[\"Bihar\",\" 30-09-2019\",\" Monthly\",8.87,23905700.0,38.57,\"Rural\"],[\"Bihar\",\" 31-10-2019\",\" Monthly\",12.47,24053140.0,40.31,\"Rural\"],[\"Bihar\",\" 30-11-2019\",\" Monthly\",12.4,22445989.0,37.51,\"Rural\"],[\"Bihar\",\" 31-12-2019\",\" Monthly\",10.16,22914530.0,37.25,\"Rural\"],[\"Bihar\",\" 31-01-2020\",\" Monthly\",9.13,23409006.0,37.54,\"Rural\"],[\"Bihar\",\" 29-02-2020\",\" Monthly\",9.61,23168192.0,37.28,\"Rural\"],[\"Bihar\",\" 31-03-2020\",\" Monthly\",15.39,22667882.0,38.88,\"Rural\"],[\"Bihar\",\" 30-04-2020\",\" Monthly\",45.09,14645275.0,38.63,\"Rural\"],[\"Bihar\",\" 31-05-2020\",\" Monthly\",47.26,14050319.0,38.5,\"Rural\"],[\"Bihar\",\" 30-06-2020\",\" Monthly\",20.49,20622566.0,37.4,\"Rural\"],[\"Chhattisgarh\",\" 31-05-2019\",\" Monthly\",9.82,6259019.0,42.89,\"Rural\"],[\"Chhattisgarh\",\" 30-06-2019\",\" Monthly\",6.76,6608626.0,43.71,\"Rural\"],[\"Chhattisgarh\",\" 31-07-2019\",\" Monthly\",4.54,6753622.0,43.53,\"Rural\"],[\"Chhattisgarh\",\" 31-08-2019\",\" Monthly\",4.64,6607694.0,42.55,\"Rural\"],[\"Chhattisgarh\",\" 30-09-2019\",\" Monthly\",8.33,6490776.0,43.38,\"Rural\"],[\"Chhattisgarh\",\" 31-10-2019\",\" Monthly\",6.96,7043840.0,46.28,\"Rural\"],[\"Chhattisgarh\",\" 30-11-2019\",\" Monthly\",2.77,6942931.0,43.56,\"Rural\"],[\"Chhattisgarh\",\" 31-12-2019\",\" Monthly\",6.11,6569385.0,42.59,\"Rural\"],[\"Chhattisgarh\",\" 31-01-2020\",\" Monthly\",9.89,6236201.0,42.03,\"Rural\"],[\"Chhattisgarh\",\" 29-02-2020\",\" Monthly\",7.89,6847173.0,45.05,\"Rural\"],[\"Chhattisgarh\",\" 31-03-2020\",\" Monthly\",7.31,6894808.0,44.98,\"Rural\"],[\"Chhattisgarh\",\" 30-04-2020\",\" Monthly\",0.0,6534321.0,39.43,\"Rural\"],[\"Chhattisgarh\",\" 31-05-2020\",\" Monthly\",7.64,5454091.0,35.56,\"Rural\"],[\"Chhattisgarh\",\" 30-06-2020\",\" Monthly\",10.14,5781095.0,38.66,\"Rural\"],[\"Delhi\",\" 31-05-2019\",\" Monthly\",12.56,169487.0,42.33,\"Rural\"],[\"Delhi\",\" 30-06-2019\",\" Monthly\",9.33,149076.0,35.74,\"Rural\"],[\"Delhi\",\" 31-07-2019\",\" Monthly\",11.07,166605.0,40.53,\"Rural\"],[\"Delhi\",\" 31-08-2019\",\" Monthly\",17.18,135407.0,35.21,\"Rural\"],[\"Delhi\",\" 30-09-2019\",\" Monthly\",12.5,166056.0,40.68,\"Rural\"],[\"Delhi\",\" 31-10-2019\",\" Monthly\",15.84,149511.0,37.9,\"Rural\"],[\"Delhi\",\" 30-11-2019\",\" Monthly\",11.11,178768.0,42.71,\"Rural\"],[\"Delhi\",\" 31-12-2019\",\" Monthly\",16.97,145671.0,37.08,\"Rural\"],[\"Delhi\",\" 31-01-2020\",\" Monthly\",13.48,157791.0,38.36,\"Rural\"],[\"Delhi\",\" 29-02-2020\",\" Monthly\",13.81,147500.0,35.84,\"Rural\"],[\"Delhi\",\" 31-03-2020\",\" Monthly\",15.18,152413.0,37.45,\"Rural\"],[\"Delhi\",\" 30-04-2020\",\" Monthly\",20.69,115487.0,30.21,\"Rural\"],[\"Delhi\",\" 31-05-2020\",\" Monthly\",22.76,129610.0,34.65,\"Rural\"],[\"Delhi\",\" 30-06-2020\",\" Monthly\",21.14,112108.0,29.22,\"Rural\"],[\"Goa\",\" 31-05-2019\",\" Monthly\",2.91,179340.0,39.16,\"Rural\"],[\"Goa\",\" 30-06-2019\",\" Monthly\",5.45,170471.0,38.19,\"Rural\"],[\"Goa\",\" 31-07-2019\",\" Monthly\",10.98,167437.0,39.81,\"Rural\"],[\"Goa\",\" 31-08-2019\",\" Monthly\",1.98,183603.0,39.61,\"Rural\"],[\"Goa\",\" 30-09-2019\",\" Monthly\",3.61,163215.0,35.78,\"Rural\"],[\"Goa\",\" 31-10-2019\",\" Monthly\",7.21,177440.0,40.36,\"Rural\"],[\"Goa\",\" 30-11-2019\",\" Monthly\",23.71,159489.0,44.09,\"Rural\"],[\"Goa\",\" 31-12-2019\",\" Monthly\",3.54,177155.0,38.7,\"Rural\"],[\"Goa\",\" 31-01-2020\",\" Monthly\",5.38,158936.0,35.36,\"Rural\"],[\"Goa\",\" 29-02-2020\",\" Monthly\",0.0,171672.0,36.11,\"Rural\"],[\"Goa\",\" 30-04-2020\",\" Monthly\",15.91,181657.0,45.36,\"Rural\"],[\"Goa\",\" 31-05-2020\",\" Monthly\",20.0,128538.0,33.71,\"Rural\"],[\"Gujarat\",\" 31-05-2019\",\" Monthly\",2.88,13954728.0,52.03,\"Rural\"],[\"Gujarat\",\" 30-06-2019\",\" Monthly\",4.77,13199281.0,50.12,\"Rural\"],[\"Gujarat\",\" 31-07-2019\",\" Monthly\",4.58,14327083.0,54.21,\"Rural\"],[\"Gujarat\",\" 31-08-2019\",\" Monthly\",3.7,13507342.0,50.57,\"Rural\"],[\"Gujarat\",\" 30-09-2019\",\" Monthly\",6.29,13280783.0,51.01,\"Rural\"],[\"Gujarat\",\" 31-10-2019\",\" Monthly\",4.91,13828512.0,52.27,\"Rural\"],[\"Gujarat\",\" 30-11-2019\",\" Monthly\",4.68,14487815.0,54.55,\"Rural\"],[\"Gujarat\",\" 31-12-2019\",\" Monthly\",3.46,13877825.0,51.51,\"Rural\"],[\"Gujarat\",\" 31-01-2020\",\" Monthly\",5.35,14301844.0,54.07,\"Rural\"],[\"Gujarat\",\" 29-02-2020\",\" Monthly\",6.64,13973042.0,53.48,\"Rural\"],[\"Gujarat\",\" 31-03-2020\",\" Monthly\",7.59,13483615.0,52.06,\"Rural\"],[\"Gujarat\",\" 30-04-2020\",\" Monthly\",12.0,8587594.0,34.77,\"Rural\"],[\"Gujarat\",\" 31-05-2020\",\" Monthly\",14.58,11121124.0,46.31,\"Rural\"],[\"Gujarat\",\" 30-06-2020\",\" Monthly\",1.41,13243922.0,47.72,\"Rural\"],[\"Haryana\",\" 31-05-2019\",\" Monthly\",14.54,5249186.0,45.12,\"Rural\"],[\"Haryana\",\" 30-06-2019\",\" Monthly\",23.08,4745178.0,45.23,\"Rural\"],[\"Haryana\",\" 31-07-2019\",\" Monthly\",16.22,4826560.0,42.17,\"Rural\"],[\"Haryana\",\" 31-08-2019\",\" Monthly\",30.94,4558306.0,48.23,\"Rural\"],[\"Haryana\",\" 30-09-2019\",\" Monthly\",16.36,5127956.0,44.72,\"Rural\"],[\"Haryana\",\" 31-10-2019\",\" Monthly\",24.17,4798833.0,46.07,\"Rural\"],[\"Haryana\",\" 30-11-2019\",\" Monthly\",16.59,4875763.0,42.48,\"Rural\"],[\"Haryana\",\" 31-12-2019\",\" Monthly\",29.56,4603484.0,47.4,\"Rural\"],[\"Haryana\",\" 31-01-2020\",\" Monthly\",16.21,5062293.0,43.74,\"Rural\"],[\"Haryana\",\" 29-02-2020\",\" Monthly\",27.19,4570108.0,45.37,\"Rural\"],[\"Haryana\",\" 31-03-2020\",\" Monthly\",23.92,4366148.0,41.4,\"Rural\"],[\"Haryana\",\" 30-04-2020\",\" Monthly\",41.61,4041050.0,49.85,\"Rural\"],[\"Haryana\",\" 31-05-2020\",\" Monthly\",34.22,3914193.0,42.78,\"Rural\"],[\"Haryana\",\" 30-06-2020\",\" Monthly\",35.57,4357835.0,48.53,\"Rural\"],[\"Himachal Pradesh\",\" 31-05-2019\",\" Monthly\",13.68,2045760.0,44.23,\"Rural\"],[\"Himachal Pradesh\",\" 30-06-2019\",\" Monthly\",11.43,1957081.0,41.18,\"Rural\"],[\"Himachal Pradesh\",\" 31-07-2019\",\" Monthly\",20.59,1916824.0,44.91,\"Rural\"],[\"Himachal Pradesh\",\" 31-08-2019\",\" Monthly\",18.56,1969248.0,44.91,\"Rural\"],[\"Himachal Pradesh\",\" 30-09-2019\",\" Monthly\",15.98,2039804.0,45.02,\"Rural\"],[\"Himachal Pradesh\",\" 31-10-2019\",\" Monthly\",15.81,1946957.0,42.81,\"Rural\"],[\"Himachal Pradesh\",\" 30-11-2019\",\" Monthly\",22.86,2024409.0,48.5,\"Rural\"],[\"Himachal Pradesh\",\" 31-12-2019\",\" Monthly\",19.46,1922821.0,44.05,\"Rural\"],[\"Himachal Pradesh\",\" 31-01-2020\",\" Monthly\",16.67,2041035.0,45.11,\"Rural\"],[\"Himachal Pradesh\",\" 29-02-2020\",\" Monthly\",15.42,1952464.0,42.45,\"Rural\"],[\"Himachal Pradesh\",\" 31-03-2020\",\" Monthly\",17.71,1800426.0,40.17,\"Rural\"],[\"Himachal Pradesh\",\" 30-04-2020\",\" Monthly\",2.13,984171.0,18.43,\"Rural\"],[\"Himachal Pradesh\",\" 31-05-2020\",\" Monthly\",25.64,1732050.0,42.62,\"Rural\"],[\"Himachal Pradesh\",\" 30-06-2020\",\" Monthly\",1.12,2230075.0,41.2,\"Rural\"],[\"Jammu & Kashmir\",\" 31-05-2019\",\" Monthly\",12.78,2495186.0,40.57,\"Rural\"],[\"Jammu & Kashmir\",\" 30-06-2019\",\" Monthly\",12.09,2423742.0,39.02,\"Rural\"],[\"Jammu & Kashmir\",\" 31-07-2019\",\" Monthly\",13.67,2549316.0,41.71,\"Rural\"],[\"Jammu & Kashmir\",\" 31-08-2019\",\" Monthly\",11.32,2778624.0,44.17,\"Rural\"],[\"Jammu & Kashmir\",\" 31-10-2019\",\" Monthly\",19.27,2477621.0,43.08,\"Rural\"],[\"Jammu & Kashmir\",\" 30-11-2019\",\" Monthly\",14.73,2415724.0,39.69,\"Rural\"],[\"Jammu & Kashmir\",\" 31-01-2020\",\" Monthly\",22.19,2373488.0,42.56,\"Rural\"],[\"Jammu & Kashmir\",\" 29-02-2020\",\" Monthly\",21.23,2163397.0,38.25,\"Rural\"],[\"Jammu & Kashmir\",\" 31-03-2020\",\" Monthly\",16.0,2361004.0,39.06,\"Rural\"],[\"Jammu & Kashmir\",\" 31-05-2020\",\" Monthly\",2.22,2716966.0,38.46,\"Rural\"],[\"Jammu & Kashmir\",\" 30-06-2020\",\" Monthly\",18.97,2049617.0,34.94,\"Rural\"],[\"Jharkhand\",\" 31-05-2019\",\" Monthly\",7.11,7035766.0,39.04,\"Rural\"],[\"Jharkhand\",\" 30-06-2019\",\" Monthly\",8.46,7319782.0,41.12,\"Rural\"],[\"Jharkhand\",\" 31-07-2019\",\" Monthly\",9.98,6958404.0,39.66,\"Rural\"],[\"Jharkhand\",\" 31-08-2019\",\" Monthly\",12.06,7015356.0,40.83,\"Rural\"],[\"Jharkhand\",\" 30-09-2019\",\" Monthly\",7.12,7500122.0,41.24,\"Rural\"],[\"Jharkhand\",\" 31-10-2019\",\" Monthly\",6.57,7761243.0,42.33,\"Rural\"],[\"Jharkhand\",\" 30-11-2019\",\" Monthly\",8.07,7279628.0,40.26,\"Rural\"],[\"Jharkhand\",\" 31-12-2019\",\" Monthly\",15.15,6873437.0,41.09,\"Rural\"],[\"Jharkhand\",\" 31-01-2020\",\" Monthly\",6.16,7868736.0,42.43,\"Rural\"],[\"Jharkhand\",\" 29-02-2020\",\" Monthly\",9.06,7932402.0,44.05,\"Rural\"],[\"Jharkhand\",\" 31-03-2020\",\" Monthly\",5.01,7157454.0,37.96,\"Rural\"],[\"Jharkhand\",\" 30-04-2020\",\" Monthly\",41.72,4280434.0,36.92,\"Rural\"],[\"Jharkhand\",\" 31-05-2020\",\" Monthly\",55.1,3315038.0,37.03,\"Rural\"],[\"Jharkhand\",\" 30-06-2020\",\" Monthly\",21.53,6375114.0,40.65,\"Rural\"],[\"Karnataka\",\" 31-05-2019\",\" Monthly\",5.46,13911440.0,46.36,\"Rural\"],[\"Karnataka\",\" 30-06-2019\",\" Monthly\",5.98,12888490.0,43.12,\"Rural\"],[\"Karnataka\",\" 31-07-2019\",\" Monthly\",0.52,12169808.0,38.42,\"Rural\"],[\"Karnataka\",\" 31-08-2019\",\" Monthly\",0.37,12686470.0,39.93,\"Rural\"],[\"Karnataka\",\" 30-09-2019\",\" Monthly\",3.2,13741892.0,44.45,\"Rural\"],[\"Karnataka\",\" 31-10-2019\",\" Monthly\",7.13,12803527.0,43.1,\"Rural\"],[\"Karnataka\",\" 30-11-2019\",\" Monthly\",1.19,11537217.0,36.45,\"Rural\"],[\"Karnataka\",\" 31-12-2019\",\" Monthly\",0.41,12756132.0,39.92,\"Rural\"],[\"Karnataka\",\" 31-01-2020\",\" Monthly\",2.57,13938874.0,44.52,\"Rural\"],[\"Karnataka\",\" 29-02-2020\",\" Monthly\",4.11,12753657.0,41.33,\"Rural\"],[\"Karnataka\",\" 31-03-2020\",\" Monthly\",2.39,12853818.0,40.85,\"Rural\"],[\"Karnataka\",\" 30-04-2020\",\" Monthly\",33.17,9330400.0,43.25,\"Rural\"],[\"Karnataka\",\" 31-05-2020\",\" Monthly\",23.72,10626328.0,43.09,\"Rural\"],[\"Karnataka\",\" 30-06-2020\",\" Monthly\",10.92,15396213.0,53.37,\"Rural\"],[\"Kerala\",\" 31-05-2019\",\" Monthly\",6.63,5184355.0,38.07,\"Rural\"],[\"Kerala\",\" 30-06-2019\",\" Monthly\",9.0,5605627.0,42.19,\"Rural\"],[\"Kerala\",\" 31-07-2019\",\" Monthly\",4.95,4855393.0,34.96,\"Rural\"],[\"Kerala\",\" 31-08-2019\",\" Monthly\",10.32,5233449.0,39.9,\"Rural\"],[\"Kerala\",\" 30-09-2019\",\" Monthly\",5.35,5400499.0,38.97,\"Rural\"],[\"Kerala\",\" 31-10-2019\",\" Monthly\",9.14,5328825.0,40.02,\"Rural\"],[\"Kerala\",\" 30-11-2019\",\" Monthly\",5.0,4557906.0,32.71,\"Rural\"],[\"Kerala\",\" 31-12-2019\",\" Monthly\",10.77,5065804.0,38.67,\"Rural\"],[\"Kerala\",\" 31-01-2020\",\" Monthly\",4.11,5307026.0,37.66,\"Rural\"],[\"Kerala\",\" 29-02-2020\",\" Monthly\",8.91,5203579.0,38.84,\"Rural\"],[\"Kerala\",\" 31-03-2020\",\" Monthly\",8.85,4141953.0,30.87,\"Rural\"],[\"Kerala\",\" 30-04-2020\",\" Monthly\",10.71,1754170.0,13.33,\"Rural\"],[\"Kerala\",\" 31-05-2020\",\" Monthly\",23.38,3799919.0,33.62,\"Rural\"],[\"Kerala\",\" 30-06-2020\",\" Monthly\",27.66,3952088.0,37.01,\"Rural\"],[\"Madhya Pradesh\",\" 31-05-2019\",\" Monthly\",3.63,15349838.0,37.97,\"Rural\"],[\"Madhya Pradesh\",\" 30-06-2019\",\" Monthly\",4.25,16294794.0,40.48,\"Rural\"],[\"Madhya Pradesh\",\" 31-07-2019\",\" Monthly\",3.92,16274707.0,40.2,\"Rural\"],[\"Madhya Pradesh\",\" 31-08-2019\",\" Monthly\",4.94,16559137.0,41.25,\"Rural\"],[\"Madhya Pradesh\",\" 30-09-2019\",\" Monthly\",3.08,16159315.0,39.4,\"Rural\"],[\"Madhya Pradesh\",\" 31-10-2019\",\" Monthly\",2.98,17060638.0,41.46,\"Rural\"],[\"Madhya Pradesh\",\" 30-11-2019\",\" Monthly\",2.72,16306428.0,39.44,\"Rural\"],[\"Madhya Pradesh\",\" 31-12-2019\",\" Monthly\",2.94,16854647.0,40.77,\"Rural\"],[\"Madhya Pradesh\",\" 31-01-2020\",\" Monthly\",3.66,16183702.0,39.35,\"Rural\"],[\"Madhya Pradesh\",\" 29-02-2020\",\" Monthly\",4.42,16178044.0,39.57,\"Rural\"],[\"Madhya Pradesh\",\" 31-03-2020\",\" Monthly\",1.19,16480441.0,38.9,\"Rural\"],[\"Madhya Pradesh\",\" 30-04-2020\",\" Monthly\",12.5,14238959.0,37.88,\"Rural\"],[\"Madhya Pradesh\",\" 31-05-2020\",\" Monthly\",22.46,13099601.0,39.24,\"Rural\"],[\"Madhya Pradesh\",\" 30-06-2020\",\" Monthly\",6.46,16748971.0,41.5,\"Rural\"],[\"Maharashtra\",\" 31-05-2019\",\" Monthly\",3.67,23896858.0,47.11,\"Rural\"],[\"Maharashtra\",\" 30-06-2019\",\" Monthly\",4.34,23056511.0,45.69,\"Rural\"],[\"Maharashtra\",\" 31-07-2019\",\" Monthly\",3.66,24843750.0,48.8,\"Rural\"],[\"Maharashtra\",\" 31-08-2019\",\" Monthly\",3.76,26835389.0,52.67,\"Rural\"],[\"Maharashtra\",\" 30-09-2019\",\" Monthly\",4.4,25219281.0,49.74,\"Rural\"],[\"Maharashtra\",\" 31-10-2019\",\" Monthly\",3.81,24330249.0,47.61,\"Rural\"],[\"Maharashtra\",\" 30-11-2019\",\" Monthly\",3.68,24881383.0,48.53,\"Rural\"],[\"Maharashtra\",\" 31-12-2019\",\" Monthly\",3.03,26357625.0,50.98,\"Rural\"],[\"Maharashtra\",\" 31-01-2020\",\" Monthly\",3.8,25881398.0,50.36,\"Rural\"],[\"Maharashtra\",\" 29-02-2020\",\" Monthly\",4.24,25293535.0,49.36,\"Rural\"],[\"Maharashtra\",\" 31-03-2020\",\" Monthly\",5.38,23130976.0,45.6,\"Rural\"],[\"Maharashtra\",\" 30-04-2020\",\" Monthly\",25.28,15014802.0,37.42,\"Rural\"],[\"Maharashtra\",\" 31-05-2020\",\" Monthly\",16.89,18423447.0,41.21,\"Rural\"],[\"Maharashtra\",\" 30-06-2020\",\" Monthly\",9.4,23601016.0,48.34,\"Rural\"],[\"Meghalaya\",\" 31-05-2019\",\" Monthly\",3.16,1119011.0,66.13,\"Rural\"],[\"Meghalaya\",\" 30-06-2019\",\" Monthly\",4.23,1024797.0,61.09,\"Rural\"],[\"Meghalaya\",\" 31-07-2019\",\" Monthly\",1.03,1158511.0,66.67,\"Rural\"],[\"Meghalaya\",\" 31-08-2019\",\" Monthly\",0.52,1065725.0,60.86,\"Rural\"],[\"Meghalaya\",\" 30-09-2019\",\" Monthly\",0.24,1162159.0,66.02,\"Rural\"],[\"Meghalaya\",\" 31-10-2019\",\" Monthly\",3.7,1080609.0,63.44,\"Rural\"],[\"Meghalaya\",\" 30-11-2019\",\" Monthly\",1.5,1205703.0,69.03,\"Rural\"],[\"Meghalaya\",\" 31-12-2019\",\" Monthly\",1.8,1102997.0,63.18,\"Rural\"],[\"Meghalaya\",\" 31-01-2020\",\" Monthly\",0.97,1229406.0,69.66,\"Rural\"],[\"Meghalaya\",\" 29-02-2020\",\" Monthly\",2.76,1112864.0,64.06,\"Rural\"],[\"Meghalaya\",\" 31-03-2020\",\" Monthly\",1.28,1192616.0,67.46,\"Rural\"],[\"Meghalaya\",\" 30-04-2020\",\" Monthly\",8.38,803118.0,48.83,\"Rural\"],[\"Meghalaya\",\" 31-05-2020\",\" Monthly\",3.73,992148.0,57.26,\"Rural\"],[\"Meghalaya\",\" 30-06-2020\",\" Monthly\",1.35,1150200.0,64.63,\"Rural\"],[\"Odisha\",\" 31-05-2019\",\" Monthly\",4.17,11155753.0,40.47,\"Rural\"],[\"Odisha\",\" 30-06-2019\",\" Monthly\",4.71,10965154.0,39.94,\"Rural\"],[\"Odisha\",\" 31-07-2019\",\" Monthly\",3.31,12009883.0,43.05,\"Rural\"],[\"Odisha\",\" 31-08-2019\",\" Monthly\",3.68,11727659.0,42.13,\"Rural\"],[\"Odisha\",\" 30-09-2019\",\" Monthly\",4.31,11167715.0,40.32,\"Rural\"],[\"Odisha\",\" 31-10-2019\",\" Monthly\",4.28,11621534.0,41.88,\"Rural\"],[\"Odisha\",\" 30-11-2019\",\" Monthly\",4.72,12192623.0,44.06,\"Rural\"],[\"Odisha\",\" 31-12-2019\",\" Monthly\",4.67,11345069.0,40.91,\"Rural\"],[\"Odisha\",\" 31-01-2020\",\" Monthly\",1.81,11182128.0,39.09,\"Rural\"],[\"Odisha\",\" 29-02-2020\",\" Monthly\",3.31,11842655.0,41.98,\"Rural\"],[\"Odisha\",\" 31-03-2020\",\" Monthly\",15.09,9814156.0,39.55,\"Rural\"],[\"Odisha\",\" 30-04-2020\",\" Monthly\",24.48,5562449.0,25.16,\"Rural\"],[\"Odisha\",\" 31-05-2020\",\" Monthly\",9.45,9683719.0,36.48,\"Rural\"],[\"Odisha\",\" 30-06-2020\",\" Monthly\",4.59,10187145.0,36.36,\"Rural\"],[\"Puducherry\",\" 31-05-2019\",\" Monthly\",0.0,172474.0,43.08,\"Rural\"],[\"Puducherry\",\" 30-06-2019\",\" Monthly\",0.0,184527.0,45.95,\"Rural\"],[\"Puducherry\",\" 31-07-2019\",\" Monthly\",0.0,139227.0,34.56,\"Rural\"],[\"Puducherry\",\" 31-08-2019\",\" Monthly\",4.85,183930.0,47.83,\"Rural\"],[\"Puducherry\",\" 30-09-2019\",\" Monthly\",0.0,175718.0,43.34,\"Rural\"],[\"Puducherry\",\" 31-10-2019\",\" Monthly\",1.18,180283.0,44.85,\"Rural\"],[\"Puducherry\",\" 30-11-2019\",\" Monthly\",0.0,142787.0,35.0,\"Rural\"],[\"Puducherry\",\" 31-12-2019\",\" Monthly\",1.99,180808.0,45.07,\"Rural\"],[\"Puducherry\",\" 31-01-2020\",\" Monthly\",0.58,176252.0,43.18,\"Rural\"],[\"Puducherry\",\" 29-02-2020\",\" Monthly\",1.74,183619.0,45.38,\"Rural\"],[\"Puducherry\",\" 31-03-2020\",\" Monthly\",2.31,142176.0,35.23,\"Rural\"],[\"Puducherry\",\" 30-04-2020\",\" Monthly\",74.51,49420.0,46.79,\"Rural\"],[\"Punjab\",\" 31-05-2019\",\" Monthly\",9.17,6088547.0,44.79,\"Rural\"],[\"Punjab\",\" 30-06-2019\",\" Monthly\",12.21,6025235.0,45.79,\"Rural\"],[\"Punjab\",\" 31-07-2019\",\" Monthly\",9.64,6308129.0,46.5,\"Rural\"],[\"Punjab\",\" 31-08-2019\",\" Monthly\",6.69,6183427.0,44.08,\"Rural\"],[\"Punjab\",\" 30-09-2019\",\" Monthly\",8.59,6260971.0,45.49,\"Rural\"],[\"Punjab\",\" 31-10-2019\",\" Monthly\",12.56,6021921.0,45.66,\"Rural\"],[\"Punjab\",\" 30-11-2019\",\" Monthly\",7.07,6395022.0,45.55,\"Rural\"],[\"Punjab\",\" 31-12-2019\",\" Monthly\",6.13,6164215.0,43.4,\"Rural\"],[\"Punjab\",\" 31-01-2020\",\" Monthly\",9.69,6189471.0,45.22,\"Rural\"],[\"Punjab\",\" 29-02-2020\",\" Monthly\",10.41,6009820.0,44.19,\"Rural\"],[\"Punjab\",\" 31-03-2020\",\" Monthly\",10.51,6373692.0,46.85,\"Rural\"],[\"Punjab\",\" 30-04-2020\",\" Monthly\",3.69,4721590.0,32.2,\"Rural\"],[\"Punjab\",\" 31-05-2020\",\" Monthly\",40.59,3727366.0,41.14,\"Rural\"],[\"Punjab\",\" 30-06-2020\",\" Monthly\",20.0,5364047.0,43.9,\"Rural\"],[\"Rajasthan\",\" 31-05-2019\",\" Monthly\",4.03,15226005.0,38.52,\"Rural\"],[\"Rajasthan\",\" 30-06-2019\",\" Monthly\",13.7,14610564.0,41.02,\"Rural\"],[\"Rajasthan\",\" 31-07-2019\",\" Monthly\",9.7,14859873.0,39.78,\"Rural\"],[\"Rajasthan\",\" 31-08-2019\",\" Monthly\",12.5,15052051.0,41.48,\"Rural\"],[\"Rajasthan\",\" 30-09-2019\",\" Monthly\",5.45,15419779.0,39.24,\"Rural\"],[\"Rajasthan\",\" 31-10-2019\",\" Monthly\",14.66,15178544.0,42.69,\"Rural\"],[\"Rajasthan\",\" 30-11-2019\",\" Monthly\",10.47,15278556.0,40.87,\"Rural\"],[\"Rajasthan\",\" 31-12-2019\",\" Monthly\",13.96,15485307.0,43.0,\"Rural\"],[\"Rajasthan\",\" 31-01-2020\",\" Monthly\",8.0,15484353.0,40.12,\"Rural\"],[\"Rajasthan\",\" 29-02-2020\",\" Monthly\",14.48,15040572.0,41.83,\"Rural\"],[\"Rajasthan\",\" 31-03-2020\",\" Monthly\",9.47,15059769.0,39.47,\"Rural\"],[\"Rajasthan\",\" 30-04-2020\",\" Monthly\",12.25,13051219.0,35.21,\"Rural\"],[\"Rajasthan\",\" 31-05-2020\",\" Monthly\",10.45,15586833.0,41.11,\"Rural\"],[\"Rajasthan\",\" 30-06-2020\",\" Monthly\",13.86,16076978.0,43.98,\"Rural\"],[\"Sikkim\",\" 31-10-2019\",\" Monthly\",5.48,146688.0,44.06,\"Rural\"],[\"Sikkim\",\" 30-11-2019\",\" Monthly\",13.11,162426.0,53.04,\"Rural\"],[\"Sikkim\",\" 31-12-2019\",\" Monthly\",1.0,161647.0,46.3,\"Rural\"],[\"Sikkim\",\" 30-04-2020\",\" Monthly\",0.0,133399.0,37.72,\"Rural\"],[\"Sikkim\",\" 30-06-2020\",\" Monthly\",5.81,141313.0,42.36,\"Rural\"],[\"Tamil Nadu\",\" 31-05-2019\",\" Monthly\",0.97,15844698.0,49.44,\"Rural\"],[\"Tamil Nadu\",\" 30-06-2019\",\" Monthly\",0.92,16375303.0,50.99,\"Rural\"],[\"Tamil Nadu\",\" 31-07-2019\",\" Monthly\",6.01,16455928.0,53.94,\"Rural\"],[\"Tamil Nadu\",\" 31-08-2019\",\" Monthly\",2.91,16463931.0,52.17,\"Rural\"],[\"Tamil Nadu\",\" 30-09-2019\",\" Monthly\",1.71,14595441.0,45.62,\"Rural\"],[\"Tamil Nadu\",\" 31-10-2019\",\" Monthly\",1.46,15595647.0,48.55,\"Rural\"],[\"Tamil Nadu\",\" 30-11-2019\",\" Monthly\",2.46,16223430.0,50.95,\"Rural\"],[\"Tamil Nadu\",\" 31-12-2019\",\" Monthly\",3.73,15356938.0,48.8,\"Rural\"],[\"Tamil Nadu\",\" 31-01-2020\",\" Monthly\",1.18,14954646.0,46.23,\"Rural\"],[\"Tamil Nadu\",\" 29-02-2020\",\" Monthly\",1.17,15828488.0,48.86,\"Rural\"],[\"Tamil Nadu\",\" 31-03-2020\",\" Monthly\",6.36,15848590.0,51.56,\"Rural\"],[\"Tamil Nadu\",\" 30-04-2020\",\" Monthly\",53.19,5086200.0,33.05,\"Rural\"],[\"Tamil Nadu\",\" 31-05-2020\",\" Monthly\",38.73,5768342.0,28.6,\"Rural\"],[\"Tamil Nadu\",\" 30-06-2020\",\" Monthly\",2.06,10169115.0,31.49,\"Rural\"],[\"Telangana\",\" 31-05-2019\",\" Monthly\",2.23,11053353.0,61.74,\"Rural\"],[\"Telangana\",\" 30-06-2019\",\" Monthly\",5.92,10728822.0,62.19,\"Rural\"],[\"Telangana\",\" 31-07-2019\",\" Monthly\",2.45,11538688.0,64.4,\"Rural\"],[\"Telangana\",\" 31-08-2019\",\" Monthly\",1.4,10743959.0,59.23,\"Rural\"],[\"Telangana\",\" 30-09-2019\",\" Monthly\",5.49,12636415.0,72.57,\"Rural\"],[\"Telangana\",\" 31-10-2019\",\" Monthly\",7.29,11375354.0,66.49,\"Rural\"],[\"Telangana\",\" 30-11-2019\",\" Monthly\",6.47,11265828.0,65.17,\"Rural\"],[\"Telangana\",\" 31-12-2019\",\" Monthly\",1.35,11068056.0,60.61,\"Rural\"],[\"Telangana\",\" 31-01-2020\",\" Monthly\",5.02,12065915.0,68.51,\"Rural\"],[\"Telangana\",\" 29-02-2020\",\" Monthly\",9.02,11304474.0,66.92,\"Rural\"],[\"Telangana\",\" 31-03-2020\",\" Monthly\",5.63,12028377.0,68.53,\"Rural\"],[\"Telangana\",\" 30-04-2020\",\" Monthly\",4.51,8793799.0,49.44,\"Rural\"],[\"Telangana\",\" 31-05-2020\",\" Monthly\",34.01,7508747.0,61.0,\"Rural\"],[\"Telangana\",\" 30-06-2020\",\" Monthly\",19.3,8891181.0,58.97,\"Rural\"],[\"Tripura\",\" 31-05-2019\",\" Monthly\",29.25,1019549.0,64.47,\"Rural\"],[\"Tripura\",\" 30-06-2019\",\" Monthly\",26.64,1107013.0,67.4,\"Rural\"],[\"Tripura\",\" 31-07-2019\",\" Monthly\",22.47,1052597.0,60.54,\"Rural\"],[\"Tripura\",\" 31-08-2019\",\" Monthly\",25.49,975501.0,58.29,\"Rural\"],[\"Tripura\",\" 30-09-2019\",\" Monthly\",30.23,1034408.0,65.9,\"Rural\"],[\"Tripura\",\" 31-10-2019\",\" Monthly\",27.54,1113764.0,68.21,\"Rural\"],[\"Tripura\",\" 30-11-2019\",\" Monthly\",25.25,1084633.0,64.29,\"Rural\"],[\"Tripura\",\" 31-12-2019\",\" Monthly\",26.53,1046878.0,63.02,\"Rural\"],[\"Tripura\",\" 31-01-2020\",\" Monthly\",31.91,1057975.0,68.61,\"Rural\"],[\"Tripura\",\" 29-02-2020\",\" Monthly\",26.22,1169347.0,69.88,\"Rural\"],[\"Tripura\",\" 31-03-2020\",\" Monthly\",31.61,1060946.0,68.28,\"Rural\"],[\"Tripura\",\" 30-04-2020\",\" Monthly\",43.64,675083.0,52.63,\"Rural\"],[\"Tripura\",\" 31-05-2020\",\" Monthly\",14.71,911789.0,46.9,\"Rural\"],[\"Tripura\",\" 30-06-2020\",\" Monthly\",18.84,1106978.0,59.74,\"Rural\"],[\"Uttar Pradesh\",\" 31-05-2019\",\" Monthly\",10.26,43287808.0,39.96,\"Rural\"],[\"Uttar Pradesh\",\" 30-06-2019\",\" Monthly\",11.13,42276572.0,39.32,\"Rural\"],[\"Uttar Pradesh\",\" 31-07-2019\",\" Monthly\",9.19,42697000.0,38.78,\"Rural\"],[\"Uttar Pradesh\",\" 31-08-2019\",\" Monthly\",11.47,43298746.0,40.24,\"Rural\"],[\"Uttar Pradesh\",\" 30-09-2019\",\" Monthly\",6.45,44198762.0,38.79,\"Rural\"],[\"Uttar Pradesh\",\" 31-10-2019\",\" Monthly\",10.18,42833265.0,39.07,\"Rural\"],[\"Uttar Pradesh\",\" 30-11-2019\",\" Monthly\",6.94,43261530.0,38.01,\"Rural\"],[\"Uttar Pradesh\",\" 31-12-2019\",\" Monthly\",8.43,44640087.0,39.77,\"Rural\"],[\"Uttar Pradesh\",\" 31-01-2020\",\" Monthly\",6.06,45777509.0,39.67,\"Rural\"],[\"Uttar Pradesh\",\" 29-02-2020\",\" Monthly\",8.12,44257432.0,39.13,\"Rural\"],[\"Uttar Pradesh\",\" 31-03-2020\",\" Monthly\",9.37,43086706.0,38.53,\"Rural\"],[\"Uttar Pradesh\",\" 30-04-2020\",\" Monthly\",19.92,39970677.0,40.37,\"Rural\"],[\"Uttar Pradesh\",\" 31-05-2020\",\" Monthly\",16.89,38640999.0,37.52,\"Rural\"],[\"Uttar Pradesh\",\" 30-06-2020\",\" Monthly\",8.51,41908909.0,36.89,\"Rural\"],[\"Uttarakhand\",\" 31-05-2019\",\" Monthly\",1.63,2108044.0,37.47,\"Rural\"],[\"Uttarakhand\",\" 30-06-2019\",\" Monthly\",4.65,2021553.0,37.01,\"Rural\"],[\"Uttarakhand\",\" 31-07-2019\",\" Monthly\",5.74,2000524.0,36.97,\"Rural\"],[\"Uttarakhand\",\" 31-08-2019\",\" Monthly\",6.11,1911380.0,35.39,\"Rural\"],[\"Uttarakhand\",\" 30-09-2019\",\" Monthly\",3.47,2157845.0,38.79,\"Rural\"],[\"Uttarakhand\",\" 31-10-2019\",\" Monthly\",4.83,2027662.0,36.9,\"Rural\"],[\"Uttarakhand\",\" 30-11-2019\",\" Monthly\",5.56,2007113.0,36.73,\"Rural\"],[\"Uttarakhand\",\" 31-12-2019\",\" Monthly\",4.52,1947566.0,35.19,\"Rural\"],[\"Uttarakhand\",\" 31-01-2020\",\" Monthly\",4.17,1986386.0,35.69,\"Rural\"],[\"Uttarakhand\",\" 29-02-2020\",\" Monthly\",4.85,2057523.0,37.16,\"Rural\"],[\"Uttarakhand\",\" 30-04-2020\",\" Monthly\",3.66,1972074.0,35.04,\"Rural\"],[\"Uttarakhand\",\" 31-05-2020\",\" Monthly\",3.57,1915482.0,33.94,\"Rural\"],[\"Uttarakhand\",\" 30-06-2020\",\" Monthly\",10.71,1675441.0,32.0,\"Rural\"],[\"West Bengal\",\" 31-05-2019\",\" Monthly\",6.02,23452875.0,46.41,\"Rural\"],[\"West Bengal\",\" 30-06-2019\",\" Monthly\",5.85,25543465.0,50.36,\"Rural\"],[\"West Bengal\",\" 31-07-2019\",\" Monthly\",5.62,24857807.0,48.78,\"Rural\"],[\"West Bengal\",\" 31-08-2019\",\" Monthly\",5.58,24924827.0,48.79,\"Rural\"],[\"West Bengal\",\" 30-09-2019\",\" Monthly\",5.26,25610773.0,49.87,\"Rural\"],[\"West Bengal\",\" 31-10-2019\",\" Monthly\",6.78,24353018.0,48.09,\"Rural\"],[\"West Bengal\",\" 30-11-2019\",\" Monthly\",5.83,25630359.0,50.0,\"Rural\"],[\"West Bengal\",\" 31-12-2019\",\" Monthly\",5.79,24906239.0,48.47,\"Rural\"],[\"West Bengal\",\" 31-01-2020\",\" Monthly\",6.79,24612171.0,48.3,\"Rural\"],[\"West Bengal\",\" 29-02-2020\",\" Monthly\",3.78,26093009.0,49.51,\"Rural\"],[\"West Bengal\",\" 31-03-2020\",\" Monthly\",7.02,25097812.0,49.18,\"Rural\"],[\"West Bengal\",\" 30-04-2020\",\" Monthly\",18.32,17639370.0,39.27,\"Rural\"],[\"West Bengal\",\" 31-05-2020\",\" Monthly\",18.43,19115772.0,42.53,\"Rural\"],[\"West Bengal\",\" 30-06-2020\",\" Monthly\",4.94,21225887.0,40.44,\"Rural\"],[\"Andhra Pradesh\",\" 31-05-2019\",\"Monthly\",6.09,4788661.0,37.45,\"Urban\"],[\"Andhra Pradesh\",\" 30-06-2019\",\"Monthly\",3.8,4824630.0,36.76,\"Urban\"],[\"Andhra Pradesh\",\" 31-07-2019\",\"Monthly\",5.64,4657443.0,36.1,\"Urban\"],[\"Andhra Pradesh\",\" 31-08-2019\",\"Monthly\",4.61,4743179.0,36.29,\"Urban\"],[\"Andhra Pradesh\",\" 30-09-2019\",\"Monthly\",6.01,4733996.0,36.69,\"Urban\"],[\"Andhra Pradesh\",\" 31-10-2019\",\"Monthly\",4.7,4774377.0,36.41,\"Urban\"],[\"Andhra Pradesh\",\" 30-11-2019\",\"Monthly\",7.54,4668772.0,36.62,\"Urban\"],[\"Andhra Pradesh\",\" 31-12-2019\",\"Monthly\",7.88,4913963.0,38.61,\"Urban\"],[\"Andhra Pradesh\",\" 31-01-2020\",\"Monthly\",7.11,4618860.0,35.91,\"Urban\"],[\"Andhra Pradesh\",\" 29-02-2020\",\"Monthly\",5.66,4822035.0,36.84,\"Urban\"],[\"Andhra Pradesh\",\" 31-03-2020\",\"Monthly\",9.88,4521537.0,36.08,\"Urban\"],[\"Andhra Pradesh\",\" 30-04-2020\",\"Monthly\",32.3,2544084.0,26.97,\"Urban\"],[\"Andhra Pradesh\",\" 31-05-2020\",\"Monthly\",24.91,3428356.0,32.69,\"Urban\"],[\"Andhra Pradesh\",\" 30-06-2020\",\"Monthly\",5.86,4954389.0,37.61,\"Urban\"],[\"Assam\",\" 31-05-2019\",\"Monthly\",7.87,1671707.0,44.92,\"Urban\"],[\"Assam\",\" 30-06-2019\",\"Monthly\",9.89,1647342.0,45.17,\"Urban\"],[\"Assam\",\" 31-07-2019\",\"Monthly\",3.21,1739838.0,44.32,\"Urban\"],[\"Assam\",\" 31-08-2019\",\"Monthly\",10.39,1595582.0,43.81,\"Urban\"],[\"Assam\",\" 30-09-2019\",\"Monthly\",9.26,1576480.0,42.66,\"Urban\"],[\"Assam\",\" 31-10-2019\",\"Monthly\",11.17,1595176.0,44.01,\"Urban\"],[\"Assam\",\" 30-11-2019\",\"Monthly\",6.31,1708045.0,44.59,\"Urban\"],[\"Assam\",\" 31-12-2019\",\"Monthly\",5.02,1722303.0,44.26,\"Urban\"],[\"Assam\",\" 31-01-2020\",\"Monthly\",7.24,1630908.0,42.82,\"Urban\"],[\"Assam\",\" 29-02-2020\",\"Monthly\",9.98,1625454.0,43.9,\"Urban\"],[\"Assam\",\" 31-03-2020\",\"Monthly\",10.34,1664145.0,45.03,\"Urban\"],[\"Assam\",\" 30-04-2020\",\"Monthly\",8.37,1454956.0,38.45,\"Urban\"],[\"Assam\",\" 31-05-2020\",\"Monthly\",10.77,1441722.0,39.04,\"Urban\"],[\"Assam\",\" 30-06-2020\",\"Monthly\",3.42,1551007.0,38.73,\"Urban\"],[\"Bihar\",\" 31-05-2019\",\"Monthly\",19.9,3029344.0,39.8,\"Urban\"],[\"Bihar\",\" 30-06-2019\",\"Monthly\",13.29,3248864.0,39.35,\"Urban\"],[\"Bihar\",\" 31-07-2019\",\"Monthly\",16.41,3059744.0,38.36,\"Urban\"],[\"Bihar\",\" 31-08-2019\",\"Monthly\",17.66,2994763.0,38.03,\"Urban\"],[\"Bihar\",\" 30-09-2019\",\"Monthly\",20.46,2992082.0,39.25,\"Urban\"],[\"Bihar\",\" 31-10-2019\",\"Monthly\",14.06,3173429.0,38.45,\"Urban\"],[\"Bihar\",\" 30-11-2019\",\"Monthly\",17.62,3081077.0,38.86,\"Urban\"],[\"Bihar\",\" 31-12-2019\",\"Monthly\",14.91,2977857.0,36.29,\"Urban\"],[\"Bihar\",\" 31-01-2020\",\"Monthly\",20.69,2988665.0,38.99,\"Urban\"],[\"Bihar\",\" 29-02-2020\",\"Monthly\",15.11,3113464.0,37.87,\"Urban\"],[\"Bihar\",\" 31-03-2020\",\"Monthly\",15.73,3049637.0,37.29,\"Urban\"],[\"Bihar\",\" 30-04-2020\",\"Monthly\",58.77,1400962.0,34.94,\"Urban\"],[\"Bihar\",\" 31-05-2020\",\"Monthly\",37.87,2207026.0,36.45,\"Urban\"],[\"Bihar\",\" 30-06-2020\",\"Monthly\",12.45,3124663.0,36.54,\"Urban\"],[\"Chandigarh\",\" 31-05-2019\",\"Monthly\",18.35,348042.0,44.89,\"Urban\"],[\"Chandigarh\",\" 30-06-2019\",\"Monthly\",12.4,337145.0,40.44,\"Urban\"],[\"Chandigarh\",\" 31-07-2019\",\"Monthly\",21.8,294379.0,39.47,\"Urban\"],[\"Chandigarh\",\" 31-08-2019\",\"Monthly\",9.52,328282.0,37.95,\"Urban\"],[\"Chandigarh\",\" 30-09-2019\",\"Monthly\",20.14,327239.0,42.77,\"Urban\"],[\"Chandigarh\",\" 31-10-2019\",\"Monthly\",13.99,330856.0,40.06,\"Urban\"],[\"Chandigarh\",\" 30-11-2019\",\"Monthly\",22.05,289593.0,38.6,\"Urban\"],[\"Chandigarh\",\" 31-12-2019\",\"Monthly\",8.33,311146.0,35.19,\"Urban\"],[\"Chandigarh\",\" 31-01-2020\",\"Monthly\",20.0,332062.0,42.94,\"Urban\"],[\"Chandigarh\",\" 29-02-2020\",\"Monthly\",16.67,316887.0,39.25,\"Urban\"],[\"Chandigarh\",\" 31-03-2020\",\"Monthly\",21.43,279839.0,36.68,\"Urban\"],[\"Chandigarh\",\" 30-06-2020\",\"Monthly\",7.22,306505.0,33.8,\"Urban\"],[\"Chhattisgarh\",\" 31-05-2019\",\"Monthly\",9.77,2223129.0,45.61,\"Urban\"],[\"Chhattisgarh\",\" 30-06-2019\",\"Monthly\",11.77,2192020.0,45.88,\"Urban\"],[\"Chhattisgarh\",\" 31-07-2019\",\"Monthly\",8.17,2285436.0,45.85,\"Urban\"],[\"Chhattisgarh\",\" 31-08-2019\",\"Monthly\",6.29,2392400.0,46.91,\"Urban\"],[\"Chhattisgarh\",\" 30-09-2019\",\"Monthly\",9.46,2311507.0,46.8,\"Urban\"],[\"Chhattisgarh\",\" 31-10-2019\",\"Monthly\",10.27,2297096.0,46.82,\"Urban\"],[\"Chhattisgarh\",\" 30-11-2019\",\"Monthly\",8.32,2341284.0,46.59,\"Urban\"],[\"Chhattisgarh\",\" 31-12-2019\",\"Monthly\",3.57,2415436.0,45.59,\"Urban\"],[\"Chhattisgarh\",\" 31-01-2020\",\"Monthly\",9.01,2315972.0,46.21,\"Urban\"],[\"Chhattisgarh\",\" 29-02-2020\",\"Monthly\",9.79,2347941.0,47.14,\"Urban\"],[\"Chhattisgarh\",\" 31-03-2020\",\"Monthly\",8.21,2407509.0,47.39,\"Urban\"],[\"Chhattisgarh\",\" 30-04-2020\",\"Monthly\",20.13,1066126.0,24.06,\"Urban\"],[\"Chhattisgarh\",\" 31-05-2020\",\"Monthly\",24.1,1276291.0,30.24,\"Urban\"],[\"Chhattisgarh\",\" 30-06-2020\",\"Monthly\",27.07,1602231.0,39.41,\"Urban\"],[\"Delhi\",\" 31-05-2019\",\"Monthly\",12.31,5756475.0,44.17,\"Urban\"],[\"Delhi\",\" 30-06-2019\",\"Monthly\",12.76,5550172.0,42.71,\"Urban\"],[\"Delhi\",\" 31-07-2019\",\"Monthly\",14.68,5393091.0,42.34,\"Urban\"],[\"Delhi\",\" 31-08-2019\",\"Monthly\",13.52,5552510.0,42.9,\"Urban\"],[\"Delhi\",\" 30-09-2019\",\"Monthly\",20.59,5642253.0,47.36,\"Urban\"],[\"Delhi\",\" 31-10-2019\",\"Monthly\",12.41,6030363.0,45.78,\"Urban\"],[\"Delhi\",\" 30-11-2019\",\"Monthly\",16.11,5439600.0,43.02,\"Urban\"],[\"Delhi\",\" 31-12-2019\",\"Monthly\",11.07,5718337.0,42.56,\"Urban\"],[\"Delhi\",\" 31-01-2020\",\"Monthly\",22.45,5647493.0,48.09,\"Urban\"],[\"Delhi\",\" 29-02-2020\",\"Monthly\",14.86,5708807.0,44.18,\"Urban\"],[\"Delhi\",\" 31-03-2020\",\"Monthly\",17.09,5401392.0,42.82,\"Urban\"],[\"Delhi\",\" 30-04-2020\",\"Monthly\",16.51,3003787.0,23.59,\"Urban\"],[\"Delhi\",\" 31-05-2020\",\"Monthly\",45.78,2343783.0,28.28,\"Urban\"],[\"Delhi\",\" 30-06-2020\",\"Monthly\",18.11,4306807.0,34.32,\"Urban\"],[\"Goa\",\" 31-05-2019\",\"Monthly\",2.75,264855.0,34.17,\"Urban\"],[\"Goa\",\" 30-06-2019\",\"Monthly\",13.33,304015.0,43.96,\"Urban\"],[\"Goa\",\" 31-07-2019\",\"Monthly\",12.28,280367.0,40.0,\"Urban\"],[\"Goa\",\" 31-08-2019\",\"Monthly\",4.9,243277.0,31.97,\"Urban\"],[\"Goa\",\" 30-09-2019\",\"Monthly\",3.16,309643.0,39.92,\"Urban\"],[\"Goa\",\" 31-10-2019\",\"Monthly\",12.31,290264.0,41.27,\"Urban\"],[\"Goa\",\" 30-11-2019\",\"Monthly\",25.2,271612.0,45.22,\"Urban\"],[\"Goa\",\" 31-12-2019\",\"Monthly\",16.22,288154.0,42.77,\"Urban\"],[\"Goa\",\" 31-01-2020\",\"Monthly\",10.92,257814.0,35.95,\"Urban\"],[\"Goa\",\" 29-02-2020\",\"Monthly\",4.31,306396.0,39.73,\"Urban\"],[\"Goa\",\" 31-03-2020\",\"Monthly\",4.76,277093.0,36.05,\"Urban\"],[\"Goa\",\" 30-04-2020\",\"Monthly\",11.76,318957.0,44.74,\"Urban\"],[\"Gujarat\",\" 31-05-2019\",\"Monthly\",4.09,9686558.0,41.67,\"Urban\"],[\"Gujarat\",\" 30-06-2019\",\"Monthly\",6.31,10144965.0,44.57,\"Urban\"],[\"Gujarat\",\" 31-07-2019\",\"Monthly\",5.15,9828023.0,42.54,\"Urban\"],[\"Gujarat\",\" 31-08-2019\",\"Monthly\",4.2,10228154.0,43.72,\"Urban\"],[\"Gujarat\",\" 30-09-2019\",\"Monthly\",5.96,9609939.0,41.75,\"Urban\"],[\"Gujarat\",\" 31-10-2019\",\"Monthly\",5.45,10474217.0,45.14,\"Urban\"],[\"Gujarat\",\" 30-11-2019\",\"Monthly\",7.53,9896129.0,43.5,\"Urban\"],[\"Gujarat\",\" 31-12-2019\",\"Monthly\",5.71,10172812.0,43.75,\"Urban\"],[\"Gujarat\",\" 31-01-2020\",\"Monthly\",5.82,9824501.0,42.19,\"Urban\"],[\"Gujarat\",\" 29-02-2020\",\"Monthly\",6.04,10784753.0,46.31,\"Urban\"],[\"Gujarat\",\" 31-03-2020\",\"Monthly\",5.39,10083026.0,42.9,\"Urban\"],[\"Gujarat\",\" 30-04-2020\",\"Monthly\",25.94,6701284.0,36.33,\"Urban\"],[\"Gujarat\",\" 31-05-2020\",\"Monthly\",11.62,6072776.0,27.52,\"Urban\"],[\"Gujarat\",\" 30-06-2020\",\"Monthly\",4.54,10574711.0,44.26,\"Urban\"],[\"Haryana\",\" 31-05-2019\",\"Monthly\",24.67,2693596.0,43.18,\"Urban\"],[\"Haryana\",\" 30-06-2019\",\"Monthly\",20.42,2845190.0,43.06,\"Urban\"],[\"Haryana\",\" 31-07-2019\",\"Monthly\",25.45,2405973.0,38.77,\"Urban\"],[\"Haryana\",\" 31-08-2019\",\"Monthly\",24.19,2523005.0,39.87,\"Urban\"],[\"Haryana\",\" 30-09-2019\",\"Monthly\",26.84,2675862.0,43.7,\"Urban\"],[\"Haryana\",\" 31-10-2019\",\"Monthly\",21.04,2821456.0,42.58,\"Urban\"],[\"Haryana\",\" 30-11-2019\",\"Monthly\",27.06,2404239.0,39.18,\"Urban\"],[\"Haryana\",\" 31-12-2019\",\"Monthly\",23.65,2548835.0,39.57,\"Urban\"],[\"Haryana\",\" 31-01-2020\",\"Monthly\",27.24,2630938.0,42.75,\"Urban\"],[\"Haryana\",\" 29-02-2020\",\"Monthly\",23.29,2752834.0,42.32,\"Urban\"],[\"Haryana\",\" 31-03-2020\",\"Monthly\",27.14,2275407.0,36.73,\"Urban\"],[\"Haryana\",\" 30-04-2020\",\"Monthly\",46.89,1606580.0,35.48,\"Urban\"],[\"Haryana\",\" 31-05-2020\",\"Monthly\",38.46,2013083.0,38.27,\"Urban\"],[\"Haryana\",\" 30-06-2020\",\"Monthly\",29.41,2304138.0,38.09,\"Urban\"],[\"Himachal Pradesh\",\" 31-05-2019\",\"Monthly\",10.88,245668.0,45.27,\"Urban\"],[\"Himachal Pradesh\",\" 30-06-2019\",\"Monthly\",21.43,237576.0,49.58,\"Urban\"],[\"Himachal Pradesh\",\" 31-07-2019\",\"Monthly\",21.51,235894.0,49.22,\"Urban\"],[\"Himachal Pradesh\",\" 31-08-2019\",\"Monthly\",24.48,236315.0,51.17,\"Urban\"],[\"Himachal Pradesh\",\" 30-09-2019\",\"Monthly\",12.0,247210.0,45.87,\"Urban\"],[\"Himachal Pradesh\",\" 31-10-2019\",\"Monthly\",23.77,232322.0,49.69,\"Urban\"],[\"Himachal Pradesh\",\" 30-11-2019\",\"Monthly\",27.27,233029.0,52.17,\"Urban\"],[\"Himachal Pradesh\",\" 31-12-2019\",\"Monthly\",25.32,241366.0,52.55,\"Urban\"],[\"Himachal Pradesh\",\" 31-01-2020\",\"Monthly\",18.15,246596.0,48.92,\"Urban\"],[\"Himachal Pradesh\",\" 29-02-2020\",\"Monthly\",27.31,227804.0,50.82,\"Urban\"],[\"Himachal Pradesh\",\" 31-03-2020\",\"Monthly\",26.44,221432.0,48.74,\"Urban\"],[\"Himachal Pradesh\",\" 30-04-2020\",\"Monthly\",2.7,146957.0,24.42,\"Urban\"],[\"Himachal Pradesh\",\" 31-05-2020\",\"Monthly\",50.0,134868.0,43.55,\"Urban\"],[\"Himachal Pradesh\",\" 30-06-2020\",\"Monthly\",10.81,224902.0,40.66,\"Urban\"],[\"Jammu & Kashmir\",\" 31-05-2019\",\"Monthly\",23.04,1130139.0,46.74,\"Urban\"],[\"Jammu & Kashmir\",\" 30-06-2019\",\"Monthly\",19.88,1139815.0,45.17,\"Urban\"],[\"Jammu & Kashmir\",\" 31-07-2019\",\"Monthly\",21.55,1183770.0,47.8,\"Urban\"],[\"Jammu & Kashmir\",\" 31-10-2019\",\"Monthly\",24.06,1029087.0,42.63,\"Urban\"],[\"Jammu & Kashmir\",\" 30-11-2019\",\"Monthly\",14.29,1226793.0,44.92,\"Urban\"],[\"Jammu & Kashmir\",\" 31-12-2019\",\"Monthly\",7.02,1209085.0,40.71,\"Urban\"],[\"Jammu & Kashmir\",\" 31-01-2020\",\"Monthly\",18.54,1079537.0,41.4,\"Urban\"],[\"Jammu & Kashmir\",\" 29-02-2020\",\"Monthly\",19.86,1060116.0,41.23,\"Urban\"],[\"Jammu & Kashmir\",\" 31-03-2020\",\"Monthly\",14.29,998103.0,36.21,\"Urban\"],[\"Jammu & Kashmir\",\" 31-05-2020\",\"Monthly\",12.96,937435.0,33.33,\"Urban\"],[\"Jharkhand\",\" 31-05-2019\",\"Monthly\",17.23,2404033.0,43.25,\"Urban\"],[\"Jharkhand\",\" 30-06-2019\",\"Monthly\",20.51,2326911.0,43.51,\"Urban\"],[\"Jharkhand\",\" 31-07-2019\",\"Monthly\",15.67,2434579.0,42.82,\"Urban\"],[\"Jharkhand\",\" 31-08-2019\",\"Monthly\",20.25,2335406.0,43.35,\"Urban\"],[\"Jharkhand\",\" 30-09-2019\",\"Monthly\",21.16,2357627.0,44.18,\"Urban\"],[\"Jharkhand\",\" 31-10-2019\",\"Monthly\",19.05,2460196.0,44.82,\"Urban\"],[\"Jharkhand\",\" 30-11-2019\",\"Monthly\",17.34,2424281.0,43.17,\"Urban\"],[\"Jharkhand\",\" 31-12-2019\",\"Monthly\",22.01,2290170.0,43.14,\"Urban\"],[\"Jharkhand\",\" 31-01-2020\",\"Monthly\",22.96,2329293.0,44.33,\"Urban\"],[\"Jharkhand\",\" 29-02-2020\",\"Monthly\",19.67,2493023.0,45.42,\"Urban\"],[\"Jharkhand\",\" 31-03-2020\",\"Monthly\",16.4,2480661.0,43.34,\"Urban\"],[\"Jharkhand\",\" 30-04-2020\",\"Monthly\",61.48,1054829.0,39.92,\"Urban\"],[\"Jharkhand\",\" 31-05-2020\",\"Monthly\",70.17,830347.0,40.49,\"Urban\"],[\"Jharkhand\",\" 30-06-2020\",\"Monthly\",19.38,2244460.0,40.43,\"Urban\"],[\"Karnataka\",\" 31-05-2019\",\"Monthly\",6.56,8638239.0,40.62,\"Urban\"],[\"Karnataka\",\" 30-06-2019\",\"Monthly\",5.0,8862498.0,40.89,\"Urban\"],[\"Karnataka\",\" 31-07-2019\",\"Monthly\",2.29,8738029.0,39.09,\"Urban\"],[\"Karnataka\",\" 31-08-2019\",\"Monthly\",1.27,8614340.0,38.04,\"Urban\"],[\"Karnataka\",\" 30-09-2019\",\"Monthly\",3.57,8647794.0,39.0,\"Urban\"],[\"Karnataka\",\" 31-10-2019\",\"Monthly\",3.87,8799249.0,39.7,\"Urban\"],[\"Karnataka\",\" 30-11-2019\",\"Monthly\",3.44,8613835.0,38.6,\"Urban\"],[\"Karnataka\",\" 31-12-2019\",\"Monthly\",1.56,8592376.0,37.66,\"Urban\"],[\"Karnataka\",\" 31-01-2020\",\"Monthly\",3.31,8749154.0,38.94,\"Urban\"],[\"Karnataka\",\" 29-02-2020\",\"Monthly\",2.88,8924061.0,39.45,\"Urban\"],[\"Karnataka\",\" 31-03-2020\",\"Monthly\",4.92,9225835.0,41.55,\"Urban\"],[\"Karnataka\",\" 30-04-2020\",\"Monthly\",25.12,7387995.0,42.14,\"Urban\"],[\"Karnataka\",\" 31-05-2020\",\"Monthly\",15.88,8669258.0,43.9,\"Urban\"],[\"Karnataka\",\" 30-06-2020\",\"Monthly\",6.12,8822411.0,39.93,\"Urban\"],[\"Kerala\",\" 31-05-2019\",\"Monthly\",6.11,4605913.0,36.65,\"Urban\"],[\"Kerala\",\" 30-06-2019\",\"Monthly\",6.67,4678374.0,37.42,\"Urban\"],[\"Kerala\",\" 31-07-2019\",\"Monthly\",7.58,4105211.0,33.13,\"Urban\"],[\"Kerala\",\" 31-08-2019\",\"Monthly\",7.69,4448650.0,35.91,\"Urban\"],[\"Kerala\",\" 30-09-2019\",\"Monthly\",5.52,4640642.0,36.57,\"Urban\"],[\"Kerala\",\" 31-10-2019\",\"Monthly\",5.35,4644510.0,36.49,\"Urban\"],[\"Kerala\",\" 30-11-2019\",\"Monthly\",6.71,4062767.0,32.36,\"Urban\"],[\"Kerala\",\" 31-12-2019\",\"Monthly\",7.31,4440283.0,35.56,\"Urban\"],[\"Kerala\",\" 31-01-2020\",\"Monthly\",6.65,4597507.0,36.53,\"Urban\"],[\"Kerala\",\" 29-02-2020\",\"Monthly\",6.08,4624444.0,36.48,\"Urban\"],[\"Kerala\",\" 31-03-2020\",\"Monthly\",9.14,4079775.0,33.24,\"Urban\"],[\"Kerala\",\" 30-04-2020\",\"Monthly\",21.43,2179106.0,20.51,\"Urban\"],[\"Kerala\",\" 31-05-2020\",\"Monthly\",30.28,2826118.0,29.95,\"Urban\"],[\"Kerala\",\" 30-06-2020\",\"Monthly\",12.17,4601293.0,38.68,\"Urban\"],[\"Madhya Pradesh\",\" 31-05-2019\",\"Monthly\",3.91,6692720.0,38.96,\"Urban\"],[\"Madhya Pradesh\",\" 30-06-2019\",\"Monthly\",6.38,6509340.0,38.8,\"Urban\"],[\"Madhya Pradesh\",\" 31-07-2019\",\"Monthly\",7.38,6266446.0,37.67,\"Urban\"],[\"Madhya Pradesh\",\" 31-08-2019\",\"Monthly\",6.82,6809834.0,40.6,\"Urban\"],[\"Madhya Pradesh\",\" 30-09-2019\",\"Monthly\",7.0,6655967.0,39.67,\"Urban\"],[\"Madhya Pradesh\",\" 31-10-2019\",\"Monthly\",4.4,6603715.0,38.2,\"Urban\"],[\"Madhya Pradesh\",\" 30-11-2019\",\"Monthly\",6.06,6459457.0,37.94,\"Urban\"],[\"Madhya Pradesh\",\" 31-12-2019\",\"Monthly\",6.2,6787403.0,39.83,\"Urban\"],[\"Madhya Pradesh\",\" 31-01-2020\",\"Monthly\",5.17,6834930.0,39.59,\"Urban\"],[\"Madhya Pradesh\",\" 29-02-2020\",\"Monthly\",4.96,6533435.0,37.68,\"Urban\"],[\"Madhya Pradesh\",\" 31-03-2020\",\"Monthly\",4.8,6386723.0,36.68,\"Urban\"],[\"Madhya Pradesh\",\" 30-04-2020\",\"Monthly\",11.94,4802873.0,29.76,\"Urban\"],[\"Madhya Pradesh\",\" 31-05-2020\",\"Monthly\",40.49,3879934.0,35.49,\"Urban\"],[\"Madhya Pradesh\",\" 30-06-2020\",\"Monthly\",12.72,6221562.0,38.72,\"Urban\"],[\"Maharashtra\",\" 31-05-2019\",\"Monthly\",6.08,16962574.0,38.3,\"Urban\"],[\"Maharashtra\",\" 30-06-2019\",\"Monthly\",6.46,17375053.0,39.3,\"Urban\"],[\"Maharashtra\",\" 31-07-2019\",\"Monthly\",6.35,17215677.0,38.81,\"Urban\"],[\"Maharashtra\",\" 31-08-2019\",\"Monthly\",7.57,16602767.0,37.84,\"Urban\"],[\"Maharashtra\",\" 30-09-2019\",\"Monthly\",7.6,17396398.0,39.58,\"Urban\"],[\"Maharashtra\",\" 31-10-2019\",\"Monthly\",7.51,17221991.0,39.05,\"Urban\"],[\"Maharashtra\",\" 30-11-2019\",\"Monthly\",7.6,17486683.0,39.61,\"Urban\"],[\"Maharashtra\",\" 31-12-2019\",\"Monthly\",7.83,16581144.0,37.57,\"Urban\"],[\"Maharashtra\",\" 31-01-2020\",\"Monthly\",6.67,16715470.0,37.32,\"Urban\"],[\"Maharashtra\",\" 29-02-2020\",\"Monthly\",5.34,17122782.0,37.61,\"Urban\"],[\"Maharashtra\",\" 31-03-2020\",\"Monthly\",6.34,17065830.0,37.8,\"Urban\"],[\"Maharashtra\",\" 30-04-2020\",\"Monthly\",14.99,12674451.0,30.86,\"Urban\"],[\"Maharashtra\",\" 31-05-2020\",\"Monthly\",15.92,12365754.0,30.38,\"Urban\"],[\"Maharashtra\",\" 30-06-2020\",\"Monthly\",10.01,16172690.0,37.04,\"Urban\"],[\"Meghalaya\",\" 31-05-2019\",\"Monthly\",8.4,228978.0,47.79,\"Urban\"],[\"Meghalaya\",\" 30-06-2019\",\"Monthly\",8.66,231252.0,48.29,\"Urban\"],[\"Meghalaya\",\" 31-07-2019\",\"Monthly\",4.43,284015.0,56.55,\"Urban\"],[\"Meghalaya\",\" 31-08-2019\",\"Monthly\",5.8,259433.0,52.27,\"Urban\"],[\"Meghalaya\",\" 30-09-2019\",\"Monthly\",5.3,253887.0,50.77,\"Urban\"],[\"Meghalaya\",\" 31-10-2019\",\"Monthly\",7.2,234375.0,47.71,\"Urban\"],[\"Meghalaya\",\" 30-11-2019\",\"Monthly\",3.02,293431.0,57.02,\"Urban\"],[\"Meghalaya\",\" 31-12-2019\",\"Monthly\",5.21,267417.0,53.04,\"Urban\"],[\"Meghalaya\",\" 31-01-2020\",\"Monthly\",4.76,261687.0,51.53,\"Urban\"],[\"Meghalaya\",\" 29-02-2020\",\"Monthly\",7.37,233965.0,47.26,\"Urban\"],[\"Meghalaya\",\" 31-03-2020\",\"Monthly\",2.8,289735.0,55.64,\"Urban\"],[\"Meghalaya\",\" 30-04-2020\",\"Monthly\",17.39,161939.0,36.51,\"Urban\"],[\"Meghalaya\",\" 31-05-2020\",\"Monthly\",14.58,222916.0,48.48,\"Urban\"],[\"Odisha\",\" 31-05-2019\",\"Monthly\",2.95,2519582.0,41.26,\"Urban\"],[\"Odisha\",\" 30-06-2019\",\"Monthly\",2.63,2356290.0,38.39,\"Urban\"],[\"Odisha\",\" 31-07-2019\",\"Monthly\",1.78,2542237.0,40.99,\"Urban\"],[\"Odisha\",\" 31-08-2019\",\"Monthly\",3.5,2456983.0,40.25,\"Urban\"],[\"Odisha\",\" 30-09-2019\",\"Monthly\",3.78,2570663.0,42.15,\"Urban\"],[\"Odisha\",\" 31-10-2019\",\"Monthly\",4.5,2456855.0,40.51,\"Urban\"],[\"Odisha\",\" 30-11-2019\",\"Monthly\",2.23,2594469.0,41.71,\"Urban\"],[\"Odisha\",\" 31-12-2019\",\"Monthly\",3.36,2369048.0,38.46,\"Urban\"],[\"Odisha\",\" 31-01-2020\",\"Monthly\",2.28,2561320.0,41.05,\"Urban\"],[\"Odisha\",\" 29-02-2020\",\"Monthly\",2.19,2438080.0,38.97,\"Urban\"],[\"Odisha\",\" 31-03-2020\",\"Monthly\",3.96,2457952.0,39.93,\"Urban\"],[\"Odisha\",\" 30-04-2020\",\"Monthly\",20.5,1303244.0,25.53,\"Urban\"],[\"Odisha\",\" 31-05-2020\",\"Monthly\",10.0,1975481.0,34.12,\"Urban\"],[\"Odisha\",\" 30-06-2020\",\"Monthly\",2.18,2221069.0,35.24,\"Urban\"],[\"Puducherry\",\" 31-05-2019\",\"Monthly\",1.25,283905.0,35.71,\"Urban\"],[\"Puducherry\",\" 30-06-2019\",\"Monthly\",0.0,304369.0,37.73,\"Urban\"],[\"Puducherry\",\" 31-07-2019\",\"Monthly\",0.0,281117.0,34.77,\"Urban\"],[\"Puducherry\",\" 31-08-2019\",\"Monthly\",8.95,312882.0,42.41,\"Urban\"],[\"Puducherry\",\" 30-09-2019\",\"Monthly\",1.22,286573.0,35.73,\"Urban\"],[\"Puducherry\",\" 31-10-2019\",\"Monthly\",1.17,312548.0,38.86,\"Urban\"],[\"Puducherry\",\" 30-11-2019\",\"Monthly\",1.37,275003.0,34.19,\"Urban\"],[\"Puducherry\",\" 31-12-2019\",\"Monthly\",5.21,313135.0,40.42,\"Urban\"],[\"Puducherry\",\" 31-01-2020\",\"Monthly\",0.57,281698.0,34.59,\"Urban\"],[\"Puducherry\",\" 29-02-2020\",\"Monthly\",1.78,310342.0,38.5,\"Urban\"],[\"Puducherry\",\" 31-03-2020\",\"Monthly\",0.62,278851.0,34.12,\"Urban\"],[\"Puducherry\",\" 30-04-2020\",\"Monthly\",76.74,68122.0,35.54,\"Urban\"],[\"Puducherry\",\" 31-05-2020\",\"Monthly\",75.0,64538.0,31.25,\"Urban\"],[\"Puducherry\",\" 30-06-2020\",\"Monthly\",4.55,234926.0,29.73,\"Urban\"],[\"Punjab\",\" 31-05-2019\",\"Monthly\",13.49,3289918.0,40.03,\"Urban\"],[\"Punjab\",\" 30-06-2019\",\"Monthly\",13.17,3307798.0,40.02,\"Urban\"],[\"Punjab\",\" 31-07-2019\",\"Monthly\",11.61,3592442.0,42.62,\"Urban\"],[\"Punjab\",\" 31-08-2019\",\"Monthly\",11.99,3499863.0,41.61,\"Urban\"],[\"Punjab\",\" 30-09-2019\",\"Monthly\",15.69,3227178.0,39.97,\"Urban\"],[\"Punjab\",\" 31-10-2019\",\"Monthly\",13.75,3070438.0,37.1,\"Urban\"],[\"Punjab\",\" 30-11-2019\",\"Monthly\",10.39,3602243.0,41.82,\"Urban\"],[\"Punjab\",\" 31-12-2019\",\"Monthly\",11.97,3575778.0,42.17,\"Urban\"],[\"Punjab\",\" 31-01-2020\",\"Monthly\",13.68,3252622.0,39.04,\"Urban\"],[\"Punjab\",\" 29-02-2020\",\"Monthly\",11.99,3219227.0,37.82,\"Urban\"],[\"Punjab\",\" 31-03-2020\",\"Monthly\",9.97,3601793.0,41.29,\"Urban\"],[\"Punjab\",\" 30-04-2020\",\"Monthly\",1.13,2298975.0,23.95,\"Urban\"],[\"Punjab\",\" 31-05-2020\",\"Monthly\",20.54,2682658.0,34.71,\"Urban\"],[\"Punjab\",\" 30-06-2020\",\"Monthly\",10.55,3047750.0,34.96,\"Urban\"],[\"Rajasthan\",\" 31-05-2019\",\"Monthly\",13.62,5108436.0,39.44,\"Urban\"],[\"Rajasthan\",\" 30-06-2019\",\"Monthly\",14.36,5241174.0,40.73,\"Urban\"],[\"Rajasthan\",\" 31-07-2019\",\"Monthly\",11.67,5372470.0,40.38,\"Urban\"],[\"Rajasthan\",\" 31-08-2019\",\"Monthly\",14.71,5195170.0,40.34,\"Urban\"],[\"Rajasthan\",\" 30-09-2019\",\"Monthly\",12.63,5176819.0,39.15,\"Urban\"],[\"Rajasthan\",\" 31-10-2019\",\"Monthly\",13.02,5384335.0,40.8,\"Urban\"],[\"Rajasthan\",\" 30-11-2019\",\"Monthly\",14.3,5306715.0,40.73,\"Urban\"],[\"Rajasthan\",\" 31-12-2019\",\"Monthly\",18.04,5109481.0,40.9,\"Urban\"],[\"Rajasthan\",\" 31-01-2020\",\"Monthly\",18.82,5157363.0,41.59,\"Urban\"],[\"Rajasthan\",\" 29-02-2020\",\"Monthly\",17.02,5288343.0,41.62,\"Urban\"],[\"Rajasthan\",\" 31-03-2020\",\"Monthly\",18.54,4964911.0,39.71,\"Urban\"],[\"Rajasthan\",\" 30-04-2020\",\"Monthly\",35.53,2932923.0,29.57,\"Urban\"],[\"Rajasthan\",\" 31-05-2020\",\"Monthly\",25.35,4225486.0,36.71,\"Urban\"],[\"Rajasthan\",\" 30-06-2020\",\"Monthly\",13.04,5275784.0,39.26,\"Urban\"],[\"Sikkim\",\" 31-05-2019\",\"Monthly\",8.2,89587.0,48.61,\"Urban\"],[\"Sikkim\",\" 30-06-2019\",\"Monthly\",7.76,89702.0,48.13,\"Urban\"],[\"Sikkim\",\" 31-07-2019\",\"Monthly\",2.56,108334.0,54.67,\"Urban\"],[\"Sikkim\",\" 31-08-2019\",\"Monthly\",4.82,90850.0,46.63,\"Urban\"],[\"Sikkim\",\" 30-09-2019\",\"Monthly\",4.81,89450.0,45.61,\"Urban\"],[\"Sikkim\",\" 31-10-2019\",\"Monthly\",9.68,87974.0,46.97,\"Urban\"],[\"Sikkim\",\" 30-11-2019\",\"Monthly\",4.04,107751.0,53.8,\"Urban\"],[\"Sikkim\",\" 31-12-2019\",\"Monthly\",7.37,88035.0,45.24,\"Urban\"],[\"Sikkim\",\" 31-03-2020\",\"Monthly\",20.45,86186.0,50.57,\"Urban\"],[\"Sikkim\",\" 30-04-2020\",\"Monthly\",5.77,81905.0,40.31,\"Urban\"],[\"Sikkim\",\" 31-05-2020\",\"Monthly\",19.75,75456.0,43.32,\"Urban\"],[\"Sikkim\",\" 30-06-2020\",\"Monthly\",2.63,76269.0,35.85,\"Urban\"],[\"Tamil Nadu\",\" 31-05-2019\",\"Monthly\",0.89,11798080.0,37.31,\"Urban\"],[\"Tamil Nadu\",\" 30-06-2019\",\"Monthly\",1.56,12318745.0,39.16,\"Urban\"],[\"Tamil Nadu\",\" 31-07-2019\",\"Monthly\",3.18,12054414.0,38.89,\"Urban\"],[\"Tamil Nadu\",\" 31-08-2019\",\"Monthly\",9.53,11933093.0,41.13,\"Urban\"],[\"Tamil Nadu\",\" 30-09-2019\",\"Monthly\",1.86,11902824.0,37.76,\"Urban\"],[\"Tamil Nadu\",\" 31-10-2019\",\"Monthly\",1.13,12223948.0,38.42,\"Urban\"],[\"Tamil Nadu\",\" 30-11-2019\",\"Monthly\",2.65,11729952.0,37.38,\"Urban\"],[\"Tamil Nadu\",\" 31-12-2019\",\"Monthly\",8.05,12260389.0,41.29,\"Urban\"],[\"Tamil Nadu\",\" 31-01-2020\",\"Monthly\",2.05,11926995.0,37.64,\"Urban\"],[\"Tamil Nadu\",\" 29-02-2020\",\"Monthly\",3.31,11742101.0,37.48,\"Urban\"],[\"Tamil Nadu\",\" 31-03-2020\",\"Monthly\",6.46,10982178.0,36.17,\"Urban\"],[\"Tamil Nadu\",\" 30-04-2020\",\"Monthly\",45.55,4632967.0,26.17,\"Urban\"],[\"Tamil Nadu\",\" 31-05-2020\",\"Monthly\",25.95,5733921.0,23.77,\"Urban\"],[\"Tamil Nadu\",\" 30-06-2020\",\"Monthly\",24.93,7741005.0,31.6,\"Urban\"],[\"Telangana\",\" 31-05-2019\",\"Monthly\",1.52,5560649.0,44.59,\"Urban\"],[\"Telangana\",\" 30-06-2019\",\"Monthly\",1.43,5683349.0,45.43,\"Urban\"],[\"Telangana\",\" 31-07-2019\",\"Monthly\",3.73,5432503.0,44.36,\"Urban\"],[\"Telangana\",\" 31-08-2019\",\"Monthly\",4.19,5544693.0,45.39,\"Urban\"],[\"Telangana\",\" 30-09-2019\",\"Monthly\",6.19,5668785.0,47.28,\"Urban\"],[\"Telangana\",\" 31-10-2019\",\"Monthly\",6.74,5318341.0,44.51,\"Urban\"],[\"Telangana\",\" 30-11-2019\",\"Monthly\",5.23,5338119.0,43.87,\"Urban\"],[\"Telangana\",\" 31-12-2019\",\"Monthly\",4.22,5317782.0,43.13,\"Urban\"],[\"Telangana\",\" 31-01-2020\",\"Monthly\",6.49,5543380.0,45.95,\"Urban\"],[\"Telangana\",\" 29-02-2020\",\"Monthly\",6.74,5521496.0,45.78,\"Urban\"],[\"Telangana\",\" 31-03-2020\",\"Monthly\",6.1,5313236.0,43.65,\"Urban\"],[\"Telangana\",\" 30-04-2020\",\"Monthly\",10.5,3378431.0,29.05,\"Urban\"],[\"Telangana\",\" 31-05-2020\",\"Monthly\",36.57,3108830.0,37.63,\"Urban\"],[\"Telangana\",\" 30-06-2020\",\"Monthly\",6.92,4577995.0,37.68,\"Urban\"],[\"Tripura\",\" 31-05-2019\",\"Monthly\",34.69,423127.0,69.5,\"Urban\"],[\"Tripura\",\" 30-06-2019\",\"Monthly\",25.59,408738.0,58.8,\"Urban\"],[\"Tripura\",\" 31-07-2019\",\"Monthly\",25.81,410583.0,59.1,\"Urban\"],[\"Tripura\",\" 31-08-2019\",\"Monthly\",33.45,368977.0,59.07,\"Urban\"],[\"Tripura\",\" 30-09-2019\",\"Monthly\",33.57,418043.0,66.9,\"Urban\"],[\"Tripura\",\" 31-10-2019\",\"Monthly\",26.67,414808.0,60.0,\"Urban\"],[\"Tripura\",\" 30-11-2019\",\"Monthly\",27.15,427700.0,62.14,\"Urban\"],[\"Tripura\",\" 31-12-2019\",\"Monthly\",33.48,399427.0,63.41,\"Urban\"],[\"Tripura\",\" 31-01-2020\",\"Monthly\",34.37,450155.0,72.26,\"Urban\"],[\"Tripura\",\" 29-02-2020\",\"Monthly\",33.88,415339.0,66.04,\"Urban\"],[\"Tripura\",\" 31-03-2020\",\"Monthly\",25.69,450271.0,63.56,\"Urban\"],[\"Tripura\",\" 30-04-2020\",\"Monthly\",34.88,296431.0,47.65,\"Urban\"],[\"Tripura\",\" 31-05-2020\",\"Monthly\",16.78,384999.0,48.31,\"Urban\"],[\"Tripura\",\" 30-06-2020\",\"Monthly\",27.47,391015.0,56.17,\"Urban\"],[\"Uttar Pradesh\",\" 31-05-2019\",\"Monthly\",14.4,13391244.0,40.43,\"Urban\"],[\"Uttar Pradesh\",\" 30-06-2019\",\"Monthly\",11.62,13624452.0,39.75,\"Urban\"],[\"Uttar Pradesh\",\" 31-07-2019\",\"Monthly\",11.8,13862431.0,40.43,\"Urban\"],[\"Uttar Pradesh\",\" 31-08-2019\",\"Monthly\",14.73,13580241.0,40.87,\"Urban\"],[\"Uttar Pradesh\",\" 30-09-2019\",\"Monthly\",13.58,13522970.0,40.07,\"Urban\"],[\"Uttar Pradesh\",\" 31-10-2019\",\"Monthly\",10.35,13938303.0,39.71,\"Urban\"],[\"Uttar Pradesh\",\" 30-11-2019\",\"Monthly\",11.31,14128888.0,40.6,\"Urban\"],[\"Uttar Pradesh\",\" 31-12-2019\",\"Monthly\",12.37,13857200.0,40.21,\"Urban\"],[\"Uttar Pradesh\",\" 31-01-2020\",\"Monthly\",12.34,13656250.0,39.52,\"Urban\"],[\"Uttar Pradesh\",\" 29-02-2020\",\"Monthly\",11.65,13803099.0,39.54,\"Urban\"],[\"Uttar Pradesh\",\" 31-03-2020\",\"Monthly\",12.32,13889632.0,40.0,\"Urban\"],[\"Uttar Pradesh\",\" 30-04-2020\",\"Monthly\",26.94,10944379.0,37.74,\"Urban\"],[\"Uttar Pradesh\",\" 31-05-2020\",\"Monthly\",32.06,11111486.0,41.1,\"Urban\"],[\"Uttar Pradesh\",\" 30-06-2020\",\"Monthly\",13.05,13208724.0,38.09,\"Urban\"],[\"Uttarakhand\",\" 31-05-2019\",\"Monthly\",9.17,676797.0,26.33,\"Urban\"],[\"Uttarakhand\",\" 30-06-2019\",\"Monthly\",4.69,906889.0,33.54,\"Urban\"],[\"Uttarakhand\",\" 31-07-2019\",\"Monthly\",6.94,859900.0,32.48,\"Urban\"],[\"Uttarakhand\",\" 31-08-2019\",\"Monthly\",7.43,823967.0,31.21,\"Urban\"],[\"Uttarakhand\",\" 30-09-2019\",\"Monthly\",9.62,711150.0,27.51,\"Urban\"],[\"Uttarakhand\",\" 31-10-2019\",\"Monthly\",4.72,925174.0,33.87,\"Urban\"],[\"Uttarakhand\",\" 30-11-2019\",\"Monthly\",6.34,904903.0,33.61,\"Urban\"],[\"Uttarakhand\",\" 31-12-2019\",\"Monthly\",7.39,844779.0,31.65,\"Urban\"],[\"Uttarakhand\",\" 31-01-2020\",\"Monthly\",8.92,725253.0,27.55,\"Urban\"],[\"Uttarakhand\",\" 29-02-2020\",\"Monthly\",5.28,963408.0,35.11,\"Urban\"],[\"Uttarakhand\",\" 31-03-2020\",\"Monthly\",8.15,889245.0,33.33,\"Urban\"],[\"Uttarakhand\",\" 30-04-2020\",\"Monthly\",13.18,748041.0,29.59,\"Urban\"],[\"Uttarakhand\",\" 31-05-2020\",\"Monthly\",17.36,778590.0,32.27,\"Urban\"],[\"Uttarakhand\",\" 30-06-2020\",\"Monthly\",5.08,989470.0,35.61,\"Urban\"],[\"West Bengal\",\" 31-05-2019\",\"Monthly\",7.25,11306177.0,46.37,\"Urban\"],[\"West Bengal\",\" 30-06-2019\",\"Monthly\",7.38,10611498.0,43.51,\"Urban\"],[\"West Bengal\",\" 31-07-2019\",\"Monthly\",7.91,10779829.0,44.38,\"Urban\"],[\"West Bengal\",\" 31-08-2019\",\"Monthly\",7.27,11456493.0,46.77,\"Urban\"],[\"West Bengal\",\" 30-09-2019\",\"Monthly\",7.79,11158649.0,45.74,\"Urban\"],[\"West Bengal\",\" 31-10-2019\",\"Monthly\",7.83,10563686.0,43.25,\"Urban\"],[\"West Bengal\",\" 30-11-2019\",\"Monthly\",6.61,10768462.0,43.44,\"Urban\"],[\"West Bengal\",\" 31-12-2019\",\"Monthly\",7.24,11335696.0,45.97,\"Urban\"],[\"West Bengal\",\" 31-01-2020\",\"Monthly\",7.27,11208617.0,45.39,\"Urban\"],[\"West Bengal\",\" 29-02-2020\",\"Monthly\",7.55,10871168.0,44.09,\"Urban\"],[\"West Bengal\",\" 31-03-2020\",\"Monthly\",6.67,10806105.0,43.34,\"Urban\"],[\"West Bengal\",\" 30-04-2020\",\"Monthly\",15.63,9299466.0,41.2,\"Urban\"],[\"West Bengal\",\" 31-05-2020\",\"Monthly\",15.22,9240903.0,40.67,\"Urban\"],[\"West Bengal\",\" 30-06-2020\",\"Monthly\",9.86,9088931.0,37.57,\"Urban\"]],\"type\":\"surface\"}],                        {\"template\":{\"data\":{\"histogram2dcontour\":[{\"type\":\"histogram2dcontour\",\"colorbar\":{\"outlinewidth\":0,\"ticks\":\"\"},\"colorscale\":[[0.0,\"#0d0887\"],[0.1111111111111111,\"#46039f\"],[0.2222222222222222,\"#7201a8\"],[0.3333333333333333,\"#9c179e\"],[0.4444444444444444,\"#bd3786\"],[0.5555555555555556,\"#d8576b\"],[0.6666666666666666,\"#ed7953\"],[0.7777777777777778,\"#fb9f3a\"],[0.8888888888888888,\"#fdca26\"],[1.0,\"#f0f921\"]]}],\"choropleth\":[{\"type\":\"choropleth\",\"colorbar\":{\"outlinewidth\":0,\"ticks\":\"\"}}],\"histogram2d\":[{\"type\":\"histogram2d\",\"colorbar\":{\"outlinewidth\":0,\"ticks\":\"\"},\"colorscale\":[[0.0,\"#0d0887\"],[0.1111111111111111,\"#46039f\"],[0.2222222222222222,\"#7201a8\"],[0.3333333333333333,\"#9c179e\"],[0.4444444444444444,\"#bd3786\"],[0.5555555555555556,\"#d8576b\"],[0.6666666666666666,\"#ed7953\"],[0.7777777777777778,\"#fb9f3a\"],[0.8888888888888888,\"#fdca26\"],[1.0,\"#f0f921\"]]}],\"heatmap\":[{\"type\":\"heatmap\",\"colorbar\":{\"outlinewidth\":0,\"ticks\":\"\"},\"colorscale\":[[0.0,\"#0d0887\"],[0.1111111111111111,\"#46039f\"],[0.2222222222222222,\"#7201a8\"],[0.3333333333333333,\"#9c179e\"],[0.4444444444444444,\"#bd3786\"],[0.5555555555555556,\"#d8576b\"],[0.6666666666666666,\"#ed7953\"],[0.7777777777777778,\"#fb9f3a\"],[0.8888888888888888,\"#fdca26\"],[1.0,\"#f0f921\"]]}],\"heatmapgl\":[{\"type\":\"heatmapgl\",\"colorbar\":{\"outlinewidth\":0,\"ticks\":\"\"},\"colorscale\":[[0.0,\"#0d0887\"],[0.1111111111111111,\"#46039f\"],[0.2222222222222222,\"#7201a8\"],[0.3333333333333333,\"#9c179e\"],[0.4444444444444444,\"#bd3786\"],[0.5555555555555556,\"#d8576b\"],[0.6666666666666666,\"#ed7953\"],[0.7777777777777778,\"#fb9f3a\"],[0.8888888888888888,\"#fdca26\"],[1.0,\"#f0f921\"]]}],\"contourcarpet\":[{\"type\":\"contourcarpet\",\"colorbar\":{\"outlinewidth\":0,\"ticks\":\"\"}}],\"contour\":[{\"type\":\"contour\",\"colorbar\":{\"outlinewidth\":0,\"ticks\":\"\"},\"colorscale\":[[0.0,\"#0d0887\"],[0.1111111111111111,\"#46039f\"],[0.2222222222222222,\"#7201a8\"],[0.3333333333333333,\"#9c179e\"],[0.4444444444444444,\"#bd3786\"],[0.5555555555555556,\"#d8576b\"],[0.6666666666666666,\"#ed7953\"],[0.7777777777777778,\"#fb9f3a\"],[0.8888888888888888,\"#fdca26\"],[1.0,\"#f0f921\"]]}],\"surface\":[{\"type\":\"surface\",\"colorbar\":{\"outlinewidth\":0,\"ticks\":\"\"},\"colorscale\":[[0.0,\"#0d0887\"],[0.1111111111111111,\"#46039f\"],[0.2222222222222222,\"#7201a8\"],[0.3333333333333333,\"#9c179e\"],[0.4444444444444444,\"#bd3786\"],[0.5555555555555556,\"#d8576b\"],[0.6666666666666666,\"#ed7953\"],[0.7777777777777778,\"#fb9f3a\"],[0.8888888888888888,\"#fdca26\"],[1.0,\"#f0f921\"]]}],\"mesh3d\":[{\"type\":\"mesh3d\",\"colorbar\":{\"outlinewidth\":0,\"ticks\":\"\"}}],\"scatter\":[{\"fillpattern\":{\"fillmode\":\"overlay\",\"size\":10,\"solidity\":0.2},\"type\":\"scatter\"}],\"parcoords\":[{\"type\":\"parcoords\",\"line\":{\"colorbar\":{\"outlinewidth\":0,\"ticks\":\"\"}}}],\"scatterpolargl\":[{\"type\":\"scatterpolargl\",\"marker\":{\"colorbar\":{\"outlinewidth\":0,\"ticks\":\"\"}}}],\"bar\":[{\"error_x\":{\"color\":\"#2a3f5f\"},\"error_y\":{\"color\":\"#2a3f5f\"},\"marker\":{\"line\":{\"color\":\"#E5ECF6\",\"width\":0.5},\"pattern\":{\"fillmode\":\"overlay\",\"size\":10,\"solidity\":0.2}},\"type\":\"bar\"}],\"scattergeo\":[{\"type\":\"scattergeo\",\"marker\":{\"colorbar\":{\"outlinewidth\":0,\"ticks\":\"\"}}}],\"scatterpolar\":[{\"type\":\"scatterpolar\",\"marker\":{\"colorbar\":{\"outlinewidth\":0,\"ticks\":\"\"}}}],\"histogram\":[{\"marker\":{\"pattern\":{\"fillmode\":\"overlay\",\"size\":10,\"solidity\":0.2}},\"type\":\"histogram\"}],\"scattergl\":[{\"type\":\"scattergl\",\"marker\":{\"colorbar\":{\"outlinewidth\":0,\"ticks\":\"\"}}}],\"scatter3d\":[{\"type\":\"scatter3d\",\"line\":{\"colorbar\":{\"outlinewidth\":0,\"ticks\":\"\"}},\"marker\":{\"colorbar\":{\"outlinewidth\":0,\"ticks\":\"\"}}}],\"scattermapbox\":[{\"type\":\"scattermapbox\",\"marker\":{\"colorbar\":{\"outlinewidth\":0,\"ticks\":\"\"}}}],\"scatterternary\":[{\"type\":\"scatterternary\",\"marker\":{\"colorbar\":{\"outlinewidth\":0,\"ticks\":\"\"}}}],\"scattercarpet\":[{\"type\":\"scattercarpet\",\"marker\":{\"colorbar\":{\"outlinewidth\":0,\"ticks\":\"\"}}}],\"carpet\":[{\"aaxis\":{\"endlinecolor\":\"#2a3f5f\",\"gridcolor\":\"white\",\"linecolor\":\"white\",\"minorgridcolor\":\"white\",\"startlinecolor\":\"#2a3f5f\"},\"baxis\":{\"endlinecolor\":\"#2a3f5f\",\"gridcolor\":\"white\",\"linecolor\":\"white\",\"minorgridcolor\":\"white\",\"startlinecolor\":\"#2a3f5f\"},\"type\":\"carpet\"}],\"table\":[{\"cells\":{\"fill\":{\"color\":\"#EBF0F8\"},\"line\":{\"color\":\"white\"}},\"header\":{\"fill\":{\"color\":\"#C8D4E3\"},\"line\":{\"color\":\"white\"}},\"type\":\"table\"}],\"barpolar\":[{\"marker\":{\"line\":{\"color\":\"#E5ECF6\",\"width\":0.5},\"pattern\":{\"fillmode\":\"overlay\",\"size\":10,\"solidity\":0.2}},\"type\":\"barpolar\"}],\"pie\":[{\"automargin\":true,\"type\":\"pie\"}]},\"layout\":{\"autotypenumbers\":\"strict\",\"colorway\":[\"#636efa\",\"#EF553B\",\"#00cc96\",\"#ab63fa\",\"#FFA15A\",\"#19d3f3\",\"#FF6692\",\"#B6E880\",\"#FF97FF\",\"#FECB52\"],\"font\":{\"color\":\"#2a3f5f\"},\"hovermode\":\"closest\",\"hoverlabel\":{\"align\":\"left\"},\"paper_bgcolor\":\"white\",\"plot_bgcolor\":\"#E5ECF6\",\"polar\":{\"bgcolor\":\"#E5ECF6\",\"angularaxis\":{\"gridcolor\":\"white\",\"linecolor\":\"white\",\"ticks\":\"\"},\"radialaxis\":{\"gridcolor\":\"white\",\"linecolor\":\"white\",\"ticks\":\"\"}},\"ternary\":{\"bgcolor\":\"#E5ECF6\",\"aaxis\":{\"gridcolor\":\"white\",\"linecolor\":\"white\",\"ticks\":\"\"},\"baxis\":{\"gridcolor\":\"white\",\"linecolor\":\"white\",\"ticks\":\"\"},\"caxis\":{\"gridcolor\":\"white\",\"linecolor\":\"white\",\"ticks\":\"\"}},\"coloraxis\":{\"colorbar\":{\"outlinewidth\":0,\"ticks\":\"\"}},\"colorscale\":{\"sequential\":[[0.0,\"#0d0887\"],[0.1111111111111111,\"#46039f\"],[0.2222222222222222,\"#7201a8\"],[0.3333333333333333,\"#9c179e\"],[0.4444444444444444,\"#bd3786\"],[0.5555555555555556,\"#d8576b\"],[0.6666666666666666,\"#ed7953\"],[0.7777777777777778,\"#fb9f3a\"],[0.8888888888888888,\"#fdca26\"],[1.0,\"#f0f921\"]],\"sequentialminus\":[[0.0,\"#0d0887\"],[0.1111111111111111,\"#46039f\"],[0.2222222222222222,\"#7201a8\"],[0.3333333333333333,\"#9c179e\"],[0.4444444444444444,\"#bd3786\"],[0.5555555555555556,\"#d8576b\"],[0.6666666666666666,\"#ed7953\"],[0.7777777777777778,\"#fb9f3a\"],[0.8888888888888888,\"#fdca26\"],[1.0,\"#f0f921\"]],\"diverging\":[[0,\"#8e0152\"],[0.1,\"#c51b7d\"],[0.2,\"#de77ae\"],[0.3,\"#f1b6da\"],[0.4,\"#fde0ef\"],[0.5,\"#f7f7f7\"],[0.6,\"#e6f5d0\"],[0.7,\"#b8e186\"],[0.8,\"#7fbc41\"],[0.9,\"#4d9221\"],[1,\"#276419\"]]},\"xaxis\":{\"gridcolor\":\"white\",\"linecolor\":\"white\",\"ticks\":\"\",\"title\":{\"standoff\":15},\"zerolinecolor\":\"white\",\"automargin\":true,\"zerolinewidth\":2},\"yaxis\":{\"gridcolor\":\"white\",\"linecolor\":\"white\",\"ticks\":\"\",\"title\":{\"standoff\":15},\"zerolinecolor\":\"white\",\"automargin\":true,\"zerolinewidth\":2},\"scene\":{\"xaxis\":{\"backgroundcolor\":\"#E5ECF6\",\"gridcolor\":\"white\",\"linecolor\":\"white\",\"showbackground\":true,\"ticks\":\"\",\"zerolinecolor\":\"white\",\"gridwidth\":2},\"yaxis\":{\"backgroundcolor\":\"#E5ECF6\",\"gridcolor\":\"white\",\"linecolor\":\"white\",\"showbackground\":true,\"ticks\":\"\",\"zerolinecolor\":\"white\",\"gridwidth\":2},\"zaxis\":{\"backgroundcolor\":\"#E5ECF6\",\"gridcolor\":\"white\",\"linecolor\":\"white\",\"showbackground\":true,\"ticks\":\"\",\"zerolinecolor\":\"white\",\"gridwidth\":2}},\"shapedefaults\":{\"line\":{\"color\":\"#2a3f5f\"}},\"annotationdefaults\":{\"arrowcolor\":\"#2a3f5f\",\"arrowhead\":0,\"arrowwidth\":1},\"geo\":{\"bgcolor\":\"white\",\"landcolor\":\"#E5ECF6\",\"subunitcolor\":\"white\",\"showland\":true,\"showlakes\":true,\"lakecolor\":\"white\"},\"title\":{\"x\":0.05},\"mapbox\":{\"style\":\"light\"}}}},                        {\"responsive\": true}                    ).then(function(){\n",
       "                            \n",
       "var gd = document.getElementById('398a68be-91f0-4545-9fbe-ca73175cfd47');\n",
       "var x = new MutationObserver(function (mutations, observer) {{\n",
       "        var display = window.getComputedStyle(gd).display;\n",
       "        if (!display || display === 'none') {{\n",
       "            console.log([gd, 'removed!']);\n",
       "            Plotly.purge(gd);\n",
       "            observer.disconnect();\n",
       "        }}\n",
       "}});\n",
       "\n",
       "// Listen for the removal of the full notebook cells\n",
       "var notebookContainer = gd.closest('#notebook-container');\n",
       "if (notebookContainer) {{\n",
       "    x.observe(notebookContainer, {childList: true});\n",
       "}}\n",
       "\n",
       "// Listen for the clearing of the current output cell\n",
       "var outputEl = gd.closest('.output');\n",
       "if (outputEl) {{\n",
       "    x.observe(outputEl, {childList: true});\n",
       "}}\n",
       "\n",
       "                        })                };                });            </script>        </div>"
      ]
     },
     "metadata": {},
     "output_type": "display_data"
    }
   ],
   "source": [
    "import plotly.graph_objs as go\n",
    "go.Layout(title = \"Data Analysis(3D)\", scene = dict(xaxis_title = 'x', yaxis_title = 'y', zaxis_title = 'z'))\n",
    "plot = go.Figure(data = [go.Surface(x = df.columns, y = df.index, z = df.values)])\n",
    "plot.show()"
   ]
  },
  {
   "cell_type": "code",
   "execution_count": null,
   "id": "e432e0e4",
   "metadata": {},
   "outputs": [],
   "source": []
  }
 ],
 "metadata": {
  "kernelspec": {
   "display_name": "Python 3 (ipykernel)",
   "language": "python",
   "name": "python3"
  },
  "language_info": {
   "codemirror_mode": {
    "name": "ipython",
    "version": 3
   },
   "file_extension": ".py",
   "mimetype": "text/x-python",
   "name": "python",
   "nbconvert_exporter": "python",
   "pygments_lexer": "ipython3",
   "version": "3.10.9"
  }
 },
 "nbformat": 4,
 "nbformat_minor": 5
}
